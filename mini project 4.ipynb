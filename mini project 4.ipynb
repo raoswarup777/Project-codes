{
 "cells": [
  {
   "cell_type": "code",
   "execution_count": 7,
   "metadata": {},
   "outputs": [],
   "source": [
    "import numpy as np"
   ]
  },
  {
   "cell_type": "code",
   "execution_count": 33,
   "metadata": {},
   "outputs": [],
   "source": [
    "known_positive_1 = {'size': 'huge', 'color': 'black', 'covering': 'fur', 'foot-type': 'paw', 'leg-count': 2, 'arm-count': 4, 'eye-count': 2, 'horn-count': 0, 'lays-eggs': True, 'has-wings': True, 'has_gills': True, 'has-tail': True}\n",
    "known_positive_2 = {'size': 'large', 'color': 'white', 'covering': 'fur', 'foot-type': 'paw', 'leg-count': 2, 'arm-count': 4, 'eye-count': 2, 'horn-count': 0, 'lays-eggs': True, 'has-wings': True, 'has_gills': True, 'has-tail': False}\n",
    "known_positive_3 = {'size': 'huge', 'color': 'white', 'covering': 'fur', 'foot-type': 'paw', 'leg-count': 2, 'arm-count': 4, 'eye-count': 2, 'horn-count': 0, 'lays-eggs': True, 'has-wings': True, 'has_gills': False, 'has-tail': True}\n",
    "known_positive_4 = {'size': 'large', 'color': 'black', 'covering': 'fur', 'foot-type': 'paw', 'leg-count': 1, 'arm-count': 3, 'eye-count': 2, 'horn-count': 0, 'lays-eggs': True, 'has-wings': True, 'has_gills': True, 'has-tail': True}\n",
    "known_positive_5 = {'size': 'large', 'color': 'white', 'covering': 'fur', 'foot-type': 'foot', 'leg-count': 2, 'arm-count': 4, 'eye-count': 2, 'horn-count': 0, 'lays-eggs': True, 'has-wings': True, 'has_gills': False, 'has-tail': False}\n",
    "known_negative_1 = {'size': 'large', 'color': 'blue', 'covering': 'fur', 'foot-type': 'paw', 'leg-count': 2, 'arm-count': 4, 'eye-count': 2, 'horn-count': 0, 'lays-eggs': True, 'has-wings': True, 'has_gills': True, 'has-tail': True}\n",
    "known_negative_2 = {'size': 'tiny', 'color': 'red', 'covering': 'scales', 'foot-type': 'none', 'leg-count': 0, 'arm-count': 8, 'eye-count': 8, 'horn-count': 2, 'lays-eggs': False, 'has-wings': False, 'has_gills': False, 'has-tail': False}\n",
    "known_negative_3 = {'size': 'medium', 'color': 'gray', 'covering': 'fur', 'foot-type': 'foot', 'leg-count': 2, 'arm-count': 6, 'eye-count': 2, 'horn-count': 0, 'lays-eggs': True, 'has-wings': False, 'has_gills': False, 'has-tail': False}\n",
    "known_negative_4 = {'size': 'huge', 'color': 'black', 'covering': 'fur', 'foot-type': 'paw', 'leg-count': 2, 'arm-count': 6, 'eye-count': 2, 'horn-count': 2, 'lays-eggs': True, 'has-wings': True, 'has_gills': False, 'has-tail': False}\n",
    "known_negative_5 = {'size': 'medium', 'color': 'purple', 'covering': 'fur', 'foot-type': 'talon', 'leg-count': 2, 'arm-count': 4, 'eye-count': 2, 'horn-count': 0, 'lays-eggs': False, 'has-wings': False, 'has_gills': True, 'has-tail': False}\n",
    "\n",
    "\n",
    "monster_list = [(known_positive_1, True), (known_positive_2, True), (known_positive_3, True), (known_positive_4, True), (known_positive_5, True),\n",
    "            (known_negative_1, False), (known_negative_2, False), (known_negative_3, False), (known_negative_4, False), (known_negative_5, False)]\n",
    "\n",
    "new_monster_1 = {'size': 'large', 'color': 'black', 'covering': 'fur', 'foot-type': 'paw', 'leg-count': 1, 'arm-count': 3, 'eye-count': 2, 'horn-count': 0, 'lays-eggs': True, 'has-wings': True, 'has_gills': True, 'has-tail': True}\n",
    "new_monster_2 = {'size': 'tiny', 'color': 'red', 'covering': 'scales', 'foot-type': 'none', 'leg-count': 0, 'arm-count': 8, 'eye-count': 8, 'horn-count': 2, 'lays-eggs': False, 'has-wings': False, 'has_gills': False, 'has-tail': False}\n",
    "new_monster_3 = {'size': 'large', 'color': 'gray', 'covering': 'fur', 'foot-type': 'foot', 'leg-count': 1, 'arm-count': 3, 'eye-count': 2, 'horn-count': 0, 'lays-eggs': True, 'has-wings': True, 'has_gills': False, 'has-tail': False}\n",
    "new_monster_4 = {'size': 'small', 'color': 'black', 'covering': 'scales', 'foot-type': 'paw', 'leg-count': 2, 'arm-count': 4, 'eye-count': 2, 'horn-count': 0, 'lays-eggs': True, 'has-wings': True, 'has_gills': False, 'has-tail': False}\n"
   ]
  },
  {
   "cell_type": "code",
   "execution_count": 34,
   "metadata": {},
   "outputs": [],
   "source": [
    "new_monster = new_monster_2"
   ]
  },
  {
   "cell_type": "code",
   "execution_count": 35,
   "metadata": {},
   "outputs": [
    {
     "data": {
      "text/plain": [
       "False"
      ]
     },
     "execution_count": 35,
     "metadata": {},
     "output_type": "execute_result"
    }
   ],
   "source": [
    "#Branches in the tree\n",
    "dct_original = {}\n",
    "for i in range(0,12):\n",
    "    dct_original['lst_%s' % i] = []\n",
    "    for j in range(0,len(monster_list)):\n",
    "        dct_original['lst_%s' % i].append(list(monster_list[j][0].values())[i]) \n",
    "output=[]\n",
    "for i in range(0,len(monster_list)):\n",
    "    output.append(monster_list[i][1])\n",
    "dct_original['output'] = output\n",
    "dct = dct_original\n",
    "feature_gini=[]\n",
    "feature_gini_combination=[]\n",
    "tree_dict = {}\n",
    "tree_item=0\n",
    "non_zero =[]\n",
    "flag_iter=0\n",
    "item_filter='root'\n",
    "filtered_items_list=[]  \n",
    "total_iterations=0\n",
    "while flag_iter==0:\n",
    "    for i in range(0,(len(dct)-1)):\n",
    "        values, counts = np.unique(list(dct.values())[i], return_counts=True)\n",
    "        weights = []\n",
    "        for j in range(0,len(counts)):\n",
    "            weights.append(counts[j]/sum(counts))\n",
    "\n",
    "        level_positives=[]\n",
    "        for j in range(0,len(values)):\n",
    "            true_count=0\n",
    "            for k in range(0,len(list(dct.values())[i])):\n",
    "                if values[j] == list(dct.values())[i][k] and dct['output'][k] == True:\n",
    "                    true_count = true_count+1\n",
    "            level_positives.append(true_count)\n",
    "        positives_negatives=[]\n",
    "        level_negatives=[]\n",
    "        for j in range(0,len(values)):\n",
    "            true_count=0\n",
    "            for k in range(0,len(list(dct.values())[i])):\n",
    "                if values[j] == list(dct.values())[i][k] and dct['output'][k] == False:\n",
    "                    true_count = true_count+1\n",
    "            level_negatives.append(true_count)\n",
    "\n",
    "        gini_levels=[]\n",
    "        for j in range(0,len(values)):\n",
    "            gini=0\n",
    "            gini = ((level_positives[j]/counts[j])*(1-(level_positives[j]/counts[j])))+ ((level_negatives[j]/counts[j])*(1-(level_negatives[j]/counts[j])))\n",
    "            gini = gini* weights[j]\n",
    "            gini_levels.append(gini)\n",
    "            positives_negatives.append((level_positives[j],level_negatives[j]))\n",
    "        feature_gini_combination.append((list(dct.keys())[i],(gini_levels),values,positives_negatives))\n",
    "        feature_gini.append(sum(gini_levels))\n",
    "\n",
    "    for j in range(0,len(feature_gini_combination[feature_gini.index(min(feature_gini))][1])):\n",
    "        if feature_gini_combination[feature_gini.index(min(feature_gini))][1][j] > 0:\n",
    "            non_zero.append(feature_gini_combination[feature_gini.index(min(feature_gini))][2][j])\n",
    "    zero =[]   \n",
    "    for j in range(0,len(feature_gini_combination[feature_gini.index(min(feature_gini))][1])):\n",
    "        if feature_gini_combination[feature_gini.index(min(feature_gini))][1][j] == 0:\n",
    "            zero.append(((feature_gini_combination[feature_gini.index(min(feature_gini))][0]),(feature_gini_combination[feature_gini.index(min(feature_gini))][2][j]),(feature_gini_combination[feature_gini.index(min(feature_gini))][3][j])))\n",
    "\n",
    "    if zero:\n",
    "        for j in range(0,len(zero)):\n",
    "            tree_item = tree_item+1\n",
    "            if total_iterations == 0:\n",
    "                tree_dict['node_%s' % tree_item] = (zero[j],['root'])\n",
    "            else:\n",
    "                 tree_dict['node_%s' % tree_item] = (zero[j],filtered_items_list)\n",
    "\n",
    "    if not(non_zero):\n",
    "        flag_iter = 1\n",
    "        \n",
    "    total_iterations+=1\n",
    "    item_filter='Null'\n",
    "    if non_zero:    \n",
    "        item_filter = non_zero.pop()\n",
    "        filtered_items_list.append(item_filter)\n",
    "\n",
    "    if item_filter != 'Null':\n",
    "        d = {k: [x for l, x in enumerate(v) if dct[feature_gini_combination[feature_gini.index(min(feature_gini))][0]][l]==item_filter] \n",
    "                                  for k, v in dct.items()}\n",
    "    dct=d\n",
    "dict2={}\n",
    "for i in range(0,len(new_monster)):\n",
    "    dict2['lst_%s' % i] = list(new_monster.values())[i]\n",
    "\n",
    "#branches in tree\n",
    "all_branches=[]\n",
    "for i in range(0,len(tree_dict)):\n",
    "    if not(list(tree_dict.values())[i][0][0] in all_branches):\n",
    "        for j in range(0,len(dict2)):\n",
    "            if list(dict2.keys())[j]==list(tree_dict.values())[i][0][0]:\n",
    "                all_branches.append((list(tree_dict.values())[i][0][0],list(dict2.values())[j]))\n",
    "\n",
    "dist_branches=[]\n",
    "for i in range(0,len(all_branches)):\n",
    "    if not(all_branches[i] in dist_branches ):\n",
    "        dist_branches.append(all_branches[i])\n",
    "        \n",
    "output='Null'\n",
    "for i in range(0,len(tree_dict)):\n",
    "    for j in range(0,len(dist_branches)):\n",
    "        if list(tree_dict.values())[i][0][0] == dist_branches[j][0] and list(tree_dict.values())[i][0][1]==dist_branches[j][1] and output=='Null':\n",
    "            if list(tree_dict.values())[i][0][2][0] > 0:\n",
    "                output=True\n",
    "                break\n",
    "            else:\n",
    "                output=False\n",
    "                break\n",
    "output"
   ]
  },
  {
   "cell_type": "code",
   "execution_count": 24,
   "metadata": {},
   "outputs": [],
   "source": [
    "#Branches in the tree\n",
    "dct_original = {}\n",
    "for i in range(0,12):\n",
    "    dct_original['lst_%s' % i] = []\n",
    "    for j in range(0,len(monster_list)):\n",
    "        dct_original['lst_%s' % i].append(list(monster_list[j][0].values())[i]) \n",
    "output=[]\n",
    "for i in range(0,len(monster_list)):\n",
    "    output.append(monster_list[i][1])\n",
    "dct_original['output'] = output\n",
    "dct = dct_original\n",
    "feature_gini=[]\n",
    "feature_gini_combination=[]\n",
    "tree_dict = {}\n",
    "tree_item=0\n",
    "non_zero =[]\n",
    "flag_iter=0\n",
    "item_filter='root'\n",
    "filtered_items_list=[]  \n",
    "total_iterations=0"
   ]
  },
  {
   "cell_type": "code",
   "execution_count": 25,
   "metadata": {},
   "outputs": [],
   "source": [
    "for i in range(0,(len(dct)-1)):\n",
    "    values, counts = np.unique(list(dct.values())[i], return_counts=True)\n",
    "    weights = []\n",
    "    for j in range(0,len(counts)):\n",
    "        weights.append(counts[j]/sum(counts))\n",
    "\n",
    "    level_positives=[]\n",
    "    for j in range(0,len(values)):\n",
    "        true_count=0\n",
    "        for k in range(0,len(list(dct.values())[i])):\n",
    "            if values[j] == list(dct.values())[i][k] and dct['output'][k] == True:\n",
    "                true_count = true_count+1\n",
    "        level_positives.append(true_count)\n",
    "    positives_negatives=[]\n",
    "    level_negatives=[]\n",
    "    for j in range(0,len(values)):\n",
    "        true_count=0\n",
    "        for k in range(0,len(list(dct.values())[i])):\n",
    "            if values[j] == list(dct.values())[i][k] and dct['output'][k] == False:\n",
    "                true_count = true_count+1\n",
    "        level_negatives.append(true_count)\n",
    "\n",
    "    gini_levels=[]\n",
    "    for j in range(0,len(values)):\n",
    "        gini=0\n",
    "        gini = ((level_positives[j]/counts[j])*(1-(level_positives[j]/counts[j])))+ ((level_negatives[j]/counts[j])*(1-(level_negatives[j]/counts[j])))\n",
    "        gini = gini* weights[j]\n",
    "        gini_levels.append(gini)\n",
    "        positives_negatives.append((level_positives[j],level_negatives[j]))\n",
    "    feature_gini_combination.append((list(dct.keys())[i],(gini_levels),values,positives_negatives))\n",
    "    feature_gini.append(sum(gini_levels))\n",
    "\n"
   ]
  },
  {
   "cell_type": "code",
   "execution_count": 27,
   "metadata": {
    "scrolled": true
   },
   "outputs": [
    {
     "data": {
      "text/plain": [
       "[('lst_0',\n",
       "  [0.13333333333333333, 0.15000000000000002, 0.0, 0.0],\n",
       "  array(['huge', 'large', 'medium', 'tiny'], dtype='<U6'),\n",
       "  [(2, 1), (3, 1), (0, 2), (0, 1)]),\n",
       " ('lst_1',\n",
       "  [0.13333333333333333, 0.0, 0.0, 0.0, 0.0, 0.0],\n",
       "  array(['black', 'blue', 'gray', 'purple', 'red', 'white'], dtype='<U6'),\n",
       "  [(2, 1), (0, 1), (0, 1), (0, 1), (0, 1), (3, 0)]),\n",
       " ('lst_2',\n",
       "  [0.4444444444444444, 0.0],\n",
       "  array(['fur', 'scales'], dtype='<U6'),\n",
       "  [(5, 4), (0, 1)]),\n",
       " ('lst_3',\n",
       "  [0.1, 0.0, 0.26666666666666666, 0.0],\n",
       "  array(['foot', 'none', 'paw', 'talon'], dtype='<U5'),\n",
       "  [(1, 1), (0, 1), (4, 2), (0, 1)]),\n",
       " ('lst_4', [0.0, 0.0, 0.4], array([0, 1, 2]), [(0, 1), (1, 0), (4, 4)]),\n",
       " ('lst_5',\n",
       "  [0.0, 0.26666666666666666, 0.0, 0.0],\n",
       "  array([3, 4, 6, 8]),\n",
       "  [(1, 0), (4, 2), (0, 2), (0, 1)]),\n",
       " ('lst_6', [0.4444444444444444, 0.0], array([2, 8]), [(5, 4), (0, 1)]),\n",
       " ('lst_7', [0.375, 0.0], array([0, 2]), [(5, 3), (0, 2)]),\n",
       " ('lst_8', [0.0, 0.375], array([False,  True]), [(0, 2), (5, 3)]),\n",
       " ('lst_9', [0.0, 0.2857142857142857], array([False,  True]), [(0, 3), (5, 2)]),\n",
       " ('lst_10', [0.24, 0.24], array([False,  True]), [(2, 3), (3, 2)]),\n",
       " ('lst_11',\n",
       "  [0.26666666666666666, 0.15000000000000002],\n",
       "  array([False,  True]),\n",
       "  [(2, 4), (3, 1)])]"
      ]
     },
     "execution_count": 27,
     "metadata": {},
     "output_type": "execute_result"
    }
   ],
   "source": [
    "feature_gini_combination"
   ]
  },
  {
   "cell_type": "code",
   "execution_count": 30,
   "metadata": {},
   "outputs": [],
   "source": [
    "for j in range(0,len(feature_gini_combination[feature_gini.index(min(feature_gini))][1])):\n",
    "    if feature_gini_combination[feature_gini.index(min(feature_gini))][1][j] > 0:\n",
    "        non_zero.append(feature_gini_combination[feature_gini.index(min(feature_gini))][2][j])"
   ]
  },
  {
   "cell_type": "code",
   "execution_count": 31,
   "metadata": {},
   "outputs": [
    {
     "data": {
      "text/plain": [
       "['black']"
      ]
     },
     "execution_count": 31,
     "metadata": {},
     "output_type": "execute_result"
    }
   ],
   "source": [
    "non_zero"
   ]
  },
  {
   "cell_type": "code",
   "execution_count": 23,
   "metadata": {},
   "outputs": [
    {
     "data": {
      "text/plain": [
       "[]"
      ]
     },
     "execution_count": 23,
     "metadata": {},
     "output_type": "execute_result"
    }
   ],
   "source": [
    "for j in range(0,len(feature_gini_combination[feature_gini.index(min(feature_gini))][1])):\n",
    "    if feature_gini_combination[feature_gini.index(min(feature_gini))][1][j] > 0:\n",
    "        non_zero.append(feature_gini_combination[feature_gini.index(min(feature_gini))][2][j])\n",
    "zero =[]   \n",
    "for j in range(0,len(feature_gini_combination[feature_gini.index(min(feature_gini))][1])):\n",
    "    if feature_gini_combination[feature_gini.index(min(feature_gini))][1][j] == 0:\n",
    "        zero.append(((feature_gini_combination[feature_gini.index(min(feature_gini))][0]),(feature_gini_combination[feature_gini.index(min(feature_gini))][2][j]),(feature_gini_combination[feature_gini.index(min(feature_gini))][3][j])))\n",
    "\n",
    "if zero:\n",
    "    for j in range(0,len(zero)):\n",
    "        tree_item = tree_item+1\n",
    "        if total_iterations == 0:\n",
    "            tree_dict['node_%s' % tree_item] = (zero[j],['root'])\n",
    "        else:\n",
    "             tree_dict['node_%s' % tree_item] = (zero[j],filtered_items_list)\n",
    "\n",
    "if not(non_zero):\n",
    "    flag_iter = 1\n",
    "\n",
    "total_iterations+=1\n",
    "\n",
    "if non_zero:    \n",
    "    item_filter = non_zero.pop()\n",
    "    filtered_items_list.append(item_filter)\n",
    "\n",
    "if non_zero:\n",
    "    d = {k: [x for l, x in enumerate(v) if dct[feature_gini_combination[feature_gini.index(min(feature_gini))][0]][l]==item_filter] \n",
    "                              for k, v in dct.items()}"
   ]
  },
  {
   "cell_type": "code",
   "execution_count": 19,
   "metadata": {},
   "outputs": [
    {
     "data": {
      "text/plain": [
       "[]"
      ]
     },
     "execution_count": 19,
     "metadata": {},
     "output_type": "execute_result"
    }
   ],
   "source": [
    "non_zero"
   ]
  },
  {
   "cell_type": "code",
   "execution_count": 4,
   "metadata": {},
   "outputs": [],
   "source": [
    "    \n",
    "    for i in range(0,(len(dct)-1)):\n",
    "        values, counts = np.unique(list(dct.values())[i], return_counts=True)\n",
    "        weights = []\n",
    "        for j in range(0,len(counts)):\n",
    "            weights.append(counts[j]/sum(counts))\n",
    "\n",
    "        level_positives=[]\n",
    "        for j in range(0,len(values)):\n",
    "            true_count=0\n",
    "            for k in range(0,len(list(dct.values())[i])):\n",
    "                if values[j] == list(dct.values())[i][k] and dct['output'][k] == True:\n",
    "                    true_count = true_count+1\n",
    "            level_positives.append(true_count)\n",
    "        positives_negatives=[]\n",
    "        level_negatives=[]\n",
    "        for j in range(0,len(values)):\n",
    "            true_count=0\n",
    "            for k in range(0,len(list(dct.values())[i])):\n",
    "                if values[j] == list(dct.values())[i][k] and dct['output'][k] == False:\n",
    "                    true_count = true_count+1\n",
    "            level_negatives.append(true_count)\n",
    "\n",
    "        gini_levels=[]\n",
    "        for j in range(0,len(values)):\n",
    "            gini=0\n",
    "            gini = ((level_positives[j]/counts[j])*(1-(level_positives[j]/counts[j])))+ ((level_negatives[j]/counts[j])*(1-(level_negatives[j]/counts[j])))\n",
    "            gini = gini* weights[j]\n",
    "            gini_levels.append(gini)\n",
    "            positives_negatives.append((level_positives[j],level_negatives[j]))\n",
    "        feature_gini_combination.append((list(dct.keys())[i],(gini_levels),values,positives_negatives))\n",
    "        feature_gini.append(sum(gini_levels))\n",
    "\n",
    "    for j in range(0,len(feature_gini_combination[feature_gini.index(min(feature_gini))][1])):\n",
    "        if feature_gini_combination[feature_gini.index(min(feature_gini))][1][j] > 0:\n",
    "            non_zero.append(feature_gini_combination[feature_gini.index(min(feature_gini))][2][j])\n",
    "    zero =[]   \n",
    "    for j in range(0,len(feature_gini_combination[feature_gini.index(min(feature_gini))][1])):\n",
    "        if feature_gini_combination[feature_gini.index(min(feature_gini))][1][j] == 0:\n",
    "            zero.append(((feature_gini_combination[feature_gini.index(min(feature_gini))][0]),(feature_gini_combination[feature_gini.index(min(feature_gini))][2][j]),(feature_gini_combination[feature_gini.index(min(feature_gini))][3][j])))\n",
    "\n",
    "    if zero:\n",
    "        for j in range(0,len(zero)):\n",
    "            tree_item = tree_item+1\n",
    "            if total_iterations == 0:\n",
    "                tree_dict['node_%s' % tree_item] = (zero[j],['root'])\n",
    "            else:\n",
    "                 tree_dict['node_%s' % tree_item] = (zero[j],filtered_items_list)\n",
    "\n",
    "    if not(non_zero):\n",
    "        flag_iter = 1\n",
    "        \n",
    "    total_iterations+=1\n",
    "    \n",
    "    if non_zero:    \n",
    "        item_filter = non_zero.pop()\n",
    "        filtered_items_list.append(item_filter)\n",
    "\n",
    "    if non_zero:\n",
    "        d = {k: [x for l, x in enumerate(v) if dct[feature_gini_combination[feature_gini.index(min(feature_gini))][0]][l]==item_filter] \n",
    "                                  for k, v in dct.items()}\n",
    "    dct=d"
   ]
  },
  {
   "cell_type": "code",
   "execution_count": 5,
   "metadata": {},
   "outputs": [
    {
     "data": {
      "text/plain": [
       "{}"
      ]
     },
     "execution_count": 5,
     "metadata": {},
     "output_type": "execute_result"
    }
   ],
   "source": [
    "dct"
   ]
  },
  {
   "cell_type": "code",
   "execution_count": 428,
   "metadata": {},
   "outputs": [],
   "source": [
    "for j in range(0,len(feature_gini_combination[feature_gini.index(min(feature_gini))][1])):\n",
    "    if feature_gini_combination[feature_gini.index(min(feature_gini))][1][j] > 0:\n",
    "        non_zero.append(feature_gini_combination[feature_gini.index(min(feature_gini))][2][j])\n",
    "zero =[]   \n",
    "for j in range(0,len(feature_gini_combination[feature_gini.index(min(feature_gini))][1])):\n",
    "    if feature_gini_combination[feature_gini.index(min(feature_gini))][1][j] == 0:\n",
    "        zero.append(((feature_gini_combination[feature_gini.index(min(feature_gini))][0]),(feature_gini_combination[feature_gini.index(min(feature_gini))][2][j]),(feature_gini_combination[feature_gini.index(min(feature_gini))][3][j])))\n",
    "\n",
    "if zero:\n",
    "    for j in range(0,len(zero)):\n",
    "        tree_item = tree_item+1\n",
    "        if total_iterations == 0:\n",
    "            tree_dict['node_%s' % tree_item] = (zero[j],['root'])\n",
    "        else:\n",
    "             tree_dict['node_%s' % tree_item] = (zero[j],filtered_items_list)\n",
    "\n",
    "if not(non_zero):\n",
    "    flag_iter = 1\n",
    "\n",
    "total_iterations+=1\n",
    "\n",
    "if non_zero:    \n",
    "    item_filter = non_zero.pop()\n",
    "    filtered_items_list.append(item_filter)\n",
    "\n",
    "if non_zero:\n",
    "    d = {k: [x for l, x in enumerate(v) if dct[feature_gini_combination[feature_gini.index(min(feature_gini))][0]][l]==item_filter] \n",
    "                                  for k, v in dct.items()}\n",
    "# dct = d\n",
    "\n"
   ]
  },
  {
   "cell_type": "code",
   "execution_count": 429,
   "metadata": {},
   "outputs": [
    {
     "data": {
      "text/plain": [
       "{'lst_0': ['huge', 'large', 'huge'],\n",
       " 'lst_1': ['black', 'black', 'black'],\n",
       " 'lst_2': ['fur', 'fur', 'fur'],\n",
       " 'lst_3': ['paw', 'paw', 'paw'],\n",
       " 'lst_4': [2, 1, 2],\n",
       " 'lst_5': [4, 3, 6],\n",
       " 'lst_6': [2, 2, 2],\n",
       " 'lst_7': [0, 0, 2],\n",
       " 'lst_8': [True, True, True],\n",
       " 'lst_9': [True, True, True],\n",
       " 'lst_10': [True, True, False],\n",
       " 'lst_11': [True, True, False],\n",
       " 'output': [True, True, False]}"
      ]
     },
     "execution_count": 429,
     "metadata": {},
     "output_type": "execute_result"
    }
   ],
   "source": [
    "d"
   ]
  },
  {
   "cell_type": "code",
   "execution_count": 424,
   "metadata": {
    "scrolled": true
   },
   "outputs": [],
   "source": [
    "if non_zero:\n",
    "    d = {k: [x for l, x in enumerate(v) if dct[feature_gini_combination[feature_gini.index(min(feature_gini))][0]][l]==item_filter] \n",
    "                                  for k, v in dct.items()}"
   ]
  },
  {
   "cell_type": "code",
   "execution_count": 425,
   "metadata": {},
   "outputs": [
    {
     "data": {
      "text/plain": [
       "{'lst_0': ['huge', 'large', 'huge'],\n",
       " 'lst_1': ['black', 'black', 'black'],\n",
       " 'lst_2': ['fur', 'fur', 'fur'],\n",
       " 'lst_3': ['paw', 'paw', 'paw'],\n",
       " 'lst_4': [2, 1, 2],\n",
       " 'lst_5': [4, 3, 6],\n",
       " 'lst_6': [2, 2, 2],\n",
       " 'lst_7': [0, 0, 2],\n",
       " 'lst_8': [True, True, True],\n",
       " 'lst_9': [True, True, True],\n",
       " 'lst_10': [True, True, False],\n",
       " 'lst_11': [True, True, False],\n",
       " 'output': [True, True, False]}"
      ]
     },
     "execution_count": 425,
     "metadata": {},
     "output_type": "execute_result"
    }
   ],
   "source": [
    "d"
   ]
  },
  {
   "cell_type": "code",
   "execution_count": 412,
   "metadata": {},
   "outputs": [
    {
     "data": {
      "text/plain": [
       "'lst_1'"
      ]
     },
     "execution_count": 412,
     "metadata": {},
     "output_type": "execute_result"
    }
   ],
   "source": [
    "feature_gini_combination[feature_gini.index(min(feature_gini))][0]"
   ]
  },
  {
   "cell_type": "code",
   "execution_count": 415,
   "metadata": {},
   "outputs": [],
   "source": [
    "d = {k: [x for i, x in enumerate(v) if dct['lst_1'][i]=='black'] \n",
    "                                      for k, v in dct.items()}"
   ]
  },
  {
   "cell_type": "code",
   "execution_count": 420,
   "metadata": {},
   "outputs": [
    {
     "data": {
      "text/plain": [
       "{'lst_0': ['huge',\n",
       "  'large',\n",
       "  'huge',\n",
       "  'large',\n",
       "  'large',\n",
       "  'large',\n",
       "  'tiny',\n",
       "  'medium',\n",
       "  'huge',\n",
       "  'medium'],\n",
       " 'lst_1': ['black',\n",
       "  'white',\n",
       "  'white',\n",
       "  'black',\n",
       "  'white',\n",
       "  'blue',\n",
       "  'red',\n",
       "  'gray',\n",
       "  'black',\n",
       "  'purple'],\n",
       " 'lst_2': ['fur',\n",
       "  'fur',\n",
       "  'fur',\n",
       "  'fur',\n",
       "  'fur',\n",
       "  'fur',\n",
       "  'scales',\n",
       "  'fur',\n",
       "  'fur',\n",
       "  'fur'],\n",
       " 'lst_3': ['paw',\n",
       "  'paw',\n",
       "  'paw',\n",
       "  'paw',\n",
       "  'foot',\n",
       "  'paw',\n",
       "  'none',\n",
       "  'foot',\n",
       "  'paw',\n",
       "  'talon'],\n",
       " 'lst_4': [2, 2, 2, 1, 2, 2, 0, 2, 2, 2],\n",
       " 'lst_5': [4, 4, 4, 3, 4, 4, 8, 6, 6, 4],\n",
       " 'lst_6': [2, 2, 2, 2, 2, 2, 8, 2, 2, 2],\n",
       " 'lst_7': [0, 0, 0, 0, 0, 0, 2, 0, 2, 0],\n",
       " 'lst_8': [True, True, True, True, True, True, False, True, True, False],\n",
       " 'lst_9': [True, True, True, True, True, True, False, False, True, False],\n",
       " 'lst_10': [True, True, False, True, False, True, False, False, False, True],\n",
       " 'lst_11': [True, False, True, True, False, True, False, False, False, False],\n",
       " 'output': [True, True, True, True, True, False, False, False, False, False]}"
      ]
     },
     "execution_count": 420,
     "metadata": {},
     "output_type": "execute_result"
    }
   ],
   "source": [
    "dct"
   ]
  },
  {
   "cell_type": "code",
   "execution_count": 409,
   "metadata": {},
   "outputs": [
    {
     "data": {
      "text/plain": [
       "{'lst_0': ['huge',\n",
       "  'large',\n",
       "  'huge',\n",
       "  'large',\n",
       "  'large',\n",
       "  'large',\n",
       "  'tiny',\n",
       "  'medium',\n",
       "  'huge',\n",
       "  'medium'],\n",
       " 'lst_1': ['black',\n",
       "  'white',\n",
       "  'white',\n",
       "  'black',\n",
       "  'white',\n",
       "  'blue',\n",
       "  'red',\n",
       "  'gray',\n",
       "  'black',\n",
       "  'purple'],\n",
       " 'lst_2': ['fur',\n",
       "  'fur',\n",
       "  'fur',\n",
       "  'fur',\n",
       "  'fur',\n",
       "  'fur',\n",
       "  'scales',\n",
       "  'fur',\n",
       "  'fur',\n",
       "  'fur'],\n",
       " 'lst_3': ['paw',\n",
       "  'paw',\n",
       "  'paw',\n",
       "  'paw',\n",
       "  'foot',\n",
       "  'paw',\n",
       "  'none',\n",
       "  'foot',\n",
       "  'paw',\n",
       "  'talon'],\n",
       " 'lst_4': [2, 2, 2, 1, 2, 2, 0, 2, 2, 2],\n",
       " 'lst_5': [4, 4, 4, 3, 4, 4, 8, 6, 6, 4],\n",
       " 'lst_6': [2, 2, 2, 2, 2, 2, 8, 2, 2, 2],\n",
       " 'lst_7': [0, 0, 0, 0, 0, 0, 2, 0, 2, 0],\n",
       " 'lst_8': [True, True, True, True, True, True, False, True, True, False],\n",
       " 'lst_9': [True, True, True, True, True, True, False, False, True, False],\n",
       " 'lst_10': [True, True, False, True, False, True, False, False, False, True],\n",
       " 'lst_11': [True, False, True, True, False, True, False, False, False, False],\n",
       " 'output': [True, True, True, True, True, False, False, False, False, False]}"
      ]
     },
     "execution_count": 409,
     "metadata": {},
     "output_type": "execute_result"
    }
   ],
   "source": [
    "dct"
   ]
  },
  {
   "cell_type": "code",
   "execution_count": 399,
   "metadata": {},
   "outputs": [
    {
     "data": {
      "text/plain": [
       "['black',\n",
       " 'white',\n",
       " 'white',\n",
       " 'black',\n",
       " 'white',\n",
       " 'blue',\n",
       " 'red',\n",
       " 'gray',\n",
       " 'black',\n",
       " 'purple']"
      ]
     },
     "execution_count": 399,
     "metadata": {},
     "output_type": "execute_result"
    }
   ],
   "source": [
    "dct[feature_gini_combination[feature_gini.index(min(feature_gini))][0]]"
   ]
  },
  {
   "cell_type": "code",
   "execution_count": 354,
   "metadata": {},
   "outputs": [],
   "source": [
    "#branches in tree\n",
    "all_branches=[]\n",
    "for i in range(0,len(tree_dict)):\n",
    "    if not(list(tree_dict.values())[i][0][0] in all_branches):\n",
    "        for j in range(0,len(dict2)):\n",
    "            if list(dict2.keys())[j]==list(tree_dict.values())[i][0][0]:\n",
    "                all_branches.append((list(tree_dict.values())[i][0][0],list(dict2.values())[j]))\n",
    "        "
   ]
  },
  {
   "cell_type": "code",
   "execution_count": 355,
   "metadata": {},
   "outputs": [],
   "source": [
    "dist_branches=[]\n",
    "for i in range(0,len(all_branches)):\n",
    "    if not(all_branches[i] in dist_branches ):\n",
    "        dist_branches.append(all_branches[i])"
   ]
  },
  {
   "cell_type": "code",
   "execution_count": 356,
   "metadata": {},
   "outputs": [
    {
     "data": {
      "text/plain": [
       "[('lst_1', 'gray'), ('lst_5', 3)]"
      ]
     },
     "execution_count": 356,
     "metadata": {},
     "output_type": "execute_result"
    }
   ],
   "source": [
    "dist_branches"
   ]
  },
  {
   "cell_type": "code",
   "execution_count": 357,
   "metadata": {},
   "outputs": [
    {
     "data": {
      "text/plain": [
       "{'node_1': (('lst_1', 'blue', (0, 1)), ['root']),\n",
       " 'node_2': (('lst_1', 'gray', (0, 1)), ['root']),\n",
       " 'node_3': (('lst_1', 'purple', (0, 1)), ['root']),\n",
       " 'node_4': (('lst_1', 'red', (0, 1)), ['root']),\n",
       " 'node_5': (('lst_1', 'white', (3, 0)), ['root']),\n",
       " 'node_6': (('lst_5', 3, (1, 0)), ['black']),\n",
       " 'node_7': (('lst_5', 4, (1, 0)), ['black']),\n",
       " 'node_8': (('lst_5', 6, (0, 1)), ['black'])}"
      ]
     },
     "execution_count": 357,
     "metadata": {},
     "output_type": "execute_result"
    }
   ],
   "source": [
    "tree_dict"
   ]
  },
  {
   "cell_type": "code",
   "execution_count": 365,
   "metadata": {},
   "outputs": [
    {
     "data": {
      "text/plain": [
       "False"
      ]
     },
     "execution_count": 365,
     "metadata": {},
     "output_type": "execute_result"
    }
   ],
   "source": [
    "output='Null'\n",
    "for i in range(0,len(tree_dict)):\n",
    "    for j in range(0,len(dist_branches)):\n",
    "        if list(tree_dict.values())[i][0][0] == dist_branches[j][0] and list(tree_dict.values())[i][0][1]==dist_branches[j][1] and output=='Null':\n",
    "            if list(tree_dict.values())[i][0][2][0] > 0:\n",
    "                output=True\n",
    "                break\n",
    "            else:\n",
    "                output=False\n",
    "                break\n",
    "output"
   ]
  },
  {
   "cell_type": "code",
   "execution_count": 360,
   "metadata": {
    "scrolled": true
   },
   "outputs": [
    {
     "data": {
      "text/plain": [
       "7"
      ]
     },
     "execution_count": 360,
     "metadata": {},
     "output_type": "execute_result"
    }
   ],
   "source": [
    "i"
   ]
  },
  {
   "cell_type": "code",
   "execution_count": 361,
   "metadata": {},
   "outputs": [
    {
     "data": {
      "text/plain": [
       "1"
      ]
     },
     "execution_count": 361,
     "metadata": {},
     "output_type": "execute_result"
    }
   ],
   "source": [
    "j"
   ]
  },
  {
   "cell_type": "code",
   "execution_count": 4,
   "metadata": {},
   "outputs": [],
   "source": [
    "#Branches in the tree\n",
    "dct_original = {}\n",
    "for i in range(0,12):\n",
    "    dct_original['lst_%s' % i] = []\n",
    "    for j in range(0,len(monster_list)):\n",
    "        dct_original['lst_%s' % i].append(list(monster_list[j][0].values())[i]) \n",
    "output=[]\n",
    "for i in range(0,len(monster_list)):\n",
    "    output.append(monster_list[i][1])\n",
    "dct_original['output'] = output\n",
    "dct = dct_original\n",
    "feature_gini=[]\n",
    "feature_gini_combination=[]\n",
    "tree_dict = {}\n",
    "tree_item=0\n",
    "non_zero =[]\n",
    "flag_iter=0\n",
    "item_filter='root'\n",
    "filtered_items_list=[]  \n",
    "total_iterations=0"
   ]
  },
  {
   "cell_type": "code",
   "execution_count": 5,
   "metadata": {},
   "outputs": [
    {
     "ename": "NameError",
     "evalue": "name 'd' is not defined",
     "output_type": "error",
     "traceback": [
      "\u001b[1;31m---------------------------------------------------------------------------\u001b[0m",
      "\u001b[1;31mNameError\u001b[0m                                 Traceback (most recent call last)",
      "\u001b[1;32m<ipython-input-5-569a564b1a8d>\u001b[0m in \u001b[0;36m<module>\u001b[1;34m\u001b[0m\n\u001b[0;32m     58\u001b[0m     d = {k: [x for i, x in enumerate(v) if dct[feature_gini_combination[feature_gini.index(min(feature_gini))][0]]==item_filter] \n\u001b[0;32m     59\u001b[0m                                   for k, v in dct.items()}\n\u001b[1;32m---> 60\u001b[1;33m \u001b[0mdct\u001b[0m \u001b[1;33m=\u001b[0m \u001b[0md\u001b[0m\u001b[1;33m\u001b[0m\u001b[1;33m\u001b[0m\u001b[0m\n\u001b[0m",
      "\u001b[1;31mNameError\u001b[0m: name 'd' is not defined"
     ]
    }
   ],
   "source": [
    "for i in range(0,(len(dct)-1)):\n",
    "    values, counts = np.unique(list(dct.values())[i], return_counts=True)\n",
    "    weights = []\n",
    "    for j in range(0,len(counts)):\n",
    "        weights.append(counts[j]/sum(counts))\n",
    "\n",
    "    level_positives=[]\n",
    "    for j in range(0,len(values)):\n",
    "        true_count=0\n",
    "        for k in range(0,len(list(dct.values())[i])):\n",
    "            if values[j] == list(dct.values())[i][k] and dct['output'][k] == True:\n",
    "                true_count = true_count+1\n",
    "        level_positives.append(true_count)\n",
    "    positives_negatives=[]\n",
    "    level_negatives=[]\n",
    "    for j in range(0,len(values)):\n",
    "        true_count=0\n",
    "        for k in range(0,len(list(dct.values())[i])):\n",
    "            if values[j] == list(dct.values())[i][k] and dct['output'][k] == False:\n",
    "                true_count = true_count+1\n",
    "        level_negatives.append(true_count)\n",
    "\n",
    "    gini_levels=[]\n",
    "    for j in range(0,len(values)):\n",
    "        gini=0\n",
    "        gini = ((level_positives[j]/counts[j])*(1-(level_positives[j]/counts[j])))+ ((level_negatives[j]/counts[j])*(1-(level_negatives[j]/counts[j])))\n",
    "        gini = gini* weights[j]\n",
    "        gini_levels.append(gini)\n",
    "        positives_negatives.append((level_positives[j],level_negatives[j]))\n",
    "    feature_gini_combination.append((list(dct.keys())[i],(gini_levels),values,positives_negatives))\n",
    "\n",
    "    feature_gini.append(sum(gini_levels))\n",
    "\n",
    "for j in range(0,len(feature_gini_combination[feature_gini.index(min(feature_gini))][1])):\n",
    "    if feature_gini_combination[feature_gini.index(min(feature_gini))][1][j] > 0:\n",
    "        non_zero.append(feature_gini_combination[feature_gini.index(min(feature_gini))][2][j])\n",
    "zero =[]   \n",
    "for j in range(0,len(feature_gini_combination[feature_gini.index(min(feature_gini))][1])):\n",
    "    if feature_gini_combination[feature_gini.index(min(feature_gini))][1][j] == 0:\n",
    "        zero.append(((feature_gini_combination[feature_gini.index(min(feature_gini))][0]),(feature_gini_combination[feature_gini.index(min(feature_gini))][2][j]),(feature_gini_combination[feature_gini.index(min(feature_gini))][3][j])))\n",
    "        \n",
    "if zero:\n",
    "    for j in range(0,len(zero)):\n",
    "        tree_item = tree_item+1\n",
    "        if total_iterations == 0:\n",
    "            tree_dict['node_%s' % tree_item] = (zero[j],['root'])\n",
    "        else:\n",
    "             tree_dict['node_%s' % tree_item] = (zero[j],filtered_items_list)\n",
    "        \n",
    "if not(non_zero):\n",
    "    flag_iter = 1\n",
    "total_iterations+=1\n",
    "if non_zero:    \n",
    "    item_filter = non_zero.pop()\n",
    "    filtered_items_list.append(item_filter)\n",
    "\n",
    "if non_zero:\n",
    "    d = {k: [x for i, x in enumerate(v) if dct[feature_gini_combination[feature_gini.index(min(feature_gini))][0]]==item_filter] \n",
    "                                  for k, v in dct.items()}\n",
    "dct = d"
   ]
  },
  {
   "cell_type": "code",
   "execution_count": 6,
   "metadata": {},
   "outputs": [
    {
     "data": {
      "text/plain": [
       "[]"
      ]
     },
     "execution_count": 6,
     "metadata": {},
     "output_type": "execute_result"
    }
   ],
   "source": [
    "non_zero"
   ]
  },
  {
   "cell_type": "code",
   "execution_count": 282,
   "metadata": {},
   "outputs": [
    {
     "data": {
      "text/plain": [
       "[('lst_0',\n",
       "  [0.13333333333333333, 0.15000000000000002, 0.0, 0.0],\n",
       "  array(['huge', 'large', 'medium', 'tiny'], dtype='<U6'),\n",
       "  [(2, 1), (3, 1), (0, 2), (0, 1)]),\n",
       " ('lst_1',\n",
       "  [0.13333333333333333, 0.0, 0.0, 0.0, 0.0, 0.0],\n",
       "  array(['black', 'blue', 'gray', 'purple', 'red', 'white'], dtype='<U6'),\n",
       "  [(2, 1), (0, 1), (0, 1), (0, 1), (0, 1), (3, 0)]),\n",
       " ('lst_2',\n",
       "  [0.4444444444444444, 0.0],\n",
       "  array(['fur', 'scales'], dtype='<U6'),\n",
       "  [(5, 4), (0, 1)]),\n",
       " ('lst_3',\n",
       "  [0.1, 0.0, 0.26666666666666666, 0.0],\n",
       "  array(['foot', 'none', 'paw', 'talon'], dtype='<U5'),\n",
       "  [(1, 1), (0, 1), (4, 2), (0, 1)]),\n",
       " ('lst_4', [0.0, 0.0, 0.4], array([0, 1, 2]), [(0, 1), (1, 0), (4, 4)]),\n",
       " ('lst_5',\n",
       "  [0.0, 0.26666666666666666, 0.0, 0.0],\n",
       "  array([3, 4, 6, 8]),\n",
       "  [(1, 0), (4, 2), (0, 2), (0, 1)]),\n",
       " ('lst_6', [0.4444444444444444, 0.0], array([2, 8]), [(5, 4), (0, 1)]),\n",
       " ('lst_7', [0.375, 0.0], array([0, 2]), [(5, 3), (0, 2)]),\n",
       " ('lst_8', [0.0, 0.375], array([False,  True]), [(0, 2), (5, 3)]),\n",
       " ('lst_9', [0.0, 0.2857142857142857], array([False,  True]), [(0, 3), (5, 2)]),\n",
       " ('lst_10', [0.24, 0.24], array([False,  True]), [(2, 3), (3, 2)]),\n",
       " ('lst_11',\n",
       "  [0.26666666666666666, 0.15000000000000002],\n",
       "  array([False,  True]),\n",
       "  [(2, 4), (3, 1)])]"
      ]
     },
     "execution_count": 282,
     "metadata": {},
     "output_type": "execute_result"
    }
   ],
   "source": [
    "feature_gini_combination"
   ]
  },
  {
   "cell_type": "code",
   "execution_count": 218,
   "metadata": {},
   "outputs": [
    {
     "ename": "KeyError",
     "evalue": "'output'",
     "output_type": "error",
     "traceback": [
      "\u001b[1;31m---------------------------------------------------------------------------\u001b[0m",
      "\u001b[1;31mKeyError\u001b[0m                                  Traceback (most recent call last)",
      "\u001b[1;32m<ipython-input-218-6a7564fd598a>\u001b[0m in \u001b[0;36m<module>\u001b[1;34m\u001b[0m\n\u001b[0;32m      9\u001b[0m     \u001b[0mtrue_count\u001b[0m\u001b[1;33m=\u001b[0m\u001b[1;36m0\u001b[0m\u001b[1;33m\u001b[0m\u001b[1;33m\u001b[0m\u001b[0m\n\u001b[0;32m     10\u001b[0m     \u001b[1;32mfor\u001b[0m \u001b[0mk\u001b[0m \u001b[1;32min\u001b[0m \u001b[0mrange\u001b[0m\u001b[1;33m(\u001b[0m\u001b[1;36m0\u001b[0m\u001b[1;33m,\u001b[0m\u001b[0mlen\u001b[0m\u001b[1;33m(\u001b[0m\u001b[0mlist\u001b[0m\u001b[1;33m(\u001b[0m\u001b[0mdct\u001b[0m\u001b[1;33m.\u001b[0m\u001b[0mvalues\u001b[0m\u001b[1;33m(\u001b[0m\u001b[1;33m)\u001b[0m\u001b[1;33m)\u001b[0m\u001b[1;33m[\u001b[0m\u001b[0mi\u001b[0m\u001b[1;33m]\u001b[0m\u001b[1;33m)\u001b[0m\u001b[1;33m)\u001b[0m\u001b[1;33m:\u001b[0m\u001b[1;33m\u001b[0m\u001b[1;33m\u001b[0m\u001b[0m\n\u001b[1;32m---> 11\u001b[1;33m         \u001b[1;32mif\u001b[0m \u001b[0mvalues\u001b[0m\u001b[1;33m[\u001b[0m\u001b[0mj\u001b[0m\u001b[1;33m]\u001b[0m \u001b[1;33m==\u001b[0m \u001b[0mlist\u001b[0m\u001b[1;33m(\u001b[0m\u001b[0mdct\u001b[0m\u001b[1;33m.\u001b[0m\u001b[0mvalues\u001b[0m\u001b[1;33m(\u001b[0m\u001b[1;33m)\u001b[0m\u001b[1;33m)\u001b[0m\u001b[1;33m[\u001b[0m\u001b[0mi\u001b[0m\u001b[1;33m]\u001b[0m\u001b[1;33m[\u001b[0m\u001b[0mk\u001b[0m\u001b[1;33m]\u001b[0m \u001b[1;32mand\u001b[0m \u001b[0mdct\u001b[0m\u001b[1;33m[\u001b[0m\u001b[1;34m'output'\u001b[0m\u001b[1;33m]\u001b[0m\u001b[1;33m[\u001b[0m\u001b[0mk\u001b[0m\u001b[1;33m]\u001b[0m \u001b[1;33m==\u001b[0m \u001b[1;32mTrue\u001b[0m\u001b[1;33m:\u001b[0m\u001b[1;33m\u001b[0m\u001b[1;33m\u001b[0m\u001b[0m\n\u001b[0m\u001b[0;32m     12\u001b[0m             \u001b[0mtrue_count\u001b[0m \u001b[1;33m=\u001b[0m \u001b[0mtrue_count\u001b[0m\u001b[1;33m+\u001b[0m\u001b[1;36m1\u001b[0m\u001b[1;33m\u001b[0m\u001b[1;33m\u001b[0m\u001b[0m\n\u001b[0;32m     13\u001b[0m     \u001b[0mlevel_positives\u001b[0m\u001b[1;33m.\u001b[0m\u001b[0mappend\u001b[0m\u001b[1;33m(\u001b[0m\u001b[0mtrue_count\u001b[0m\u001b[1;33m)\u001b[0m\u001b[1;33m\u001b[0m\u001b[1;33m\u001b[0m\u001b[0m\n",
      "\u001b[1;31mKeyError\u001b[0m: 'output'"
     ]
    }
   ],
   "source": [
    "    i=0\n",
    "    values, counts = np.unique(list(dct.values())[i], return_counts=True)\n",
    "    weights = []\n",
    "    for j in range(0,len(counts)):\n",
    "        weights.append(counts[j]/sum(counts))\n",
    "\n",
    "    level_positives=[]\n",
    "    for j in range(0,len(values)):\n",
    "        true_count=0\n",
    "        for k in range(0,len(list(dct.values())[i])):\n",
    "            if values[j] == list(dct.values())[i][k] and dct['output'][k] == True:\n",
    "                true_count = true_count+1\n",
    "        level_positives.append(true_count)\n",
    "\n",
    "    level_negatives=[]\n",
    "    for j in range(0,len(values)):\n",
    "        true_count=0\n",
    "        for k in range(0,len(list(dct.values())[i])):\n",
    "            if values[j] == list(dct.values())[i][k] and dct['output'][k] == False:\n",
    "                true_count = true_count+1\n",
    "        level_negatives.append(true_count)\n",
    "\n",
    "    gini_levels=[]\n",
    "    for j in range(0,len(values)):\n",
    "        gini=0\n",
    "        gini = ((level_positives[j]/counts[j])*(1-(level_positives[j]/counts[j])))+ ((level_negatives[j]/counts[j])*(1-(level_negatives[j]/counts[j])))\n",
    "        gini = gini* weights[j]\n",
    "        gini_levels.append(gini)\n",
    "    feature_gini_combination.append((list(dct.keys())[i],(gini_levels),values))"
   ]
  },
  {
   "cell_type": "code",
   "execution_count": 284,
   "metadata": {},
   "outputs": [
    {
     "data": {
      "text/plain": [
       "'lst_1'"
      ]
     },
     "execution_count": 284,
     "metadata": {},
     "output_type": "execute_result"
    }
   ],
   "source": [
    "feature_gini_combination[feature_gini.index(min(feature_gini))][0]"
   ]
  },
  {
   "cell_type": "code",
   "execution_count": 196,
   "metadata": {},
   "outputs": [],
   "source": [
    "d = {k: [x for i, x in enumerate(v) if dct['lst_1'][i]=='black'] \n",
    "                                      for k, v in dct.items()}\n",
    "        "
   ]
  },
  {
   "cell_type": "code",
   "execution_count": 202,
   "metadata": {},
   "outputs": [
    {
     "data": {
      "text/plain": [
       "{'lst_0': ['huge', 'large', 'huge'],\n",
       " 'lst_1': ['black', 'black', 'black'],\n",
       " 'lst_2': ['fur', 'fur', 'fur'],\n",
       " 'lst_3': ['paw', 'paw', 'paw'],\n",
       " 'lst_4': [2, 1, 2],\n",
       " 'lst_5': [4, 3, 6],\n",
       " 'lst_6': [2, 2, 2],\n",
       " 'lst_7': [0, 0, 2],\n",
       " 'lst_8': [True, True, True],\n",
       " 'lst_9': [True, True, True],\n",
       " 'lst_10': [True, True, False],\n",
       " 'lst_11': [True, True, False],\n",
       " 'output': [True, True, False]}"
      ]
     },
     "execution_count": 202,
     "metadata": {},
     "output_type": "execute_result"
    }
   ],
   "source": [
    "d"
   ]
  },
  {
   "cell_type": "code",
   "execution_count": 144,
   "metadata": {
    "scrolled": true
   },
   "outputs": [
    {
     "data": {
      "text/plain": [
       "{'lst_0': ['huge',\n",
       "  'large',\n",
       "  'huge',\n",
       "  'large',\n",
       "  'large',\n",
       "  'large',\n",
       "  'tiny',\n",
       "  'medium',\n",
       "  'huge',\n",
       "  'medium'],\n",
       " 'lst_1': ['black',\n",
       "  'white',\n",
       "  'white',\n",
       "  'black',\n",
       "  'white',\n",
       "  'blue',\n",
       "  'red',\n",
       "  'gray',\n",
       "  'black',\n",
       "  'purple'],\n",
       " 'lst_2': ['fur',\n",
       "  'fur',\n",
       "  'fur',\n",
       "  'fur',\n",
       "  'fur',\n",
       "  'fur',\n",
       "  'scales',\n",
       "  'fur',\n",
       "  'fur',\n",
       "  'fur'],\n",
       " 'lst_3': ['paw',\n",
       "  'paw',\n",
       "  'paw',\n",
       "  'paw',\n",
       "  'foot',\n",
       "  'paw',\n",
       "  'none',\n",
       "  'foot',\n",
       "  'paw',\n",
       "  'talon'],\n",
       " 'lst_4': [2, 2, 2, 1, 2, 2, 0, 2, 2, 2],\n",
       " 'lst_5': [4, 4, 4, 3, 4, 4, 8, 6, 6, 4],\n",
       " 'lst_6': [2, 2, 2, 2, 2, 2, 8, 2, 2, 2],\n",
       " 'lst_7': [0, 0, 0, 0, 0, 0, 2, 0, 2, 0],\n",
       " 'lst_8': [True, True, True, True, True, True, False, True, True, False],\n",
       " 'lst_9': [True, True, True, True, True, True, False, False, True, False],\n",
       " 'lst_10': [True, True, False, True, False, True, False, False, False, True],\n",
       " 'lst_11': [True, False, True, True, False, True, False, False, False, False]}"
      ]
     },
     "execution_count": 144,
     "metadata": {},
     "output_type": "execute_result"
    }
   ],
   "source": [
    "dct"
   ]
  },
  {
   "cell_type": "code",
   "execution_count": 124,
   "metadata": {},
   "outputs": [
    {
     "data": {
      "text/plain": [
       "[0.26666666666666666, 0.15000000000000002]"
      ]
     },
     "execution_count": 124,
     "metadata": {},
     "output_type": "execute_result"
    }
   ],
   "source": [
    "gini_levels"
   ]
  },
  {
   "cell_type": "code",
   "execution_count": 126,
   "metadata": {},
   "outputs": [
    {
     "data": {
      "text/plain": [
       "array([False,  True])"
      ]
     },
     "execution_count": 126,
     "metadata": {},
     "output_type": "execute_result"
    }
   ],
   "source": [
    "values"
   ]
  },
  {
   "cell_type": "code",
   "execution_count": 130,
   "metadata": {},
   "outputs": [
    {
     "data": {
      "text/plain": [
       "'lst_1'"
      ]
     },
     "execution_count": 130,
     "metadata": {},
     "output_type": "execute_result"
    }
   ],
   "source": [
    "list(dct.keys())[1]"
   ]
  },
  {
   "cell_type": "code",
   "execution_count": 101,
   "metadata": {},
   "outputs": [
    {
     "data": {
      "text/plain": [
       "array(['black', 'blue', 'gray', 'purple', 'red', 'white'], dtype='<U6')"
      ]
     },
     "execution_count": 101,
     "metadata": {},
     "output_type": "execute_result"
    }
   ],
   "source": [
    "values"
   ]
  },
  {
   "cell_type": "code",
   "execution_count": 102,
   "metadata": {},
   "outputs": [
    {
     "data": {
      "text/plain": [
       "array([3, 1, 1, 1, 1, 3], dtype=int64)"
      ]
     },
     "execution_count": 102,
     "metadata": {},
     "output_type": "execute_result"
    }
   ],
   "source": [
    "counts"
   ]
  },
  {
   "cell_type": "code",
   "execution_count": 103,
   "metadata": {},
   "outputs": [
    {
     "data": {
      "text/plain": [
       "[True, True, True, True, True, False, False, False, False, False]"
      ]
     },
     "execution_count": 103,
     "metadata": {},
     "output_type": "execute_result"
    }
   ],
   "source": [
    "output"
   ]
  },
  {
   "cell_type": "code",
   "execution_count": 104,
   "metadata": {},
   "outputs": [
    {
     "data": {
      "text/plain": [
       "['black',\n",
       " 'white',\n",
       " 'white',\n",
       " 'black',\n",
       " 'white',\n",
       " 'blue',\n",
       " 'red',\n",
       " 'gray',\n",
       " 'black',\n",
       " 'purple']"
      ]
     },
     "execution_count": 104,
     "metadata": {},
     "output_type": "execute_result"
    }
   ],
   "source": [
    "list(dct.values())[1]"
   ]
  },
  {
   "cell_type": "code",
   "execution_count": 105,
   "metadata": {},
   "outputs": [
    {
     "data": {
      "text/plain": [
       "[0.2833333333333333,\n",
       " 0.13333333333333333,\n",
       " 0.4444444444444444,\n",
       " 0.3666666666666667,\n",
       " 0.4,\n",
       " 0.26666666666666666,\n",
       " 0.4444444444444444,\n",
       " 0.375,\n",
       " 0.375,\n",
       " 0.2857142857142857,\n",
       " 0.48,\n",
       " 0.4166666666666667,\n",
       " 0.13333333333333333]"
      ]
     },
     "execution_count": 105,
     "metadata": {},
     "output_type": "execute_result"
    }
   ],
   "source": [
    "feature_gini"
   ]
  },
  {
   "cell_type": "code",
   "execution_count": 106,
   "metadata": {},
   "outputs": [
    {
     "data": {
      "text/plain": [
       "[0.13333333333333333, 0.0, 0.0, 0.0, 0.0, 0.0]"
      ]
     },
     "execution_count": 106,
     "metadata": {},
     "output_type": "execute_result"
    }
   ],
   "source": [
    "gini_levels"
   ]
  },
  {
   "cell_type": "code",
   "execution_count": 92,
   "metadata": {},
   "outputs": [
    {
     "data": {
      "text/plain": [
       "[0.13333333333333333, 0.15000000000000002, 0.0, 0.0]"
      ]
     },
     "execution_count": 92,
     "metadata": {},
     "output_type": "execute_result"
    }
   ],
   "source": [
    "gini_levels"
   ]
  },
  {
   "cell_type": "code",
   "execution_count": 93,
   "metadata": {},
   "outputs": [
    {
     "data": {
      "text/plain": [
       "0.2833333333333333"
      ]
     },
     "execution_count": 93,
     "metadata": {},
     "output_type": "execute_result"
    }
   ],
   "source": [
    "sum(gini_levels)"
   ]
  }
 ],
 "metadata": {
  "kernelspec": {
   "display_name": "Python 3",
   "language": "python",
   "name": "python3"
  },
  "language_info": {
   "codemirror_mode": {
    "name": "ipython",
    "version": 3
   },
   "file_extension": ".py",
   "mimetype": "text/x-python",
   "name": "python",
   "nbconvert_exporter": "python",
   "pygments_lexer": "ipython3",
   "version": "3.8.3"
  }
 },
 "nbformat": 4,
 "nbformat_minor": 4
}
