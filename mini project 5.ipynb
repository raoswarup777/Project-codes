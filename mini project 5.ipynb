{
 "cells": [
  {
   "cell_type": "code",
   "execution_count": 85,
   "metadata": {},
   "outputs": [],
   "source": [
    "diseases_list=[]\n",
    "for i in range(0,len(list(diseases.keys()))):\n",
    "    diseases_list.append([-1 if z=='-' else z for z in [0 if y=='0' else y for y in [1 if x=='+' else x for x in list(diseases[list(diseases.keys())[i]].values())]]])\n",
    "        "
   ]
  },
  {
   "cell_type": "code",
   "execution_count": 106,
   "metadata": {},
   "outputs": [],
   "source": [
    "patient_2_list = [-1 if z=='-' else z for z in [0 if y=='0' else y for y in [1 if x=='+' else x for x in list(patient_2.values())]]]"
   ]
  },
  {
   "cell_type": "code",
   "execution_count": null,
   "metadata": {},
   "outputs": [],
   "source": []
  },
  {
   "cell_type": "code",
   "execution_count": 87,
   "metadata": {},
   "outputs": [],
   "source": [
    "keys = list(diseases.keys())"
   ]
  },
  {
   "cell_type": "code",
   "execution_count": 112,
   "metadata": {},
   "outputs": [
    {
     "name": "stdout",
     "output_type": "stream",
     "text": [
      "['Gammanoma', 'Deltaccol', 'Epsicusus']\n"
     ]
    }
   ],
   "source": [
    "import numpy as np\n",
    "import itertools\n",
    "from itertools import combinations\n",
    "\n",
    "diseases = {\"Alphaitis\":\n",
    "             {\"A\": \"+\", \"B\": \"0\", \"C\": \"-\", \"D\": \"0\", \"E\": \"0\", \"F\": \"+\", \"G\": \"0\", \"H\": \"0\", \"I\": \"+\",\n",
    "              \"J\": \"-\", \"K\": \"0\", \"L\": \"0\", \"M\": \"0\", \"N\": \"0\", \"O\": \"-\", \"P\": \"0\", \"Q\": \"0\", \"R\": \"0\",\n",
    "              \"S\": \"0\", \"T\": \"0\", \"U\": \"0\", \"V\": \"0\", \"W\": \"0\", \"X\": \"0\", \"Y\": \"0\", \"Z\": \"+\"},\n",
    "            \"Betatosis\":\n",
    "             {\"A\": \"0\", \"B\": \"0\", \"C\": \"-\", \"D\": \"0\", \"E\": \"+\", \"F\": \"-\", \"G\": \"0\", \"H\": \"0\", \"I\": \"+\",\n",
    "              \"J\": \"+\", \"K\": \"0\", \"L\": \"0\", \"M\": \"0\", \"N\": \"0\", \"O\": \"0\", \"P\": \"0\", \"Q\": \"0\", \"R\": \"-\",\n",
    "              \"S\": \"0\", \"T\": \"0\", \"U\": \"0\", \"V\": \"0\", \"W\": \"0\", \"X\": \"0\", \"Y\": \"0\", \"Z\": \"-\"},\n",
    "            \"Gammanoma\":\n",
    "             {\"A\": \"0\", \"B\": \"+\", \"C\": \"+\", \"D\": \"+\", \"E\": \"+\", \"F\": \"+\", \"G\": \"0\", \"H\": \"0\", \"I\": \"0\",\n",
    "              \"J\": \"0\", \"K\": \"0\", \"L\": \"0\", \"M\": \"0\", \"N\": \"0\", \"O\": \"0\", \"P\": \"0\", \"Q\": \"0\", \"R\": \"0\",\n",
    "              \"S\": \"0\", \"T\": \"0\", \"U\": \"0\", \"V\": \"0\", \"W\": \"0\", \"X\": \"0\", \"Y\": \"0\", \"Z\": \"+\"},\n",
    "            \"Deltaccol\":\n",
    "             {\"A\": \"0\", \"B\": \"0\", \"C\": \"+\", \"D\": \"0\", \"E\": \"0\", \"F\": \"0\", \"G\": \"0\", \"H\": \"-\", \"I\": \"0\",\n",
    "              \"J\": \"0\", \"K\": \"0\", \"L\": \"0\", \"M\": \"0\", \"N\": \"0\", \"O\": \"0\", \"P\": \"0\", \"Q\": \"0\", \"R\": \"0\",\n",
    "              \"S\": \"0\", \"T\": \"0\", \"U\": \"0\", \"V\": \"0\", \"W\": \"0\", \"X\": \"0\", \"Y\": \"0\", \"Z\": \"-\"},\n",
    "            \"Epsicusus\":\n",
    "             {\"A\": \"0\", \"B\": \"0\", \"C\": \"+\", \"D\": \"0\", \"E\": \"0\", \"F\": \"0\", \"G\": \"0\", \"H\": \"0\", \"I\": \"+\",\n",
    "              \"J\": \"+\", \"K\": \"0\", \"L\": \"0\", \"M\": \"0\", \"N\": \"0\", \"O\": \"0\", \"P\": \"0\", \"Q\": \"0\", \"R\": \"0\",\n",
    "              \"S\": \"0\", \"T\": \"0\", \"U\": \"0\", \"V\": \"0\", \"W\": \"0\", \"X\": \"0\", \"Y\": \"0\", \"Z\": \"+\"}}\n",
    "patient_1 = {\"A\": \"+\", \"B\": \"0\", \"C\": \"-\", \"D\": \"0\", \"E\": \"+\", \"F\": \"0\", \"G\": \"0\", \"H\": \"0\", \"I\": \"+\", \"J\": \"0\", \"K\": \"0\", \"L\": \"0\", \"M\": \"0\", \"N\": \"0\", \"O\": \"-\", \"P\": \"0\", \"Q\": \"0\", \"R\": \"-\", \"S\": \"0\", \"T\": \"0\", \"U\": \"0\", \"V\": \"0\", \"W\": \"0\", \"X\": \"0\", \"Y\": \"0\", \"Z\": \"0\"}\n",
    "patient_2 = {\"A\": \"0\", \"B\": \"+\", \"C\": \"+\", \"D\": \"+\", \"E\": \"+\", \"F\": \"+\", \"G\": \"0\", \"H\": \"-\", \"I\": \"+\", \"J\": \"+\", \"K\": \"0\", \"L\": \"0\", \"M\": \"0\", \"N\": \"0\", \"O\": \"0\", \"P\": \"0\", \"Q\": \"0\", \"R\": \"0\", \"S\": \"0\", \"T\": \"0\", \"U\": \"0\", \"V\": \"0\", \"W\": \"0\", \"X\": \"0\", \"Y\": \"0\", \"Z\": \"+\"}\n",
    "\n",
    "diseases_list=[]\n",
    "for i in range(0,len(list(diseases.keys()))):\n",
    "    diseases_list.append([-1 if z=='-' else z for z in [0 if y=='0' else y for y in [1 if x=='+' else x for x in list(diseases[list(diseases.keys())[i]].values())]]])\n",
    "        \n",
    "\n",
    "patient_2_list = [-1 if z=='-' else z for z in [0 if y=='0' else y for y in [1 if x=='+' else x for x in list(patient_2.values())]]]\n",
    "\n",
    "keys = list(diseases.keys())\n",
    "\n",
    "#generating the combinations of all the diseases\n",
    "all_combo = []\n",
    "for i in range(0,min(len(keys),10)):  \n",
    "    all_combo = all_combo + list(combinations(keys,i+1))\n",
    "    \n",
    "#main code\n",
    "tracking_count=[]\n",
    "for i in range(0,len(all_combo)):\n",
    "    sub_dict=[0,0,0,0,0,0,0,0,0,0,0,0,0,0,0,0,0,0,0,0,0,0,0,0,0,0]\n",
    "    sub_dict2=[]\n",
    "    for j in range(0,len(all_combo[i])):\n",
    "        for k in range(0,len(sub_dict)):\n",
    "            sub_dict[k] = sub_dict[k]+ diseases_list[list(diseases.keys()).index(all_combo[i][j])][k]\n",
    "     \n",
    "    sub_dict2 = [-1 if z<0 else z for z in [0 if y==0 else y for y in [1 if x>0 else x for x in sub_dict]]]\n",
    "    count_of_matches=0\n",
    "    for k in range(0,len(sub_dict2)):  \n",
    "        if sub_dict2[k] ==  patient_2_list[k]:\n",
    "            count_of_matches=count_of_matches+1\n",
    "    tracking_count.append(count_of_matches)\n",
    "    if count_of_matches == 26:        \n",
    "        final_combination = all_combo[i]\n",
    "        break\n",
    "            \n",
    "print(list(final_combination))       \n"
   ]
  },
  {
   "cell_type": "code",
   "execution_count": 89,
   "metadata": {
    "scrolled": true
   },
   "outputs": [
    {
     "data": {
      "text/plain": [
       "[('Alphaitis',),\n",
       " ('Betatosis',),\n",
       " ('Gammanoma',),\n",
       " ('Deltaccol',),\n",
       " ('Epsicusus',),\n",
       " ('Alphaitis', 'Betatosis'),\n",
       " ('Alphaitis', 'Gammanoma'),\n",
       " ('Alphaitis', 'Deltaccol'),\n",
       " ('Alphaitis', 'Epsicusus'),\n",
       " ('Betatosis', 'Gammanoma'),\n",
       " ('Betatosis', 'Deltaccol'),\n",
       " ('Betatosis', 'Epsicusus'),\n",
       " ('Gammanoma', 'Deltaccol'),\n",
       " ('Gammanoma', 'Epsicusus'),\n",
       " ('Deltaccol', 'Epsicusus'),\n",
       " ('Alphaitis', 'Betatosis', 'Gammanoma'),\n",
       " ('Alphaitis', 'Betatosis', 'Deltaccol'),\n",
       " ('Alphaitis', 'Betatosis', 'Epsicusus'),\n",
       " ('Alphaitis', 'Gammanoma', 'Deltaccol'),\n",
       " ('Alphaitis', 'Gammanoma', 'Epsicusus'),\n",
       " ('Alphaitis', 'Deltaccol', 'Epsicusus'),\n",
       " ('Betatosis', 'Gammanoma', 'Deltaccol'),\n",
       " ('Betatosis', 'Gammanoma', 'Epsicusus'),\n",
       " ('Betatosis', 'Deltaccol', 'Epsicusus'),\n",
       " ('Gammanoma', 'Deltaccol', 'Epsicusus'),\n",
       " ('Alphaitis', 'Betatosis', 'Gammanoma', 'Deltaccol'),\n",
       " ('Alphaitis', 'Betatosis', 'Gammanoma', 'Epsicusus'),\n",
       " ('Alphaitis', 'Betatosis', 'Deltaccol', 'Epsicusus'),\n",
       " ('Alphaitis', 'Gammanoma', 'Deltaccol', 'Epsicusus'),\n",
       " ('Betatosis', 'Gammanoma', 'Deltaccol', 'Epsicusus'),\n",
       " ('Alphaitis', 'Betatosis', 'Gammanoma', 'Deltaccol', 'Epsicusus')]"
      ]
     },
     "execution_count": 89,
     "metadata": {},
     "output_type": "execute_result"
    }
   ],
   "source": [
    "all_combo"
   ]
  },
  {
   "cell_type": "code",
   "execution_count": 111,
   "metadata": {},
   "outputs": [
    {
     "ename": "IndentationError",
     "evalue": "unindent does not match any outer indentation level (<tokenize>, line 19)",
     "output_type": "error",
     "traceback": [
      "\u001b[1;36m  File \u001b[1;32m\"<tokenize>\"\u001b[1;36m, line \u001b[1;32m19\u001b[0m\n\u001b[1;33m    print(list(final_combination))\u001b[0m\n\u001b[1;37m    ^\u001b[0m\n\u001b[1;31mIndentationError\u001b[0m\u001b[1;31m:\u001b[0m unindent does not match any outer indentation level\n"
     ]
    }
   ],
   "source": [
    "tracking_count=[]\n",
    "for i in range(0,len(all_combo)):\n",
    "    sub_dict=[0,0,0,0,0,0,0,0,0,0,0,0,0,0,0,0,0,0,0,0,0,0,0,0,0,0]\n",
    "    sub_dict2=[]\n",
    "    for j in range(0,len(all_combo[i])):\n",
    "        for k in range(0,len(sub_dict)):\n",
    "            sub_dict[k] = sub_dict[k]+ diseases_list[list(diseases.keys()).index(all_combo[i][j])][k]\n",
    "     \n",
    "    sub_dict2 = [-1 if z<0 else z for z in [0 if y==0 else y for y in [1 if x>0 else x for x in sub_dict]]]\n",
    "    count_of_matches=0\n",
    "    for k in range(0,len(sub_dict2)):  \n",
    "        if sub_dict2[k] ==  patient_2_list[k]:\n",
    "            count_of_matches=count_of_matches+1\n",
    "    tracking_count.append(count_of_matches)\n",
    "    if count_of_matches == 26:        \n",
    "        final_combination = all_combo[i]\n",
    "        break\n",
    "            \n",
    "print(list(final_combination))       "
   ]
  },
  {
   "cell_type": "code",
   "execution_count": 108,
   "metadata": {},
   "outputs": [
    {
     "data": {
      "text/plain": [
       "('Gammanoma', 'Deltaccol', 'Epsicusus')"
      ]
     },
     "execution_count": 108,
     "metadata": {},
     "output_type": "execute_result"
    }
   ],
   "source": [
    "final_combination"
   ]
  },
  {
   "cell_type": "code",
   "execution_count": 109,
   "metadata": {},
   "outputs": [
    {
     "data": {
      "text/plain": [
       "['Gammanoma', 'Deltaccol', 'Epsicusus']"
      ]
     },
     "execution_count": 109,
     "metadata": {},
     "output_type": "execute_result"
    }
   ],
   "source": []
  },
  {
   "cell_type": "code",
   "execution_count": 80,
   "metadata": {},
   "outputs": [
    {
     "data": {
      "text/plain": [
       "True"
      ]
     },
     "execution_count": 80,
     "metadata": {},
     "output_type": "execute_result"
    }
   ],
   "source": [
    "sub_dict[i] = sub_dict[i]+ diseases_list[list(diseases.keys()).index(all_combo[i][j])][i]"
   ]
  },
  {
   "cell_type": "code",
   "execution_count": 97,
   "metadata": {},
   "outputs": [
    {
     "data": {
      "text/plain": [
       "24"
      ]
     },
     "execution_count": 97,
     "metadata": {},
     "output_type": "execute_result"
    }
   ],
   "source": [
    "len(sub_dict)"
   ]
  },
  {
   "cell_type": "code",
   "execution_count": 69,
   "metadata": {},
   "outputs": [
    {
     "data": {
      "text/plain": [
       "[('Alphaitis',),\n",
       " ('Betatosis',),\n",
       " ('Gammanoma',),\n",
       " ('Deltaccol',),\n",
       " ('Epsicusus',),\n",
       " ('Alphaitis', 'Betatosis'),\n",
       " ('Alphaitis', 'Gammanoma'),\n",
       " ('Alphaitis', 'Deltaccol'),\n",
       " ('Alphaitis', 'Epsicusus'),\n",
       " ('Betatosis', 'Gammanoma'),\n",
       " ('Betatosis', 'Deltaccol'),\n",
       " ('Betatosis', 'Epsicusus'),\n",
       " ('Gammanoma', 'Deltaccol'),\n",
       " ('Gammanoma', 'Epsicusus'),\n",
       " ('Deltaccol', 'Epsicusus'),\n",
       " ('Alphaitis', 'Betatosis', 'Gammanoma'),\n",
       " ('Alphaitis', 'Betatosis', 'Deltaccol'),\n",
       " ('Alphaitis', 'Betatosis', 'Epsicusus'),\n",
       " ('Alphaitis', 'Gammanoma', 'Deltaccol'),\n",
       " ('Alphaitis', 'Gammanoma', 'Epsicusus'),\n",
       " ('Alphaitis', 'Deltaccol', 'Epsicusus'),\n",
       " ('Betatosis', 'Gammanoma', 'Deltaccol'),\n",
       " ('Betatosis', 'Gammanoma', 'Epsicusus'),\n",
       " ('Betatosis', 'Deltaccol', 'Epsicusus'),\n",
       " ('Gammanoma', 'Deltaccol', 'Epsicusus'),\n",
       " ('Alphaitis', 'Betatosis', 'Gammanoma', 'Deltaccol'),\n",
       " ('Alphaitis', 'Betatosis', 'Gammanoma', 'Epsicusus'),\n",
       " ('Alphaitis', 'Betatosis', 'Deltaccol', 'Epsicusus'),\n",
       " ('Alphaitis', 'Gammanoma', 'Deltaccol', 'Epsicusus'),\n",
       " ('Betatosis', 'Gammanoma', 'Deltaccol', 'Epsicusus'),\n",
       " ('Alphaitis', 'Betatosis', 'Gammanoma', 'Deltaccol', 'Epsicusus')]"
      ]
     },
     "execution_count": 69,
     "metadata": {},
     "output_type": "execute_result"
    }
   ],
   "source": [
    "all_combo"
   ]
  },
  {
   "cell_type": "code",
   "execution_count": 43,
   "metadata": {},
   "outputs": [
    {
     "ename": "KeyError",
     "evalue": "('Alphaitis', 'Betatosis')",
     "output_type": "error",
     "traceback": [
      "\u001b[1;31m---------------------------------------------------------------------------\u001b[0m",
      "\u001b[1;31mKeyError\u001b[0m                                  Traceback (most recent call last)",
      "\u001b[1;32m<ipython-input-43-6b001dbdc652>\u001b[0m in \u001b[0;36m<module>\u001b[1;34m\u001b[0m\n\u001b[1;32m----> 1\u001b[1;33m \u001b[0mdiseases\u001b[0m\u001b[1;33m[\u001b[0m\u001b[0mall_combo\u001b[0m\u001b[1;33m[\u001b[0m\u001b[1;36m5\u001b[0m\u001b[1;33m]\u001b[0m\u001b[1;33m]\u001b[0m\u001b[1;33m\u001b[0m\u001b[1;33m\u001b[0m\u001b[0m\n\u001b[0m",
      "\u001b[1;31mKeyError\u001b[0m: ('Alphaitis', 'Betatosis')"
     ]
    }
   ],
   "source": [
    "diseases[all_combo[5]]"
   ]
  }
 ],
 "metadata": {
  "kernelspec": {
   "display_name": "Python 3",
   "language": "python",
   "name": "python3"
  },
  "language_info": {
   "codemirror_mode": {
    "name": "ipython",
    "version": 3
   },
   "file_extension": ".py",
   "mimetype": "text/x-python",
   "name": "python",
   "nbconvert_exporter": "python",
   "pygments_lexer": "ipython3",
   "version": "3.8.3"
  }
 },
 "nbformat": 4,
 "nbformat_minor": 4
}
