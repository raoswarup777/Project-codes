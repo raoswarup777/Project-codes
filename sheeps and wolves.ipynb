{
 "cells": [
  {
   "cell_type": "code",
   "execution_count": 642,
   "metadata": {},
   "outputs": [],
   "source": [
    "num_sheeps = 5\n",
    "num_wolves = 5\n",
    "\n",
    "moves_id = 0\n",
    "state_id=1\n",
    "visited = []\n",
    "# inititalize the queue\n",
    "queue = []\n",
    "move=[]\n",
    "# used to monitor the count of sheeps and wolves on both river banks\n",
    "count_status = [(num_sheeps, num_wolves, 0, 0, 0, 1)]\n",
    "state_count = 0\n",
    "i=0\n",
    "cur_prev_state = []\n",
    "moves_track = [[(0,0)]]\n",
    "\n",
    "root_state=0\n",
    "target_state=-1\n",
    "list_moves=[]\n",
    "emp=[]\n",
    "\n",
    "#visited.append([(num_sheeps, num_wolves, 0)])\n",
    "queue.append((num_sheeps, num_wolves, 0))"
   ]
  },
  {
   "cell_type": "code",
   "execution_count": 643,
   "metadata": {},
   "outputs": [
    {
     "name": "stdout",
     "output_type": "stream",
     "text": [
      "[]\n"
     ]
    }
   ],
   "source": [
    "while queue:\n",
    "    s = queue.pop(0)\n",
    "    visited.append((s[0],s[1],s[2]))\n",
    "    i = i+1\n",
    "    state_count= i-1\n",
    "    # when the movement is from right bank to left bank\n",
    "    if s[2] == 0:\n",
    "\n",
    "        # moving one sheep (1,0)\n",
    "        if s[0] > 0 and (s[0] - 1 >= s[1] or s[0] - 1 == 0):\n",
    "            if (count_status[state_count][4]==0 or (count_status[state_count][3] + 1 >= count_status[state_count][4])) and not (\n",
    "                    (count_status[state_count][3] + 1, count_status[state_count][4], 1) in visited) and not (\n",
    "                    (count_status[state_count][3] + 1, count_status[state_count][4], 1) in queue):\n",
    "                state_id = state_id+1\n",
    "                queue.append((count_status[state_count][3] + 1, count_status[state_count][4], 1))\n",
    "                cur_prev_state.append((state_id,i,1,0,count_status[state_count][3] + 1, count_status[state_count][4], 1,s[0],s[1],s[2]))\n",
    "                move.append((1,0,0))\n",
    "                count_status.append((count_status[state_count][0]-1, count_status[state_count][1],\n",
    "                                      count_status[state_count][2], count_status[state_count][3] + 1,\n",
    "                                      count_status[state_count][4], 1))\n",
    "\n",
    "        # moving one wolf (0,1)\n",
    "        if s[1] > 0 and (s[1] - 1 <= s[0] or s[0]==0):\n",
    "            if (count_status[state_count][3]==0 or (count_status[state_count][3] >= count_status[state_count][4] + 1)) and not (\n",
    "                    (count_status[state_count][3], count_status[state_count][4] + 1, 1) in visited) and not (\n",
    "                    (count_status[state_count][3], count_status[state_count][4] + 1, 1) in queue):\n",
    "                state_id = state_id+1\n",
    "                queue.append((count_status[state_count][3], count_status[state_count][4] + 1, 1))\n",
    "                cur_prev_state.append((state_id,i,0,1,count_status[state_count][3], count_status[state_count][4] + 1, 1,s[0],s[1],s[2]))\n",
    "                move.append((0,1,0))\n",
    "                count_status.append((count_status[state_count][0], count_status[state_count][1]-1,\n",
    "                                      count_status[state_count][2], count_status[state_count][3],\n",
    "                                      count_status[state_count][4] + 1, 1))\n",
    "\n",
    "        # moving one wolf and a sheep (1,1)\n",
    "        if s[0] > 0 and s[1] > 0 and (s[0] - 1 >= s[1] - 1 or s[0] - 1 ==0) :\n",
    "            if ( count_status[state_count][3] + 1 >= count_status[state_count][4] + 1) and not (\n",
    "                (count_status[state_count][3] + 1, count_status[state_count][4] + 1, 1) in visited) and not (\n",
    "                (count_status[state_count][3] + 1, count_status[state_count][4] + 1, 1) in queue):\n",
    "                state_id = state_id+1\n",
    "                queue.append((count_status[state_count][3] + 1, count_status[state_count][4] + 1, 1))\n",
    "                cur_prev_state.append((state_id,i,1,1,count_status[state_count][3] + 1, count_status[state_count][4] + 1, 1,s[0],s[1],s[2]))\n",
    "                move.append((1,1,0))\n",
    "                count_status.append((count_status[state_count][0]-1, count_status[state_count][1]-1,\n",
    "                                      count_status[state_count][2], count_status[state_count][3] + 1,\n",
    "                                      count_status[state_count][4] + 1, 1))\n",
    "\n",
    "        # moving two sheeps and zero wolves (\n",
    "        if s[0] > 1 and (s[0]-2 >= s[1] or s[0]-2==0):\n",
    "            if (count_status[state_count][4]==0 or (count_status[state_count][3] + 2 >= count_status[state_count][4])) and not (\n",
    "                    (count_status[state_count][3] + 2, count_status[state_count][4], 1) in visited) and not (\n",
    "                    (count_status[state_count][3] + 2, count_status[state_count][4], 1) in queue):\n",
    "                state_id = state_id+1\n",
    "                queue.append((count_status[state_count][3] + 2, count_status[state_count][4], 1))\n",
    "                cur_prev_state.append((state_id,i,2,0,count_status[state_count][3] + 2, count_status[state_count][4], 1,s[0],s[1],s[2]))\n",
    "                move.append((2,0,0))\n",
    "                count_status.append((count_status[state_count][0]-2, count_status[state_count][1],\n",
    "                                      count_status[state_count][2], count_status[state_count][3] + 2,\n",
    "                                      count_status[state_count][4], 1))\n",
    "\n",
    "        # moving zero sheeps and two wolves (\n",
    "        if s[1] > 1 and (s[0] >= s[1]-2 or s[0]==0) :\n",
    "            if (count_status[state_count][3]==0 or (count_status[state_count][3] >= count_status[state_count][4] + 2)) and not (\n",
    "                    (count_status[state_count][3], count_status[state_count][4] + 2, 1) in visited) and not (\n",
    "                    (count_status[state_count][3], count_status[state_count][4] + 2, 1) in queue):\n",
    "                state_id = state_id+1\n",
    "                queue.append((count_status[state_count][3], count_status[state_count][4] + 2, 1))\n",
    "                cur_prev_state.append((state_id,i,0,2,count_status[state_count][3], count_status[state_count][4] + 2, 1,s[0],s[1],s[2]))\n",
    "                move.append((0,2,0))\n",
    "                count_status.append((count_status[state_count][0], count_status[state_count][1]-2,\n",
    "                                      count_status[state_count][2], count_status[state_count][3],\n",
    "                                      count_status[state_count][4] + 2, 1))\n",
    "    elif s[2] == 1:\n",
    "\n",
    "        # moving one sheep (1,0)\n",
    "        if s[0] > 0 and (s[0] - 1 >= s[1] or s[0] - 1 ==0) :\n",
    "            if (count_status[state_count][1]==0 or (count_status[state_count][0] + 1 >= count_status[state_count][1])) and not (\n",
    "                    (count_status[state_count][0] + 1, count_status[state_count][1], 0) in visited) and not (\n",
    "                    (count_status[state_count][0] + 1, count_status[state_count][1], 0) in queue):\n",
    "                state_id = state_id+1\n",
    "                queue.append((count_status[state_count][0] + 1, count_status[state_count][1], 0))\n",
    "                cur_prev_state.append((state_id,i,1,0,count_status[state_count][0] + 1, count_status[state_count][1], 0,s[0],s[1],s[2]))\n",
    "                move.append((1,0,1))\n",
    "                count_status.append((count_status[state_count][0] + 1, count_status[state_count][1],\n",
    "                                      0, count_status[state_count][3]-1,\n",
    "                                      count_status[state_count][4], count_status[state_count][5]))\n",
    "\n",
    "        # moving one wolf (0,1)\n",
    "        if s[1] > 0 and (s[1] - 1 <= s[0] or s[0] == 0):\n",
    "            if (count_status[state_count][0]==0 or (count_status[state_count][0] >= count_status[state_count][1] + 1)) and not (\n",
    "                    (count_status[state_count][0], count_status[state_count][1] + 1, 0) in visited) and not (\n",
    "                    (count_status[state_count][0], count_status[state_count][1] + 1, 0) in queue):\n",
    "                state_id = state_id+1\n",
    "                queue.append((count_status[state_count][0], count_status[state_count][1] + 1, 0))\n",
    "                cur_prev_state.append((state_id,i,0,1,count_status[state_count][0], count_status[state_count][1] + 1, 0,s[0],s[1],s[2]))\n",
    "                move.append((0,1,1))\n",
    "                count_status.append((count_status[state_count][0], count_status[state_count][1] + 1,\n",
    "                                      0, count_status[state_count][3],\n",
    "                                      count_status[state_count][4]-1, count_status[state_count][5]))\n",
    "\n",
    "        # moving one wolf and a sheep (1,1)\n",
    "        if s[0] > 0 and s[1] > 0 and ((s[0] - 1 >= s[1] - 1) or s[0]-1 == 0):\n",
    "            if (count_status[state_count][0] + 1 >= count_status[state_count][1] + 1) and not (\n",
    "                (count_status[state_count][0] + 1, count_status[state_count][1] + 1, 0) in visited) and not (\n",
    "                (count_status[state_count][0] + 1, count_status[state_count][1] + 1, 0) in queue):\n",
    "                state_id = state_id+1\n",
    "                queue.append((count_status[state_count][0] + 1, count_status[state_count][1] + 1, 0))\n",
    "                cur_prev_state.append((state_id,i,1,1,count_status[state_count][0] + 1, count_status[state_count][1] + 1, 0,s[0],s[1],s[2]))\n",
    "                move.append((1,1,1))\n",
    "                count_status.append((count_status[state_count][0] + 1, count_status[state_count][1] + 1,\n",
    "                                      0, count_status[state_count][3]-1,\n",
    "                                      count_status[state_count][4]-1, count_status[state_count][5]))\n",
    "\n",
    "        # moving two sheeps and zero wolves (\n",
    "        if s[0] > 1 and (s[0] - 2 >= s[1] or s[0] - 2 ==0):\n",
    "            if (count_status[state_count][4]==0 or (count_status[state_count][0] + 2 >= count_status[state_count][1])) and not (\n",
    "                    (count_status[state_count][0] + 2, count_status[state_count][1], 0) in visited) and not (\n",
    "                    (count_status[state_count][0] + 2, count_status[state_count][1], 0) in queue):\n",
    "                state_id = state_id+1\n",
    "                queue.append((count_status[state_count][0] + 2, count_status[state_count][1], 0))\n",
    "                cur_prev_state.append((state_id,i,2,0,count_status[state_count][0] + 2, count_status[state_count][1], 0,s[0],s[1],s[2]))\n",
    "                move.append((2,0,1))\n",
    "                count_status.append((count_status[state_count][0] + 2, count_status[state_count][1],\n",
    "                                      0, count_status[state_count][3]-2,\n",
    "                                      count_status[state_count][4], count_status[state_count][5]))\n",
    "\n",
    "        # moving zero sheeps and two wolves (\n",
    "        if s[1] > 1 and (s[0] >= s[1] - 2 or s[0]==0):\n",
    "            if (count_status[state_count][3]==0 or (count_status[state_count][0] >= count_status[state_count][1] + 2)) and not (\n",
    "                    (count_status[state_count][0], count_status[state_count][1] + 2, 0) in visited) and not (\n",
    "                    (count_status[state_count][0], count_status[state_count][1] + 2, 0) in queue):\n",
    "                state_id = state_id+1\n",
    "                queue.append((count_status[state_count][0], count_status[state_count][1] + 2, 0))\n",
    "                cur_prev_state.append((state_id,i,0,2,count_status[state_count][0], count_status[state_count][1] + 2, 0,s[0],s[1],s[2]))\n",
    "                move.append((0,2,1))\n",
    "                count_status.append((count_status[state_count][0], count_status[state_count][1] + 2,\n",
    "                                      0, count_status[state_count][3],\n",
    "                                      count_status[state_count][4]-2, count_status[state_count][5]))\n",
    "         \n",
    "        if (0,0,0,num_sheeps,num_wolves,1) in count_status:\n",
    "            break\n",
    "\n",
    "if cur_prev_state:\n",
    "    for j in range(len(cur_prev_state)):\n",
    "        if cur_prev_state[j][0] == j+2:\n",
    "            if (cur_prev_state[j][4],cur_prev_state[j][5],cur_prev_state[j][6])==(num_sheeps,num_wolves,1):\n",
    "                target_state = cur_prev_state[j][0]\n",
    "\n",
    "if target_state != -1: \n",
    "    while root_state != 1:\n",
    "        for k in range(len(cur_prev_state)):\n",
    "            if cur_prev_state[k][0]==target_state:\n",
    "                root_state=cur_prev_state[k][1]\n",
    "                target_state=cur_prev_state[k][1]\n",
    "                list_moves.append((cur_prev_state[k][2],cur_prev_state[k][3]))\n",
    "            \n",
    "\n",
    "list_moves.reverse()\n",
    "if target_state == -1:\n",
    "    print(emp)\n",
    "else:\n",
    "    print(list_moves)\n",
    "                \n"
   ]
  },
  {
   "cell_type": "code",
   "execution_count": 625,
   "metadata": {},
   "outputs": [
    {
     "data": {
      "text/plain": [
       "[(1, 1),\n",
       " (1, 0),\n",
       " (0, 2),\n",
       " (0, 1),\n",
       " (2, 0),\n",
       " (1, 1),\n",
       " (2, 0),\n",
       " (0, 1),\n",
       " (0, 2),\n",
       " (1, 0),\n",
       " (1, 1)]"
      ]
     },
     "execution_count": 625,
     "metadata": {},
     "output_type": "execute_result"
    }
   ],
   "source": []
  },
  {
   "cell_type": "code",
   "execution_count": 612,
   "metadata": {},
   "outputs": [],
   "source": [
    "if cur_prev_state:\n",
    "    for j in range(len(cur_prev_state)):\n",
    "        if cur_prev_state[j][0] == j+2:\n",
    "            if (cur_prev_state[j][4],cur_prev_state[j][5],cur_prev_state[j][6])==(num_sheeps,num_wolves,1):\n",
    "                target_state = cur_prev_state[j][0]\n",
    "                \n",
    "    target_state            "
   ]
  },
  {
   "cell_type": "code",
   "execution_count": 613,
   "metadata": {},
   "outputs": [],
   "source": [
    "root_state=0\n",
    "list_moves=[]\n",
    "while root_state != 1:\n",
    "    for k in range(len(cur_prev_state)):\n",
    "        if cur_prev_state[k][0]==target_state:\n",
    "            root_state=cur_prev_state[k][1]\n",
    "            target_state=cur_prev_state[k][1]\n",
    "            list_moves.append((cur_prev_state[k][2],cur_prev_state[k][3]))\n",
    "            \n",
    "\n",
    "            "
   ]
  },
  {
   "cell_type": "code",
   "execution_count": 614,
   "metadata": {},
   "outputs": [
    {
     "data": {
      "text/plain": [
       "[(1, 1),\n",
       " (1, 0),\n",
       " (0, 2),\n",
       " (0, 1),\n",
       " (2, 0),\n",
       " (1, 1),\n",
       " (2, 0),\n",
       " (0, 1),\n",
       " (0, 2),\n",
       " (1, 0),\n",
       " (1, 1)]"
      ]
     },
     "execution_count": 614,
     "metadata": {},
     "output_type": "execute_result"
    }
   ],
   "source": [
    "list_moves"
   ]
  },
  {
   "cell_type": "code",
   "execution_count": 617,
   "metadata": {},
   "outputs": [
    {
     "name": "stdout",
     "output_type": "stream",
     "text": [
      "None\n"
     ]
    }
   ],
   "source": [
    "print(list_moves.reverse())"
   ]
  },
  {
   "cell_type": "code",
   "execution_count": 618,
   "metadata": {},
   "outputs": [],
   "source": [
    "x = [(1,2),(2,1),(3,2),(4,5)]"
   ]
  },
  {
   "cell_type": "code",
   "execution_count": 620,
   "metadata": {},
   "outputs": [],
   "source": [
    "x.reverse()"
   ]
  },
  {
   "cell_type": "code",
   "execution_count": 621,
   "metadata": {},
   "outputs": [
    {
     "data": {
      "text/plain": [
       "[(4, 5), (3, 2), (2, 1), (1, 2)]"
      ]
     },
     "execution_count": 621,
     "metadata": {},
     "output_type": "execute_result"
    }
   ],
   "source": [
    "x"
   ]
  },
  {
   "cell_type": "code",
   "execution_count": 599,
   "metadata": {},
   "outputs": [
    {
     "data": {
      "text/plain": [
       "False"
      ]
     },
     "execution_count": 599,
     "metadata": {},
     "output_type": "execute_result"
    }
   ],
   "source": [
    "(cur_prev_state[j+2][4],cur_prev_state[j+2][5],cur_prev_state[j+2][6])==(num_sheeps,num_wolves,1)"
   ]
  },
  {
   "cell_type": "code",
   "execution_count": 501,
   "metadata": {},
   "outputs": [
    {
     "data": {
      "text/plain": [
       "(3, 3, 0)"
      ]
     },
     "execution_count": 501,
     "metadata": {},
     "output_type": "execute_result"
    }
   ],
   "source": [
    "s"
   ]
  },
  {
   "cell_type": "code",
   "execution_count": 498,
   "metadata": {},
   "outputs": [
    {
     "data": {
      "text/plain": [
       "True"
      ]
     },
     "execution_count": 498,
     "metadata": {},
     "output_type": "execute_result"
    }
   ],
   "source": [
    "s[1] > 0 and (s[1] - 1 <= s[0] or s[0]==0)"
   ]
  },
  {
   "cell_type": "code",
   "execution_count": 500,
   "metadata": {},
   "outputs": [
    {
     "data": {
      "text/plain": [
       "False"
      ]
     },
     "execution_count": 500,
     "metadata": {},
     "output_type": "execute_result"
    }
   ],
   "source": [
    "( count_status[state_count][3] >= count_status[state_count][4] + 1) and not (\n",
    "                    (count_status[state_count][3], count_status[state_count][4] + 1, 1) in visited) and not (\n",
    "                    (count_status[state_count][3], count_status[state_count][4] + 1, 1) in queue)"
   ]
  },
  {
   "cell_type": "code",
   "execution_count": 502,
   "metadata": {},
   "outputs": [
    {
     "data": {
      "text/plain": [
       "False"
      ]
     },
     "execution_count": 502,
     "metadata": {},
     "output_type": "execute_result"
    }
   ],
   "source": [
    "(count_status[state_count][3] >= count_status[state_count][4] + 1)"
   ]
  },
  {
   "cell_type": "code",
   "execution_count": 504,
   "metadata": {},
   "outputs": [
    {
     "data": {
      "text/plain": [
       "1"
      ]
     },
     "execution_count": 504,
     "metadata": {},
     "output_type": "execute_result"
    }
   ],
   "source": [
    "count_status[state_count][4] + 1"
   ]
  },
  {
   "cell_type": "code",
   "execution_count": 317,
   "metadata": {},
   "outputs": [
    {
     "data": {
      "text/plain": [
       "[[(0, 0), (0, 1)], [(0, 0), (0, 1)]]"
      ]
     },
     "execution_count": 317,
     "metadata": {},
     "output_type": "execute_result"
    }
   ],
   "source": [
    "moves_track"
   ]
  }
 ],
 "metadata": {
  "kernelspec": {
   "display_name": "Python 3",
   "language": "python",
   "name": "python3"
  },
  "language_info": {
   "codemirror_mode": {
    "name": "ipython",
    "version": 3
   },
   "file_extension": ".py",
   "mimetype": "text/x-python",
   "name": "python",
   "nbconvert_exporter": "python",
   "pygments_lexer": "ipython3",
   "version": "3.8.3"
  }
 },
 "nbformat": 4,
 "nbformat_minor": 4
}
