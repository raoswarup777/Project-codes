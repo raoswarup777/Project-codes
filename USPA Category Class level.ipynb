{
 "cells": [
  {
   "cell_type": "code",
   "execution_count": 1,
   "metadata": {},
   "outputs": [],
   "source": [
    "#import all necessary libraries\n",
    "import pandas as pd\n",
    "import matplotlib.pyplot as plt\n",
    "import seaborn as sns\n",
    "import numpy as np\n",
    "from scipy.stats import norm\n",
    "from sklearn.preprocessing import StandardScaler\n",
    "from scipy import stats\n",
    "import warnings\n",
    "warnings.filterwarnings('ignore')\n",
    "%matplotlib inline\n",
    "import os\n",
    "os.chdir(\"D:\\\\USPA - Demand Planning v2\\\\Store v2\\\\2. Data\\\\Category class\\\\\")"
   ]
  },
  {
   "cell_type": "code",
   "execution_count": 7,
   "metadata": {
    "scrolled": true
   },
   "outputs": [],
   "source": [
    "Data = pd.read_csv(\"USPA Store Data updated.csv\")"
   ]
  },
  {
   "cell_type": "code",
   "execution_count": 8,
   "metadata": {
    "scrolled": true
   },
   "outputs": [
    {
     "name": "stdout",
     "output_type": "stream",
     "text": [
      "New Store code              0\n",
      "SUBBRAND                    0\n",
      "MATERIALTYPE                0\n",
      "month                       0\n",
      "sum_gsv                     0\n",
      "Sum_netqty                  0\n",
      "Return Perc GSV             0\n",
      "Return Perc volume          0\n",
      "Avg_Discount percentage     0\n",
      "Discounted volume           0\n",
      "eoss_flag                   0\n",
      "eoss_days                   0\n",
      "isfirstmonth                0\n",
      "ltl_gsv                     0\n",
      "LTL_netqty                  0\n",
      "Ugadi_Fest                  0\n",
      "Bihu_Fest                   0\n",
      "Ramzan_Fest                 0\n",
      "Ganesh_Chaturthi            0\n",
      "Dusherra_Fest               0\n",
      "Diwali_Fest                 0\n",
      "Christmas_Fest              0\n",
      "New_Year_Fest               0\n",
      "Holi                        0\n",
      "Labor_Day_Fest              0\n",
      "Gandhi_Jayanthi_Day_Fest    0\n",
      "Good_Friday_Fest            0\n",
      "Raksha_Bandhan_Fest         0\n",
      "Eid                         0\n",
      "Prev Period Growth          0\n",
      "                           ..\n",
      "Discount_Lag6               0\n",
      "Discount_Lag7               0\n",
      "Discount_Lag8               0\n",
      "Discount_Lag9               0\n",
      "Discount_Lag10              0\n",
      "Discount_Lag11              0\n",
      "gsv_Lag1                    0\n",
      "gsv_Lag2                    0\n",
      "gsv_Lag3                    0\n",
      "gsv_Lag4                    0\n",
      "gsv_Lag5                    0\n",
      "gsv_Lag6                    0\n",
      "gsv_Lag7                    0\n",
      "gsv_Lag8                    0\n",
      "gsv_Lag9                    0\n",
      "gsv_Lag10                   0\n",
      "gsv_Lag11                   0\n",
      "Return_Lag1                 0\n",
      "Return_Lag2                 0\n",
      "Return_Lag3                 0\n",
      "Return_Lag4                 0\n",
      "Return_Lag5                 0\n",
      "Return_Lag6                 0\n",
      "Return_Lag7                 0\n",
      "Return_Lag8                 0\n",
      "Return_Lag9                 0\n",
      "Return_Lag10                0\n",
      "Return_Lag11                0\n",
      "mon                         0\n",
      "Year                        0\n",
      "Length: 102, dtype: int64\n"
     ]
    }
   ],
   "source": [
    "#Find out if there are any nulls in the data\n",
    "print(Data.isnull().sum(axis=0))"
   ]
  },
  {
   "cell_type": "code",
   "execution_count": 9,
   "metadata": {},
   "outputs": [
    {
     "name": "stdout",
     "output_type": "stream",
     "text": [
      "New Store code              0\n",
      "SUBBRAND                    0\n",
      "MATERIALTYPE                0\n",
      "month                       0\n",
      "sum_gsv                     0\n",
      "Sum_netqty                  0\n",
      "Return Perc GSV             0\n",
      "Return Perc volume          0\n",
      "Avg_Discount percentage     0\n",
      "Discounted volume           0\n",
      "eoss_flag                   0\n",
      "eoss_days                   0\n",
      "isfirstmonth                0\n",
      "ltl_gsv                     0\n",
      "LTL_netqty                  0\n",
      "Ugadi_Fest                  0\n",
      "Bihu_Fest                   0\n",
      "Ramzan_Fest                 0\n",
      "Ganesh_Chaturthi            0\n",
      "Dusherra_Fest               0\n",
      "Diwali_Fest                 0\n",
      "Christmas_Fest              0\n",
      "New_Year_Fest               0\n",
      "Holi                        0\n",
      "Labor_Day_Fest              0\n",
      "Gandhi_Jayanthi_Day_Fest    0\n",
      "Good_Friday_Fest            0\n",
      "Raksha_Bandhan_Fest         0\n",
      "Eid                         0\n",
      "Prev Period Growth          0\n",
      "                           ..\n",
      "Discount_Lag6               0\n",
      "Discount_Lag7               0\n",
      "Discount_Lag8               0\n",
      "Discount_Lag9               0\n",
      "Discount_Lag10              0\n",
      "Discount_Lag11              0\n",
      "gsv_Lag1                    0\n",
      "gsv_Lag2                    0\n",
      "gsv_Lag3                    0\n",
      "gsv_Lag4                    0\n",
      "gsv_Lag5                    0\n",
      "gsv_Lag6                    0\n",
      "gsv_Lag7                    0\n",
      "gsv_Lag8                    0\n",
      "gsv_Lag9                    0\n",
      "gsv_Lag10                   0\n",
      "gsv_Lag11                   0\n",
      "Return_Lag1                 0\n",
      "Return_Lag2                 0\n",
      "Return_Lag3                 0\n",
      "Return_Lag4                 0\n",
      "Return_Lag5                 0\n",
      "Return_Lag6                 0\n",
      "Return_Lag7                 0\n",
      "Return_Lag8                 0\n",
      "Return_Lag9                 0\n",
      "Return_Lag10                0\n",
      "Return_Lag11                0\n",
      "mon                         0\n",
      "Year                        0\n",
      "Length: 102, dtype: int64\n"
     ]
    }
   ],
   "source": [
    "#Delete the rows with Null values\n",
    "Data.dropna(how = 'any', axis = 0, inplace=True)\n",
    "print(Data.isnull().sum(axis=0))"
   ]
  },
  {
   "cell_type": "code",
   "execution_count": 10,
   "metadata": {},
   "outputs": [
    {
     "name": "stdout",
     "output_type": "stream",
     "text": [
      "Index(['New Store code', 'SUBBRAND', 'MATERIALTYPE', 'month', 'sum_gsv',\n",
      "       'Sum_netqty', 'Return Perc GSV', 'Return Perc volume',\n",
      "       'Avg_Discount percentage', 'Discounted volume',\n",
      "       ...\n",
      "       'Return_Lag4', 'Return_Lag5', 'Return_Lag6', 'Return_Lag7',\n",
      "       'Return_Lag8', 'Return_Lag9', 'Return_Lag10', 'Return_Lag11', 'mon',\n",
      "       'Year'],\n",
      "      dtype='object', length=102)\n"
     ]
    }
   ],
   "source": [
    "print(Data.columns)"
   ]
  },
  {
   "cell_type": "code",
   "execution_count": 12,
   "metadata": {
    "scrolled": false
   },
   "outputs": [],
   "source": [
    "Data = Data[['New Store code', 'SUBBRAND', 'MATERIALTYPE', 'month', 'Year',\n",
    "       'mon','Sum_netqty', 'Return Perc GSV', 'Return Perc volume',\n",
    "       'Avg_Discount percentage', 'Discounted volume', 'eoss_flag',\n",
    "       'eoss_days', 'isfirstmonth', 'ltl_gsv', 'LTL_netqty', 'Ugadi_Fest',\n",
    "       'Bihu_Fest', 'Ramzan_Fest', 'Ganesh_Chaturthi', 'Dusherra_Fest',\n",
    "       'Diwali_Fest', 'Christmas_Fest', 'New_Year_Fest', 'Holi',\n",
    "       'Labor_Day_Fest', 'Gandhi_Jayanthi_Day_Fest', 'Good_Friday_Fest',\n",
    "       'Raksha_Bandhan_Fest', 'Eid',\n",
    "       'Total_fest', 'core_stock', 'current_stock', 'old_stock',\n",
    "       'core_stock_lm', 'current_stock_lm', 'old_stock_lm', \n",
    "        'AGE', 'TERRITORY', 'CARPET AREA', 'TIER',\n",
    "       'Total Stock', 'NetQty_Lag1', 'NetQty_Lag2', 'NetQty_Lag3',\n",
    "       'NetQty_Lag4', 'NetQty_Lag5', 'NetQty_Lag6', 'NetQty_Lag7',\n",
    "       'NetQty_Lag8', 'NetQty_Lag9', 'NetQty_Lag10', 'NetQty_Lag11',\n",
    "       'TotalStock_Lag1', 'TotalStock_Lag2', 'TotalStock_Lag3',\n",
    "       'TotalStock_Lag4', 'TotalStock_Lag5', 'TotalStock_Lag6',\n",
    "       'TotalStock_Lag7', 'TotalStock_Lag8', 'TotalStock_Lag9',\n",
    "       'TotalStock_Lag10', 'TotalStock_Lag11', 'Discount_Lag1',\n",
    "       'Discount_Lag2', 'Discount_Lag3', 'Discount_Lag4', 'Discount_Lag5',\n",
    "       'Discount_Lag6', 'Discount_Lag7', 'Discount_Lag8', 'Discount_Lag9',\n",
    "       'Discount_Lag10', 'Discount_Lag11', 'gsv_Lag1', 'gsv_Lag2', 'gsv_Lag3',\n",
    "       'gsv_Lag4', 'gsv_Lag5', 'gsv_Lag6', 'gsv_Lag7', 'gsv_Lag8', 'gsv_Lag9',\n",
    "       'gsv_Lag10', 'gsv_Lag11', 'Return_Lag1', 'Return_Lag2', 'Return_Lag3',\n",
    "       'Return_Lag4', 'Return_Lag5', 'Return_Lag6', 'Return_Lag7',\n",
    "       'Return_Lag8', 'Return_Lag9', 'Return_Lag10', 'Return_Lag11']]"
   ]
  },
  {
   "cell_type": "code",
   "execution_count": 13,
   "metadata": {},
   "outputs": [
    {
     "name": "stdout",
     "output_type": "stream",
     "text": [
      "count    62556.000000\n",
      "mean        86.658562\n",
      "std         92.719074\n",
      "min          1.000000\n",
      "25%         30.000000\n",
      "50%         58.000000\n",
      "75%        110.000000\n",
      "max       1338.000000\n",
      "Name: Sum_netqty, dtype: float64\n",
      "(62556, 99)\n"
     ]
    }
   ],
   "source": [
    "#Filtering Data to exclude months having 0 sales\n",
    "Data= Data[(Data['Sum_netqty'] > 0) & (Data['ltl_gsv'] > 0) & (Data['LTL_netqty'] > 0)]\n",
    "print(Data.Sum_netqty.describe())\n",
    "print(Data.shape)"
   ]
  },
  {
   "cell_type": "code",
   "execution_count": 10,
   "metadata": {},
   "outputs": [
    {
     "name": "stdout",
     "output_type": "stream",
     "text": [
      "(46065, 101)\n",
      "(4472, 101)\n"
     ]
    }
   ],
   "source": [
    "Training = Data[(Data['month'] > 201612) & (Data['month'] < 201908)]\n",
    "Test1 = Data[(Data['month'] > 201908) & (Data['month'] <= 201912) ]\n",
    "Test = Test1\n",
    "Test.drop(['New Store code','month'],axis=1)\n",
    "print(Training.shape)\n",
    "print(Test1.shape)"
   ]
  },
  {
   "cell_type": "code",
   "execution_count": 11,
   "metadata": {},
   "outputs": [
    {
     "name": "stdout",
     "output_type": "stream",
     "text": [
      "Index(['New Store code', 'SUBBRAND', 'MATERIALTYPE', 'month', 'Year',\n",
      "       'Discount bucket', 'Discount volume bucket', 'Mon', 'Sum_netqty',\n",
      "       'Return Perc GSV',\n",
      "       ...\n",
      "       'Return_Lag2', 'Return_Lag3', 'Return_Lag4', 'Return_Lag5',\n",
      "       'Return_Lag6', 'Return_Lag7', 'Return_Lag8', 'Return_Lag9',\n",
      "       'Return_Lag10', 'Return_Lag11'],\n",
      "      dtype='object', length=101)\n",
      "(4472, 101)\n",
      "Index(['New Store code', 'SUBBRAND', 'MATERIALTYPE', 'month', 'Year',\n",
      "       'Discount bucket', 'Discount volume bucket', 'Mon', 'Sum_netqty',\n",
      "       'Return Perc GSV',\n",
      "       ...\n",
      "       'Return_Lag2', 'Return_Lag3', 'Return_Lag4', 'Return_Lag5',\n",
      "       'Return_Lag6', 'Return_Lag7', 'Return_Lag8', 'Return_Lag9',\n",
      "       'Return_Lag10', 'Return_Lag11'],\n",
      "      dtype='object', length=101)\n",
      "(46065, 101)\n"
     ]
    }
   ],
   "source": [
    "print(Test1.columns)\n",
    "print(Test1.shape)\n",
    "print(Training.columns)\n",
    "print(Training.shape)"
   ]
  },
  {
   "cell_type": "code",
   "execution_count": 12,
   "metadata": {},
   "outputs": [
    {
     "name": "stdout",
     "output_type": "stream",
     "text": [
      "(62556, 101)\n",
      "(46065, 101)\n"
     ]
    }
   ],
   "source": [
    "Data2 = Training\n",
    "print(Data.shape)\n",
    "print(Data2.shape)"
   ]
  },
  {
   "cell_type": "code",
   "execution_count": 13,
   "metadata": {},
   "outputs": [],
   "source": [
    "#applying log transformation\n",
    "Data2['Sum_netqty'] = np.log(Data2['Sum_netqty'])\n",
    "Data2['ltl_gsv'] = np.log(Data2['ltl_gsv'])\n",
    "Data2['LTL_netqty'] = np.log(Data2['LTL_netqty'])"
   ]
  },
  {
   "cell_type": "code",
   "execution_count": 14,
   "metadata": {},
   "outputs": [],
   "source": [
    "Data3 = Data2[(Data2['ltl_gsv'] > 7)]\n",
    "Data3 = Data3[(Data3['LTL_netqty'] > 0.5)]"
   ]
  },
  {
   "cell_type": "code",
   "execution_count": 80,
   "metadata": {
    "scrolled": false
   },
   "outputs": [
    {
     "data": {
      "image/png": "[encoded data removed]",
      "text/plain": [
       "<Figure size 432x288 with 1 Axes>"
      ]
     },
     "metadata": {
      "needs_background": "light"
     },
     "output_type": "display_data"
    },
    {
     "data": {
      "image/png": "[encoded data removed]",
      "text/plain": [
       "<Figure size 432x288 with 1 Axes>"
      ]
     },
     "metadata": {
      "needs_background": "light"
     },
     "output_type": "display_data"
    }
   ],
   "source": [
    "#histogram and normal probability plot\n",
    "sns.distplot(Data2['Sum_netqty'], fit=norm);\n",
    "fig = plt.figure()\n",
    "res = stats.probplot(Data2['Sum_netqty'], plot=plt)"
   ]
  },
  {
   "cell_type": "code",
   "execution_count": 81,
   "metadata": {},
   "outputs": [
    {
     "data": {
      "image/png": "[encoded data removed]",
      "text/plain": [
       "<Figure size 432x288 with 1 Axes>"
      ]
     },
     "metadata": {
      "needs_background": "light"
     },
     "output_type": "display_data"
    },
    {
     "data": {
      "image/png": "[encoded data removed]",
      "text/plain": [
       "<Figure size 432x288 with 1 Axes>"
      ]
     },
     "metadata": {
      "needs_background": "light"
     },
     "output_type": "display_data"
    }
   ],
   "source": [
    "#histogram and normal probability plot\n",
    "sns.distplot(Data2['ltl_gsv'], fit=norm);\n",
    "fig = plt.figure()\n",
    "res = stats.probplot(Data2['ltl_gsv'], plot=plt)"
   ]
  },
  {
   "cell_type": "code",
   "execution_count": 83,
   "metadata": {},
   "outputs": [
    {
     "data": {
      "image/png": "[encoded data removed]",
      "text/plain": [
       "<Figure size 432x288 with 1 Axes>"
      ]
     },
     "metadata": {
      "needs_background": "light"
     },
     "output_type": "display_data"
    },
    {
     "data": {
      "image/png": "[encoded data removed]",
      "text/plain": [
       "<Figure size 432x288 with 1 Axes>"
      ]
     },
     "metadata": {
      "needs_background": "light"
     },
     "output_type": "display_data"
    }
   ],
   "source": [
    "#histogram and normal probability plot\n",
    "sns.distplot(Data2['LTL_netqty'], fit=norm);\n",
    "fig = plt.figure()\n",
    "res = stats.probplot(Data2['LTL_netqty'], plot=plt)"
   ]
  },
  {
   "cell_type": "code",
   "execution_count": 15,
   "metadata": {},
   "outputs": [
    {
     "name": "stdout",
     "output_type": "stream",
     "text": [
      "(45949, 101)\n",
      "(45949, 99)\n"
     ]
    }
   ],
   "source": [
    "ModelingData = Data3.drop(['New Store code','month'],axis=1)\n",
    "print(Data3.shape)\n",
    "print(ModelingData.shape)"
   ]
  },
  {
   "cell_type": "code",
   "execution_count": 16,
   "metadata": {
    "scrolled": true
   },
   "outputs": [
    {
     "data": {
      "text/plain": [
       "Index(['SUBBRAND', 'MATERIALTYPE', 'Year', 'Discount bucket',\n",
       "       'Discount volume bucket', 'Mon', 'Sum_netqty', 'Return Perc GSV',\n",
       "       'Return Perc volume', 'Avg_Discount percentage', 'Discounted volume',\n",
       "       'eoss_flag', 'eoss_days', 'isfirstmonth', 'ltl_gsv', 'LTL_netqty',\n",
       "       'Ugadi_Fest', 'Bihu_Fest', 'Ramzan_Fest', 'Ganesh_Chaturthi',\n",
       "       'Dusherra_Fest', 'Diwali_Fest', 'Christmas_Fest', 'New_Year_Fest',\n",
       "       'Holi', 'Labor_Day_Fest', 'Gandhi_Jayanthi_Day_Fest',\n",
       "       'Good_Friday_Fest', 'Raksha_Bandhan_Fest', 'Eid', 'Prev Period Growth',\n",
       "       'Prev Yr Growth', 'Total_fest', 'core_stock', 'current_stock',\n",
       "       'old_stock', 'core_stock_lm', 'current_stock_lm', 'old_stock_lm', 'AGE',\n",
       "       'TERRITORY', 'CARPET AREA', 'TIER', 'Total Stock', 'NetQty_Lag1',\n",
       "       'NetQty_Lag2', 'NetQty_Lag3', 'NetQty_Lag4', 'NetQty_Lag5',\n",
       "       'NetQty_Lag6', 'NetQty_Lag7', 'NetQty_Lag8', 'NetQty_Lag9',\n",
       "       'NetQty_Lag10', 'NetQty_Lag11', 'TotalStock_Lag1', 'TotalStock_Lag2',\n",
       "       'TotalStock_Lag3', 'TotalStock_Lag4', 'TotalStock_Lag5',\n",
       "       'TotalStock_Lag6', 'TotalStock_Lag7', 'TotalStock_Lag8',\n",
       "       'TotalStock_Lag9', 'TotalStock_Lag10', 'TotalStock_Lag11',\n",
       "       'Discount_Lag1', 'Discount_Lag2', 'Discount_Lag3', 'Discount_Lag4',\n",
       "       'Discount_Lag5', 'Discount_Lag6', 'Discount_Lag7', 'Discount_Lag8',\n",
       "       'Discount_Lag9', 'Discount_Lag10', 'Discount_Lag11', 'gsv_Lag1',\n",
       "       'gsv_Lag2', 'gsv_Lag3', 'gsv_Lag4', 'gsv_Lag5', 'gsv_Lag6', 'gsv_Lag7',\n",
       "       'gsv_Lag8', 'gsv_Lag9', 'gsv_Lag10', 'gsv_Lag11', 'Return_Lag1',\n",
       "       'Return_Lag2', 'Return_Lag3', 'Return_Lag4', 'Return_Lag5',\n",
       "       'Return_Lag6', 'Return_Lag7', 'Return_Lag8', 'Return_Lag9',\n",
       "       'Return_Lag10', 'Return_Lag11'],\n",
       "      dtype='object')"
      ]
     },
     "execution_count": 16,
     "metadata": {},
     "output_type": "execute_result"
    }
   ],
   "source": [
    "ModelingData.columns"
   ]
  },
  {
   "cell_type": "code",
   "execution_count": 17,
   "metadata": {},
   "outputs": [],
   "source": [
    "Training = ModelingData"
   ]
  },
  {
   "cell_type": "code",
   "execution_count": 18,
   "metadata": {},
   "outputs": [],
   "source": [
    "Test.drop(['New Store code','month'],axis=1,inplace=True)"
   ]
  },
  {
   "cell_type": "code",
   "execution_count": 19,
   "metadata": {},
   "outputs": [
    {
     "data": {
      "text/plain": [
       "Index(['SUBBRAND', 'MATERIALTYPE', 'Year', 'Discount bucket',\n",
       "       'Discount volume bucket', 'Mon', 'Sum_netqty', 'Return Perc GSV',\n",
       "       'Return Perc volume', 'Avg_Discount percentage', 'Discounted volume',\n",
       "       'eoss_flag', 'eoss_days', 'isfirstmonth', 'ltl_gsv', 'LTL_netqty',\n",
       "       'Ugadi_Fest', 'Bihu_Fest', 'Ramzan_Fest', 'Ganesh_Chaturthi',\n",
       "       'Dusherra_Fest', 'Diwali_Fest', 'Christmas_Fest', 'New_Year_Fest',\n",
       "       'Holi', 'Labor_Day_Fest', 'Gandhi_Jayanthi_Day_Fest',\n",
       "       'Good_Friday_Fest', 'Raksha_Bandhan_Fest', 'Eid', 'Prev Period Growth',\n",
       "       'Prev Yr Growth', 'Total_fest', 'core_stock', 'current_stock',\n",
       "       'old_stock', 'core_stock_lm', 'current_stock_lm', 'old_stock_lm', 'AGE',\n",
       "       'TERRITORY', 'CARPET AREA', 'TIER', 'Total Stock', 'NetQty_Lag1',\n",
       "       'NetQty_Lag2', 'NetQty_Lag3', 'NetQty_Lag4', 'NetQty_Lag5',\n",
       "       'NetQty_Lag6', 'NetQty_Lag7', 'NetQty_Lag8', 'NetQty_Lag9',\n",
       "       'NetQty_Lag10', 'NetQty_Lag11', 'TotalStock_Lag1', 'TotalStock_Lag2',\n",
       "       'TotalStock_Lag3', 'TotalStock_Lag4', 'TotalStock_Lag5',\n",
       "       'TotalStock_Lag6', 'TotalStock_Lag7', 'TotalStock_Lag8',\n",
       "       'TotalStock_Lag9', 'TotalStock_Lag10', 'TotalStock_Lag11',\n",
       "       'Discount_Lag1', 'Discount_Lag2', 'Discount_Lag3', 'Discount_Lag4',\n",
       "       'Discount_Lag5', 'Discount_Lag6', 'Discount_Lag7', 'Discount_Lag8',\n",
       "       'Discount_Lag9', 'Discount_Lag10', 'Discount_Lag11', 'gsv_Lag1',\n",
       "       'gsv_Lag2', 'gsv_Lag3', 'gsv_Lag4', 'gsv_Lag5', 'gsv_Lag6', 'gsv_Lag7',\n",
       "       'gsv_Lag8', 'gsv_Lag9', 'gsv_Lag10', 'gsv_Lag11', 'Return_Lag1',\n",
       "       'Return_Lag2', 'Return_Lag3', 'Return_Lag4', 'Return_Lag5',\n",
       "       'Return_Lag6', 'Return_Lag7', 'Return_Lag8', 'Return_Lag9',\n",
       "       'Return_Lag10', 'Return_Lag11'],\n",
       "      dtype='object')"
      ]
     },
     "execution_count": 19,
     "metadata": {},
     "output_type": "execute_result"
    }
   ],
   "source": [
    "Test.columns"
   ]
  },
  {
   "cell_type": "code",
   "execution_count": 20,
   "metadata": {},
   "outputs": [
    {
     "name": "stdout",
     "output_type": "stream",
     "text": [
      "(45949, 127)\n",
      "(4472, 126)\n"
     ]
    }
   ],
   "source": [
    "Training_dummy = pd.get_dummies(Training)\n",
    "Test_dummy = pd.get_dummies(Test)\n",
    "print(Training_dummy.shape)\n",
    "print(Test_dummy.shape)"
   ]
  },
  {
   "cell_type": "code",
   "execution_count": 21,
   "metadata": {},
   "outputs": [
    {
     "data": {
      "text/plain": [
       "Index(['Year', 'Discount bucket', 'Discount volume bucket', 'Mon',\n",
       "       'Sum_netqty', 'Return Perc GSV', 'Return Perc volume',\n",
       "       'Avg_Discount percentage', 'Discounted volume', 'eoss_flag',\n",
       "       ...\n",
       "       'TERRITORY_RAJASTHAN', 'TERRITORY_ROAT', 'TERRITORY_ROM',\n",
       "       'TERRITORY_TN', 'TERRITORY_WB', 'TERRITORY_WUP+UKH', 'TIER_M',\n",
       "       'TIER_T1', 'TIER_T2', 'TIER_T3'],\n",
       "      dtype='object', length=127)"
      ]
     },
     "execution_count": 21,
     "metadata": {},
     "output_type": "execute_result"
    }
   ],
   "source": [
    "Training_dummy.columns"
   ]
  },
  {
   "cell_type": "code",
   "execution_count": 22,
   "metadata": {},
   "outputs": [
    {
     "name": "stdout",
     "output_type": "stream",
     "text": [
      "{'TERRITORY_HARYANA'}\n"
     ]
    }
   ],
   "source": [
    "# Get missing columns in the training test\n",
    "missing_cols = set( Training_dummy.columns ) - set( Test_dummy.columns )\n",
    "print(missing_cols)"
   ]
  },
  {
   "cell_type": "code",
   "execution_count": 23,
   "metadata": {},
   "outputs": [],
   "source": [
    "# Add a missing column in test set with default value equal to 0\n",
    "for c in missing_cols:\n",
    "    Test_dummy[c] = 0\n",
    "# Ensure the order of column in the test set is in the same order than in train set\n",
    "Test_dummy = Test_dummy[Training_dummy.columns]"
   ]
  },
  {
   "cell_type": "code",
   "execution_count": 24,
   "metadata": {},
   "outputs": [],
   "source": [
    "Train_X = Training_dummy.drop(['Sum_netqty'],axis=1)\n",
    "Train_Y = Training_dummy['Sum_netqty']\n",
    "Test_X = Test_dummy.drop(['Sum_netqty'],axis=1)\n",
    "Test_Y = Test_dummy['Sum_netqty']\n",
    "Test_X['ltl_gsv'] = np.log(Test_X['ltl_gsv'])\n",
    "Test_X['LTL_netqty'] = np.log(Test_X['LTL_netqty'])\n",
    "Train_X.to_csv(\"D:\\\\USPA - Demand Planning v2\\\\Store v2\\\\1. Codes\\\\Workflow\\\\Category class\\\\Feature_trainig_Data.csv\")\n",
    "\n",
    "#print(Test_X.isnull().sum(axis=0))"
   ]
  },
  {
   "cell_type": "code",
   "execution_count": 26,
   "metadata": {},
   "outputs": [],
   "source": [
    "Train_X.drop(['TotalStock_Lag1', 'TotalStock_Lag2',\n",
    "       'TotalStock_Lag3', 'TotalStock_Lag4', 'TotalStock_Lag5',\n",
    "       'TotalStock_Lag6', 'TotalStock_Lag7', 'TotalStock_Lag8',\n",
    "       'TotalStock_Lag9', 'TotalStock_Lag10', 'TotalStock_Lag11',\n",
    "       'Discount_Lag1', 'Discount_Lag2', 'Discount_Lag3', 'Discount_Lag4',\n",
    "       'Discount_Lag5', 'Discount_Lag6', 'Discount_Lag7', 'Discount_Lag8',\n",
    "       'Discount_Lag9', 'Discount_Lag10', 'Discount_Lag11', 'gsv_Lag1',\n",
    "       'gsv_Lag2', 'gsv_Lag3', 'gsv_Lag4', 'gsv_Lag5', 'gsv_Lag6', 'gsv_Lag7',\n",
    "       'gsv_Lag8', 'gsv_Lag9', 'gsv_Lag10', 'gsv_Lag11', 'Return_Lag1',\n",
    "       'Return_Lag2', 'Return_Lag3', 'Return_Lag4', 'Return_Lag5',\n",
    "       'Return_Lag6', 'Return_Lag7', 'Return_Lag8', 'Return_Lag9',\n",
    "       'Return_Lag10', 'Return_Lag11'],axis=1,inplace=True)\n",
    "Test_X.drop(['TotalStock_Lag1', 'TotalStock_Lag2',\n",
    "       'TotalStock_Lag3', 'TotalStock_Lag4', 'TotalStock_Lag5',\n",
    "       'TotalStock_Lag6', 'TotalStock_Lag7', 'TotalStock_Lag8',\n",
    "       'TotalStock_Lag9', 'TotalStock_Lag10', 'TotalStock_Lag11',\n",
    "       'Discount_Lag1', 'Discount_Lag2', 'Discount_Lag3', 'Discount_Lag4',\n",
    "       'Discount_Lag5', 'Discount_Lag6', 'Discount_Lag7', 'Discount_Lag8',\n",
    "       'Discount_Lag9', 'Discount_Lag10', 'Discount_Lag11', 'gsv_Lag1',\n",
    "       'gsv_Lag2', 'gsv_Lag3', 'gsv_Lag4', 'gsv_Lag5', 'gsv_Lag6', 'gsv_Lag7',\n",
    "       'gsv_Lag8', 'gsv_Lag9', 'gsv_Lag10', 'gsv_Lag11', 'Return_Lag1',\n",
    "       'Return_Lag2', 'Return_Lag3', 'Return_Lag4', 'Return_Lag5',\n",
    "       'Return_Lag6', 'Return_Lag7', 'Return_Lag8', 'Return_Lag9',\n",
    "       'Return_Lag10', 'Return_Lag11'],axis=1,inplace=True)"
   ]
  },
  {
   "cell_type": "code",
   "execution_count": 194,
   "metadata": {},
   "outputs": [],
   "source": [
    "XGBGrid = {  \"learning_rate\"    : [0.05, 0.10, 0.15, 0.25, 0.30 ] ,\n",
    "             \"max_depth\"        : [ 3,4, 5,8],\n",
    "             \"min_child_weight\" : [ 1, 3, 5 ],\n",
    "             \"gamma\"            : [ 0.0, 0.1, 0.2],\n",
    "             \"colsample_bytree\" : [0.7,1 ] }"
   ]
  },
  {
   "cell_type": "code",
   "execution_count": 196,
   "metadata": {},
   "outputs": [
    {
     "name": "stdout",
     "output_type": "stream",
     "text": [
      "Fitting 3 folds for each of 100 candidates, totalling 300 fits\n",
      "[CV] min_child_weight=5, max_depth=5, learning_rate=0.25, gamma=0.0, colsample_bytree=1 \n"
     ]
    },
    {
     "name": "stderr",
     "output_type": "stream",
     "text": [
      "[Parallel(n_jobs=1)]: Using backend SequentialBackend with 1 concurrent workers.\n"
     ]
    },
    {
     "name": "stdout",
     "output_type": "stream",
     "text": [
      "[10:07:10] WARNING: C:/Jenkins/workspace/xgboost-win64_release_0.90/src/objective/regression_obj.cu:152: reg:linear is now deprecated in favor of reg:squarederror.\n"
     ]
    },
    {
     "ename": "KeyboardInterrupt",
     "evalue": "",
     "output_type": "error",
     "traceback": [
      "\u001b[1;31m---------------------------------------------------------------------------\u001b[0m",
      "\u001b[1;31mKeyboardInterrupt\u001b[0m                         Traceback (most recent call last)",
      "\u001b[1;32m<ipython-input-196-b1d5c2c6076d>\u001b[0m in \u001b[0;36m<module>\u001b[1;34m\u001b[0m\n\u001b[0;32m      7\u001b[0m                                n_iter = 100, cv = 3, verbose=2, random_state=42)\n\u001b[0;32m      8\u001b[0m \u001b[1;31m# Train the model on training data\u001b[0m\u001b[1;33m\u001b[0m\u001b[1;33m\u001b[0m\u001b[1;33m\u001b[0m\u001b[0m\n\u001b[1;32m----> 9\u001b[1;33m \u001b[0mXGB_random\u001b[0m\u001b[1;33m.\u001b[0m\u001b[0mfit\u001b[0m\u001b[1;33m(\u001b[0m\u001b[0mTrain_X\u001b[0m\u001b[1;33m,\u001b[0m \u001b[0mTrain_Y\u001b[0m\u001b[1;33m)\u001b[0m\u001b[1;33m;\u001b[0m\u001b[1;33m\u001b[0m\u001b[1;33m\u001b[0m\u001b[0m\n\u001b[0m",
      "\u001b[1;32mC:\\ProgramData\\Anaconda3\\lib\\site-packages\\sklearn\\model_selection\\_search.py\u001b[0m in \u001b[0;36mfit\u001b[1;34m(self, X, y, groups, **fit_params)\u001b[0m\n\u001b[0;32m    685\u001b[0m                 \u001b[1;32mreturn\u001b[0m \u001b[0mresults\u001b[0m\u001b[1;33m\u001b[0m\u001b[1;33m\u001b[0m\u001b[0m\n\u001b[0;32m    686\u001b[0m \u001b[1;33m\u001b[0m\u001b[0m\n\u001b[1;32m--> 687\u001b[1;33m             \u001b[0mself\u001b[0m\u001b[1;33m.\u001b[0m\u001b[0m_run_search\u001b[0m\u001b[1;33m(\u001b[0m\u001b[0mevaluate_candidates\u001b[0m\u001b[1;33m)\u001b[0m\u001b[1;33m\u001b[0m\u001b[1;33m\u001b[0m\u001b[0m\n\u001b[0m\u001b[0;32m    688\u001b[0m \u001b[1;33m\u001b[0m\u001b[0m\n\u001b[0;32m    689\u001b[0m         \u001b[1;31m# For multi-metric evaluation, store the best_index_, best_params_ and\u001b[0m\u001b[1;33m\u001b[0m\u001b[1;33m\u001b[0m\u001b[1;33m\u001b[0m\u001b[0m\n",
      "\u001b[1;32mC:\\ProgramData\\Anaconda3\\lib\\site-packages\\sklearn\\model_selection\\_search.py\u001b[0m in \u001b[0;36m_run_search\u001b[1;34m(self, evaluate_candidates)\u001b[0m\n\u001b[0;32m   1466\u001b[0m         evaluate_candidates(ParameterSampler(\n\u001b[0;32m   1467\u001b[0m             \u001b[0mself\u001b[0m\u001b[1;33m.\u001b[0m\u001b[0mparam_distributions\u001b[0m\u001b[1;33m,\u001b[0m \u001b[0mself\u001b[0m\u001b[1;33m.\u001b[0m\u001b[0mn_iter\u001b[0m\u001b[1;33m,\u001b[0m\u001b[1;33m\u001b[0m\u001b[1;33m\u001b[0m\u001b[0m\n\u001b[1;32m-> 1468\u001b[1;33m             random_state=self.random_state))\n\u001b[0m",
      "\u001b[1;32mC:\\ProgramData\\Anaconda3\\lib\\site-packages\\sklearn\\model_selection\\_search.py\u001b[0m in \u001b[0;36mevaluate_candidates\u001b[1;34m(candidate_params)\u001b[0m\n\u001b[0;32m    664\u001b[0m                                \u001b[1;32mfor\u001b[0m \u001b[0mparameters\u001b[0m\u001b[1;33m,\u001b[0m \u001b[1;33m(\u001b[0m\u001b[0mtrain\u001b[0m\u001b[1;33m,\u001b[0m \u001b[0mtest\u001b[0m\u001b[1;33m)\u001b[0m\u001b[1;33m\u001b[0m\u001b[1;33m\u001b[0m\u001b[0m\n\u001b[0;32m    665\u001b[0m                                in product(candidate_params,\n\u001b[1;32m--> 666\u001b[1;33m                                           cv.split(X, y, groups)))\n\u001b[0m\u001b[0;32m    667\u001b[0m \u001b[1;33m\u001b[0m\u001b[0m\n\u001b[0;32m    668\u001b[0m                 \u001b[1;32mif\u001b[0m \u001b[0mlen\u001b[0m\u001b[1;33m(\u001b[0m\u001b[0mout\u001b[0m\u001b[1;33m)\u001b[0m \u001b[1;33m<\u001b[0m \u001b[1;36m1\u001b[0m\u001b[1;33m:\u001b[0m\u001b[1;33m\u001b[0m\u001b[1;33m\u001b[0m\u001b[0m\n",
      "\u001b[1;32mC:\\ProgramData\\Anaconda3\\lib\\site-packages\\joblib\\parallel.py\u001b[0m in \u001b[0;36m__call__\u001b[1;34m(self, iterable)\u001b[0m\n\u001b[0;32m    919\u001b[0m             \u001b[1;31m# remaining jobs.\u001b[0m\u001b[1;33m\u001b[0m\u001b[1;33m\u001b[0m\u001b[1;33m\u001b[0m\u001b[0m\n\u001b[0;32m    920\u001b[0m             \u001b[0mself\u001b[0m\u001b[1;33m.\u001b[0m\u001b[0m_iterating\u001b[0m \u001b[1;33m=\u001b[0m \u001b[1;32mFalse\u001b[0m\u001b[1;33m\u001b[0m\u001b[1;33m\u001b[0m\u001b[0m\n\u001b[1;32m--> 921\u001b[1;33m             \u001b[1;32mif\u001b[0m \u001b[0mself\u001b[0m\u001b[1;33m.\u001b[0m\u001b[0mdispatch_one_batch\u001b[0m\u001b[1;33m(\u001b[0m\u001b[0miterator\u001b[0m\u001b[1;33m)\u001b[0m\u001b[1;33m:\u001b[0m\u001b[1;33m\u001b[0m\u001b[1;33m\u001b[0m\u001b[0m\n\u001b[0m\u001b[0;32m    922\u001b[0m                 \u001b[0mself\u001b[0m\u001b[1;33m.\u001b[0m\u001b[0m_iterating\u001b[0m \u001b[1;33m=\u001b[0m \u001b[0mself\u001b[0m\u001b[1;33m.\u001b[0m\u001b[0m_original_iterator\u001b[0m \u001b[1;32mis\u001b[0m \u001b[1;32mnot\u001b[0m \u001b[1;32mNone\u001b[0m\u001b[1;33m\u001b[0m\u001b[1;33m\u001b[0m\u001b[0m\n\u001b[0;32m    923\u001b[0m \u001b[1;33m\u001b[0m\u001b[0m\n",
      "\u001b[1;32mC:\\ProgramData\\Anaconda3\\lib\\site-packages\\joblib\\parallel.py\u001b[0m in \u001b[0;36mdispatch_one_batch\u001b[1;34m(self, iterator)\u001b[0m\n\u001b[0;32m    757\u001b[0m                 \u001b[1;32mreturn\u001b[0m \u001b[1;32mFalse\u001b[0m\u001b[1;33m\u001b[0m\u001b[1;33m\u001b[0m\u001b[0m\n\u001b[0;32m    758\u001b[0m             \u001b[1;32melse\u001b[0m\u001b[1;33m:\u001b[0m\u001b[1;33m\u001b[0m\u001b[1;33m\u001b[0m\u001b[0m\n\u001b[1;32m--> 759\u001b[1;33m                 \u001b[0mself\u001b[0m\u001b[1;33m.\u001b[0m\u001b[0m_dispatch\u001b[0m\u001b[1;33m(\u001b[0m\u001b[0mtasks\u001b[0m\u001b[1;33m)\u001b[0m\u001b[1;33m\u001b[0m\u001b[1;33m\u001b[0m\u001b[0m\n\u001b[0m\u001b[0;32m    760\u001b[0m                 \u001b[1;32mreturn\u001b[0m \u001b[1;32mTrue\u001b[0m\u001b[1;33m\u001b[0m\u001b[1;33m\u001b[0m\u001b[0m\n\u001b[0;32m    761\u001b[0m \u001b[1;33m\u001b[0m\u001b[0m\n",
      "\u001b[1;32mC:\\ProgramData\\Anaconda3\\lib\\site-packages\\joblib\\parallel.py\u001b[0m in \u001b[0;36m_dispatch\u001b[1;34m(self, batch)\u001b[0m\n\u001b[0;32m    714\u001b[0m         \u001b[1;32mwith\u001b[0m \u001b[0mself\u001b[0m\u001b[1;33m.\u001b[0m\u001b[0m_lock\u001b[0m\u001b[1;33m:\u001b[0m\u001b[1;33m\u001b[0m\u001b[1;33m\u001b[0m\u001b[0m\n\u001b[0;32m    715\u001b[0m             \u001b[0mjob_idx\u001b[0m \u001b[1;33m=\u001b[0m \u001b[0mlen\u001b[0m\u001b[1;33m(\u001b[0m\u001b[0mself\u001b[0m\u001b[1;33m.\u001b[0m\u001b[0m_jobs\u001b[0m\u001b[1;33m)\u001b[0m\u001b[1;33m\u001b[0m\u001b[1;33m\u001b[0m\u001b[0m\n\u001b[1;32m--> 716\u001b[1;33m             \u001b[0mjob\u001b[0m \u001b[1;33m=\u001b[0m \u001b[0mself\u001b[0m\u001b[1;33m.\u001b[0m\u001b[0m_backend\u001b[0m\u001b[1;33m.\u001b[0m\u001b[0mapply_async\u001b[0m\u001b[1;33m(\u001b[0m\u001b[0mbatch\u001b[0m\u001b[1;33m,\u001b[0m \u001b[0mcallback\u001b[0m\u001b[1;33m=\u001b[0m\u001b[0mcb\u001b[0m\u001b[1;33m)\u001b[0m\u001b[1;33m\u001b[0m\u001b[1;33m\u001b[0m\u001b[0m\n\u001b[0m\u001b[0;32m    717\u001b[0m             \u001b[1;31m# A job can complete so quickly than its callback is\u001b[0m\u001b[1;33m\u001b[0m\u001b[1;33m\u001b[0m\u001b[1;33m\u001b[0m\u001b[0m\n\u001b[0;32m    718\u001b[0m             \u001b[1;31m# called before we get here, causing self._jobs to\u001b[0m\u001b[1;33m\u001b[0m\u001b[1;33m\u001b[0m\u001b[1;33m\u001b[0m\u001b[0m\n",
      "\u001b[1;32mC:\\ProgramData\\Anaconda3\\lib\\site-packages\\joblib\\_parallel_backends.py\u001b[0m in \u001b[0;36mapply_async\u001b[1;34m(self, func, callback)\u001b[0m\n\u001b[0;32m    180\u001b[0m     \u001b[1;32mdef\u001b[0m \u001b[0mapply_async\u001b[0m\u001b[1;33m(\u001b[0m\u001b[0mself\u001b[0m\u001b[1;33m,\u001b[0m \u001b[0mfunc\u001b[0m\u001b[1;33m,\u001b[0m \u001b[0mcallback\u001b[0m\u001b[1;33m=\u001b[0m\u001b[1;32mNone\u001b[0m\u001b[1;33m)\u001b[0m\u001b[1;33m:\u001b[0m\u001b[1;33m\u001b[0m\u001b[1;33m\u001b[0m\u001b[0m\n\u001b[0;32m    181\u001b[0m         \u001b[1;34m\"\"\"Schedule a func to be run\"\"\"\u001b[0m\u001b[1;33m\u001b[0m\u001b[1;33m\u001b[0m\u001b[0m\n\u001b[1;32m--> 182\u001b[1;33m         \u001b[0mresult\u001b[0m \u001b[1;33m=\u001b[0m \u001b[0mImmediateResult\u001b[0m\u001b[1;33m(\u001b[0m\u001b[0mfunc\u001b[0m\u001b[1;33m)\u001b[0m\u001b[1;33m\u001b[0m\u001b[1;33m\u001b[0m\u001b[0m\n\u001b[0m\u001b[0;32m    183\u001b[0m         \u001b[1;32mif\u001b[0m \u001b[0mcallback\u001b[0m\u001b[1;33m:\u001b[0m\u001b[1;33m\u001b[0m\u001b[1;33m\u001b[0m\u001b[0m\n\u001b[0;32m    184\u001b[0m             \u001b[0mcallback\u001b[0m\u001b[1;33m(\u001b[0m\u001b[0mresult\u001b[0m\u001b[1;33m)\u001b[0m\u001b[1;33m\u001b[0m\u001b[1;33m\u001b[0m\u001b[0m\n",
      "\u001b[1;32mC:\\ProgramData\\Anaconda3\\lib\\site-packages\\joblib\\_parallel_backends.py\u001b[0m in \u001b[0;36m__init__\u001b[1;34m(self, batch)\u001b[0m\n\u001b[0;32m    547\u001b[0m         \u001b[1;31m# Don't delay the application, to avoid keeping the input\u001b[0m\u001b[1;33m\u001b[0m\u001b[1;33m\u001b[0m\u001b[1;33m\u001b[0m\u001b[0m\n\u001b[0;32m    548\u001b[0m         \u001b[1;31m# arguments in memory\u001b[0m\u001b[1;33m\u001b[0m\u001b[1;33m\u001b[0m\u001b[1;33m\u001b[0m\u001b[0m\n\u001b[1;32m--> 549\u001b[1;33m         \u001b[0mself\u001b[0m\u001b[1;33m.\u001b[0m\u001b[0mresults\u001b[0m \u001b[1;33m=\u001b[0m \u001b[0mbatch\u001b[0m\u001b[1;33m(\u001b[0m\u001b[1;33m)\u001b[0m\u001b[1;33m\u001b[0m\u001b[1;33m\u001b[0m\u001b[0m\n\u001b[0m\u001b[0;32m    550\u001b[0m \u001b[1;33m\u001b[0m\u001b[0m\n\u001b[0;32m    551\u001b[0m     \u001b[1;32mdef\u001b[0m \u001b[0mget\u001b[0m\u001b[1;33m(\u001b[0m\u001b[0mself\u001b[0m\u001b[1;33m)\u001b[0m\u001b[1;33m:\u001b[0m\u001b[1;33m\u001b[0m\u001b[1;33m\u001b[0m\u001b[0m\n",
      "\u001b[1;32mC:\\ProgramData\\Anaconda3\\lib\\site-packages\\joblib\\parallel.py\u001b[0m in \u001b[0;36m__call__\u001b[1;34m(self)\u001b[0m\n\u001b[0;32m    223\u001b[0m         \u001b[1;32mwith\u001b[0m \u001b[0mparallel_backend\u001b[0m\u001b[1;33m(\u001b[0m\u001b[0mself\u001b[0m\u001b[1;33m.\u001b[0m\u001b[0m_backend\u001b[0m\u001b[1;33m,\u001b[0m \u001b[0mn_jobs\u001b[0m\u001b[1;33m=\u001b[0m\u001b[0mself\u001b[0m\u001b[1;33m.\u001b[0m\u001b[0m_n_jobs\u001b[0m\u001b[1;33m)\u001b[0m\u001b[1;33m:\u001b[0m\u001b[1;33m\u001b[0m\u001b[1;33m\u001b[0m\u001b[0m\n\u001b[0;32m    224\u001b[0m             return [func(*args, **kwargs)\n\u001b[1;32m--> 225\u001b[1;33m                     for func, args, kwargs in self.items]\n\u001b[0m\u001b[0;32m    226\u001b[0m \u001b[1;33m\u001b[0m\u001b[0m\n\u001b[0;32m    227\u001b[0m     \u001b[1;32mdef\u001b[0m \u001b[0m__len__\u001b[0m\u001b[1;33m(\u001b[0m\u001b[0mself\u001b[0m\u001b[1;33m)\u001b[0m\u001b[1;33m:\u001b[0m\u001b[1;33m\u001b[0m\u001b[1;33m\u001b[0m\u001b[0m\n",
      "\u001b[1;32mC:\\ProgramData\\Anaconda3\\lib\\site-packages\\joblib\\parallel.py\u001b[0m in \u001b[0;36m<listcomp>\u001b[1;34m(.0)\u001b[0m\n\u001b[0;32m    223\u001b[0m         \u001b[1;32mwith\u001b[0m \u001b[0mparallel_backend\u001b[0m\u001b[1;33m(\u001b[0m\u001b[0mself\u001b[0m\u001b[1;33m.\u001b[0m\u001b[0m_backend\u001b[0m\u001b[1;33m,\u001b[0m \u001b[0mn_jobs\u001b[0m\u001b[1;33m=\u001b[0m\u001b[0mself\u001b[0m\u001b[1;33m.\u001b[0m\u001b[0m_n_jobs\u001b[0m\u001b[1;33m)\u001b[0m\u001b[1;33m:\u001b[0m\u001b[1;33m\u001b[0m\u001b[1;33m\u001b[0m\u001b[0m\n\u001b[0;32m    224\u001b[0m             return [func(*args, **kwargs)\n\u001b[1;32m--> 225\u001b[1;33m                     for func, args, kwargs in self.items]\n\u001b[0m\u001b[0;32m    226\u001b[0m \u001b[1;33m\u001b[0m\u001b[0m\n\u001b[0;32m    227\u001b[0m     \u001b[1;32mdef\u001b[0m \u001b[0m__len__\u001b[0m\u001b[1;33m(\u001b[0m\u001b[0mself\u001b[0m\u001b[1;33m)\u001b[0m\u001b[1;33m:\u001b[0m\u001b[1;33m\u001b[0m\u001b[1;33m\u001b[0m\u001b[0m\n",
      "\u001b[1;32mC:\\ProgramData\\Anaconda3\\lib\\site-packages\\sklearn\\model_selection\\_validation.py\u001b[0m in \u001b[0;36m_fit_and_score\u001b[1;34m(estimator, X, y, scorer, train, test, verbose, parameters, fit_params, return_train_score, return_parameters, return_n_test_samples, return_times, return_estimator, error_score)\u001b[0m\n\u001b[0;32m    512\u001b[0m             \u001b[0mestimator\u001b[0m\u001b[1;33m.\u001b[0m\u001b[0mfit\u001b[0m\u001b[1;33m(\u001b[0m\u001b[0mX_train\u001b[0m\u001b[1;33m,\u001b[0m \u001b[1;33m**\u001b[0m\u001b[0mfit_params\u001b[0m\u001b[1;33m)\u001b[0m\u001b[1;33m\u001b[0m\u001b[1;33m\u001b[0m\u001b[0m\n\u001b[0;32m    513\u001b[0m         \u001b[1;32melse\u001b[0m\u001b[1;33m:\u001b[0m\u001b[1;33m\u001b[0m\u001b[1;33m\u001b[0m\u001b[0m\n\u001b[1;32m--> 514\u001b[1;33m             \u001b[0mestimator\u001b[0m\u001b[1;33m.\u001b[0m\u001b[0mfit\u001b[0m\u001b[1;33m(\u001b[0m\u001b[0mX_train\u001b[0m\u001b[1;33m,\u001b[0m \u001b[0my_train\u001b[0m\u001b[1;33m,\u001b[0m \u001b[1;33m**\u001b[0m\u001b[0mfit_params\u001b[0m\u001b[1;33m)\u001b[0m\u001b[1;33m\u001b[0m\u001b[1;33m\u001b[0m\u001b[0m\n\u001b[0m\u001b[0;32m    515\u001b[0m \u001b[1;33m\u001b[0m\u001b[0m\n\u001b[0;32m    516\u001b[0m     \u001b[1;32mexcept\u001b[0m \u001b[0mException\u001b[0m \u001b[1;32mas\u001b[0m \u001b[0me\u001b[0m\u001b[1;33m:\u001b[0m\u001b[1;33m\u001b[0m\u001b[1;33m\u001b[0m\u001b[0m\n",
      "\u001b[1;32mC:\\ProgramData\\Anaconda3\\lib\\site-packages\\xgboost\\sklearn.py\u001b[0m in \u001b[0;36mfit\u001b[1;34m(self, X, y, sample_weight, eval_set, eval_metric, early_stopping_rounds, verbose, xgb_model, sample_weight_eval_set, callbacks)\u001b[0m\n\u001b[0;32m    394\u001b[0m                               \u001b[0mevals_result\u001b[0m\u001b[1;33m=\u001b[0m\u001b[0mevals_result\u001b[0m\u001b[1;33m,\u001b[0m \u001b[0mobj\u001b[0m\u001b[1;33m=\u001b[0m\u001b[0mobj\u001b[0m\u001b[1;33m,\u001b[0m \u001b[0mfeval\u001b[0m\u001b[1;33m=\u001b[0m\u001b[0mfeval\u001b[0m\u001b[1;33m,\u001b[0m\u001b[1;33m\u001b[0m\u001b[1;33m\u001b[0m\u001b[0m\n\u001b[0;32m    395\u001b[0m                               \u001b[0mverbose_eval\u001b[0m\u001b[1;33m=\u001b[0m\u001b[0mverbose\u001b[0m\u001b[1;33m,\u001b[0m \u001b[0mxgb_model\u001b[0m\u001b[1;33m=\u001b[0m\u001b[0mxgb_model\u001b[0m\u001b[1;33m,\u001b[0m\u001b[1;33m\u001b[0m\u001b[1;33m\u001b[0m\u001b[0m\n\u001b[1;32m--> 396\u001b[1;33m                               callbacks=callbacks)\n\u001b[0m\u001b[0;32m    397\u001b[0m \u001b[1;33m\u001b[0m\u001b[0m\n\u001b[0;32m    398\u001b[0m         \u001b[1;32mif\u001b[0m \u001b[0mevals_result\u001b[0m\u001b[1;33m:\u001b[0m\u001b[1;33m\u001b[0m\u001b[1;33m\u001b[0m\u001b[0m\n",
      "\u001b[1;32mC:\\ProgramData\\Anaconda3\\lib\\site-packages\\xgboost\\training.py\u001b[0m in \u001b[0;36mtrain\u001b[1;34m(params, dtrain, num_boost_round, evals, obj, feval, maximize, early_stopping_rounds, evals_result, verbose_eval, xgb_model, callbacks, learning_rates)\u001b[0m\n\u001b[0;32m    214\u001b[0m                            \u001b[0mevals\u001b[0m\u001b[1;33m=\u001b[0m\u001b[0mevals\u001b[0m\u001b[1;33m,\u001b[0m\u001b[1;33m\u001b[0m\u001b[1;33m\u001b[0m\u001b[0m\n\u001b[0;32m    215\u001b[0m                            \u001b[0mobj\u001b[0m\u001b[1;33m=\u001b[0m\u001b[0mobj\u001b[0m\u001b[1;33m,\u001b[0m \u001b[0mfeval\u001b[0m\u001b[1;33m=\u001b[0m\u001b[0mfeval\u001b[0m\u001b[1;33m,\u001b[0m\u001b[1;33m\u001b[0m\u001b[1;33m\u001b[0m\u001b[0m\n\u001b[1;32m--> 216\u001b[1;33m                            xgb_model=xgb_model, callbacks=callbacks)\n\u001b[0m\u001b[0;32m    217\u001b[0m \u001b[1;33m\u001b[0m\u001b[0m\n\u001b[0;32m    218\u001b[0m \u001b[1;33m\u001b[0m\u001b[0m\n",
      "\u001b[1;32mC:\\ProgramData\\Anaconda3\\lib\\site-packages\\xgboost\\training.py\u001b[0m in \u001b[0;36m_train_internal\u001b[1;34m(params, dtrain, num_boost_round, evals, obj, feval, xgb_model, callbacks)\u001b[0m\n\u001b[0;32m     72\u001b[0m         \u001b[1;31m# Skip the first update if it is a recovery step.\u001b[0m\u001b[1;33m\u001b[0m\u001b[1;33m\u001b[0m\u001b[1;33m\u001b[0m\u001b[0m\n\u001b[0;32m     73\u001b[0m         \u001b[1;32mif\u001b[0m \u001b[0mversion\u001b[0m \u001b[1;33m%\u001b[0m \u001b[1;36m2\u001b[0m \u001b[1;33m==\u001b[0m \u001b[1;36m0\u001b[0m\u001b[1;33m:\u001b[0m\u001b[1;33m\u001b[0m\u001b[1;33m\u001b[0m\u001b[0m\n\u001b[1;32m---> 74\u001b[1;33m             \u001b[0mbst\u001b[0m\u001b[1;33m.\u001b[0m\u001b[0mupdate\u001b[0m\u001b[1;33m(\u001b[0m\u001b[0mdtrain\u001b[0m\u001b[1;33m,\u001b[0m \u001b[0mi\u001b[0m\u001b[1;33m,\u001b[0m \u001b[0mobj\u001b[0m\u001b[1;33m)\u001b[0m\u001b[1;33m\u001b[0m\u001b[1;33m\u001b[0m\u001b[0m\n\u001b[0m\u001b[0;32m     75\u001b[0m             \u001b[0mbst\u001b[0m\u001b[1;33m.\u001b[0m\u001b[0msave_rabit_checkpoint\u001b[0m\u001b[1;33m(\u001b[0m\u001b[1;33m)\u001b[0m\u001b[1;33m\u001b[0m\u001b[1;33m\u001b[0m\u001b[0m\n\u001b[0;32m     76\u001b[0m             \u001b[0mversion\u001b[0m \u001b[1;33m+=\u001b[0m \u001b[1;36m1\u001b[0m\u001b[1;33m\u001b[0m\u001b[1;33m\u001b[0m\u001b[0m\n",
      "\u001b[1;32mC:\\ProgramData\\Anaconda3\\lib\\site-packages\\xgboost\\core.py\u001b[0m in \u001b[0;36mupdate\u001b[1;34m(self, dtrain, iteration, fobj)\u001b[0m\n\u001b[0;32m   1107\u001b[0m         \u001b[1;32mif\u001b[0m \u001b[0mfobj\u001b[0m \u001b[1;32mis\u001b[0m \u001b[1;32mNone\u001b[0m\u001b[1;33m:\u001b[0m\u001b[1;33m\u001b[0m\u001b[1;33m\u001b[0m\u001b[0m\n\u001b[0;32m   1108\u001b[0m             _check_call(_LIB.XGBoosterUpdateOneIter(self.handle, ctypes.c_int(iteration),\n\u001b[1;32m-> 1109\u001b[1;33m                                                     dtrain.handle))\n\u001b[0m\u001b[0;32m   1110\u001b[0m         \u001b[1;32melse\u001b[0m\u001b[1;33m:\u001b[0m\u001b[1;33m\u001b[0m\u001b[1;33m\u001b[0m\u001b[0m\n\u001b[0;32m   1111\u001b[0m             \u001b[0mpred\u001b[0m \u001b[1;33m=\u001b[0m \u001b[0mself\u001b[0m\u001b[1;33m.\u001b[0m\u001b[0mpredict\u001b[0m\u001b[1;33m(\u001b[0m\u001b[0mdtrain\u001b[0m\u001b[1;33m)\u001b[0m\u001b[1;33m\u001b[0m\u001b[1;33m\u001b[0m\u001b[0m\n",
      "\u001b[1;31mKeyboardInterrupt\u001b[0m: "
     ]
    }
   ],
   "source": [
    "# Import the model we are using\n",
    "from xgboost import XGBRegressor\n",
    "from sklearn.model_selection import RandomizedSearchCV\n",
    "# Instantiate model with 1000 decision trees\n",
    "best_xgb_model = XGBRegressor(n_estimators=10000)\n",
    "XGB_random = RandomizedSearchCV(estimator = best_xgb_model, param_distributions = XGBGrid,\n",
    "                               n_iter = 100, cv = 3, verbose=2, random_state=42)\n",
    "# Train the model on training data\n",
    "XGB_random.fit(Train_X, Train_Y);"
   ]
  },
  {
   "cell_type": "code",
   "execution_count": 178,
   "metadata": {},
   "outputs": [
    {
     "data": {
      "text/plain": [
       "XGBRegressor(base_score=0.5, booster='gbtree', colsample_bylevel=1,\n",
       "             colsample_bynode=1, colsample_bytree=1, gamma=0,\n",
       "             importance_type='gain', learning_rate=0.1, max_delta_step=0,\n",
       "             max_depth=3, min_child_weight=1, missing=None, n_estimators=10000,\n",
       "             n_jobs=1, nthread=None, objective='reg:squarederror',\n",
       "             random_state=0, reg_alpha=0, reg_lambda=1, scale_pos_weight=1,\n",
       "             seed=42, silent=None, subsample=1, verbosity=1)"
      ]
     },
     "execution_count": 178,
     "metadata": {},
     "output_type": "execute_result"
    }
   ],
   "source": [
    "from xgboost import XGBRegressor\n",
    "best_xgb_model = XGBRegressor(booster='gbtree',n_estimators=10000,objective='reg:squarederror',\n",
    "             random_state=0,seed=42, silent=None,verbosity=1)\n",
    "best_xgb_model.fit(Train_X,Train_Y)"
   ]
  },
  {
   "cell_type": "code",
   "execution_count": 27,
   "metadata": {},
   "outputs": [],
   "source": [
    "from sklearn.decomposition import PCA\n",
    "from sklearn.preprocessing import MinMaxScaler\n",
    "scaler = MinMaxScaler(feature_range=[0, 1])\n",
    "Train_rescaled = scaler.fit_transform(Train_X.values)\n",
    "Test_rescaled = scaler.fit_transform(Test_X.values)"
   ]
  },
  {
   "cell_type": "code",
   "execution_count": 28,
   "metadata": {},
   "outputs": [
    {
     "data": {
      "image/png": "[encoded data removed]",
      "text/plain": [
       "<Figure size 432x288 with 1 Axes>"
      ]
     },
     "metadata": {
      "needs_background": "light"
     },
     "output_type": "display_data"
    }
   ],
   "source": [
    "#Fitting the PCA algorithm with our Data\n",
    "pca = PCA().fit(Train_rescaled)\n",
    "#Plotting the Cumulative Summation of the Explained Variance\n",
    "plt.figure()\n",
    "plt.plot(np.cumsum(pca.explained_variance_ratio_))\n",
    "plt.xlabel('Number of Components')\n",
    "plt.ylabel('Variance (%)') #for each component\n",
    "plt.title('Explained Variance')\n",
    "plt.show()"
   ]
  },
  {
   "cell_type": "code",
   "execution_count": 29,
   "metadata": {},
   "outputs": [],
   "source": [
    "pca = PCA(n_components=40)\n",
    "Train_datapca = pca.fit_transform(Train_rescaled)\n",
    "Test_datapcs = pca.fit_transform(Test_rescaled)"
   ]
  },
  {
   "cell_type": "code",
   "execution_count": 620,
   "metadata": {},
   "outputs": [],
   "source": [
    "#Ensemble model stacking\n",
    "from sklearn.ensemble import RandomForestRegressor\n",
    "from sklearn.ensemble import GradientBoostingRegressor\n",
    "models = [\n",
    "    RandomForestRegressor(n_estimators = 500, random_state = 42),\n",
    "    GradientBoostingRegressor(n_estimators  = 500)    \n",
    "]"
   ]
  },
  {
   "cell_type": "code",
   "execution_count": 626,
   "metadata": {},
   "outputs": [],
   "source": [
    "from sklearn import metrics\n",
    "def RMSLE(y, pred):\n",
    "    return metrics.mean_squared_error(y, pred) ** 0.5"
   ]
  },
  {
   "cell_type": "code",
   "execution_count": 629,
   "metadata": {},
   "outputs": [
    {
     "name": "stdout",
     "output_type": "stream",
     "text": [
      "task:         [regression]\n",
      "metric:       [mean_absolute_error]\n",
      "mode:         [oof_pred_bag]\n",
      "n_models:     [2]\n",
      "\n",
      "model  0:     [RandomForestRegressor]\n",
      "    fold  0:  [0.30987320]\n",
      "    fold  1:  [0.30780599]\n",
      "    fold  2:  [0.31466362]\n",
      "    fold  3:  [0.32148945]\n",
      "    ----\n",
      "    MEAN:     [0.31345806] + [0.00526198]\n",
      "    FULL:     [0.31345788]\n",
      "\n",
      "model  1:     [GradientBoostingRegressor]\n",
      "    fold  0:  [0.29378114]\n",
      "    fold  1:  [0.28947133]\n",
      "    fold  2:  [0.29679506]\n",
      "    fold  3:  [0.29922218]\n",
      "    ----\n",
      "    MEAN:     [0.29481743] + [0.00363894]\n",
      "    FULL:     [0.29481732]\n",
      "\n"
     ]
    },
    {
     "data": {
      "text/plain": [
       "XGBRegressor(base_score=0.5, booster='gbtree', colsample_bylevel=1,\n",
       "             colsample_bynode=1, colsample_bytree=1, gamma=0,\n",
       "             importance_type='gain', learning_rate=0.01, max_delta_step=0,\n",
       "             max_depth=3, min_child_weight=1, missing=None, n_estimators=10000,\n",
       "             n_jobs=1, nthread=None, objective='reg:squarederror',\n",
       "             random_state=0, reg_alpha=0, reg_lambda=2, scale_pos_weight=1,\n",
       "             seed=42, silent=None, subsample=1, verbosity=1)"
      ]
     },
     "execution_count": 629,
     "metadata": {},
     "output_type": "execute_result"
    }
   ],
   "source": [
    "from vecstack import stacking\n",
    "from xgboost import XGBRegressor\n",
    "S_train, S_test = stacking(models, Train_X, Train_Y, Test_X,\n",
    "    regression = True, n_folds = 4,\n",
    "    shuffle = True, random_state = 1914, verbose = 2)\n",
    "\n",
    "best_xgb_model = XGBRegressor(      \n",
    "                base_score=0.5, booster='gbtree', colsample_bylevel=1,\n",
    "             colsample_bynode=1, colsample_bytree=1, gamma=0,\n",
    "             importance_type='gain', learning_rate=0.01, max_delta_step=0,\n",
    "             max_depth=3, min_child_weight=1, missing=None, n_estimators=10000,\n",
    "             n_jobs=1, nthread=None, objective='reg:squarederror',\n",
    "             random_state=0, reg_alpha=0, reg_lambda=2, scale_pos_weight=1,\n",
    "             seed=42, silent=None, subsample=1, verbosity=1)\n",
    "best_xgb_model.fit(S_train,Train_Y)"
   ]
  },
  {
   "cell_type": "code",
   "execution_count": 27,
   "metadata": {},
   "outputs": [
    {
     "data": {
      "text/plain": [
       "XGBRegressor(base_score=0.5, booster='gbtree', colsample_bylevel=1,\n",
       "             colsample_bynode=1, colsample_bytree=1, gamma=0,\n",
       "             importance_type='gain', learning_rate=0.01, max_delta_step=0,\n",
       "             max_depth=3, min_child_weight=1, missing=None, n_estimators=10000,\n",
       "             n_jobs=1, nthread=None, objective='reg:squarederror',\n",
       "             random_state=0, reg_alpha=0, reg_lambda=2, scale_pos_weight=1,\n",
       "             seed=42, silent=None, subsample=1, verbosity=1)"
      ]
     },
     "execution_count": 27,
     "metadata": {},
     "output_type": "execute_result"
    }
   ],
   "source": [
    "from xgboost import XGBRegressor\n",
    "best_xgb_model = XGBRegressor(      \n",
    "                base_score=0.5, booster='gbtree', colsample_bylevel=1,\n",
    "             colsample_bynode=1, colsample_bytree=1, gamma=0,\n",
    "             importance_type='gain', learning_rate=0.01, max_delta_step=0,\n",
    "             max_depth=3, min_child_weight=1, missing=None, n_estimators=10000,\n",
    "             n_jobs=1, nthread=None, objective='reg:squarederror',\n",
    "             random_state=0, reg_alpha=0, reg_lambda=2, scale_pos_weight=1,\n",
    "             seed=42, silent=None, subsample=1, verbosity=1)\n",
    "best_xgb_model.fit(Train_X,Train_Y)"
   ]
  },
  {
   "cell_type": "code",
   "execution_count": 428,
   "metadata": {},
   "outputs": [
    {
     "name": "stdout",
     "output_type": "stream",
     "text": [
      "{'max_features': ['auto', 'sqrt'], 'max_depth': [10, 30, 50, 70, 100], 'min_samples_split': [2, 3, 4], 'min_samples_leaf': [2, 5, 10], 'n_estimators': [500, 1000]}\n"
     ]
    }
   ],
   "source": [
    "random_grid = {'max_features': ['auto', 'sqrt'],\n",
    "               'max_depth': [10, 30, 50, 70,100],\n",
    "               'min_samples_split': [2, 3, 4],\n",
    "               'min_samples_leaf': [2, 5, 10],\n",
    "               'n_estimators' : [500,1000]\n",
    "               }\n",
    "print(random_grid)"
   ]
  },
  {
   "cell_type": "code",
   "execution_count": 429,
   "metadata": {},
   "outputs": [
    {
     "name": "stdout",
     "output_type": "stream",
     "text": [
      "Fitting 3 folds for each of 100 candidates, totalling 300 fits\n",
      "[CV] n_estimators=1000, min_samples_split=2, min_samples_leaf=2, max_features=sqrt, max_depth=10 \n"
     ]
    },
    {
     "name": "stderr",
     "output_type": "stream",
     "text": [
      "[Parallel(n_jobs=1)]: Using backend SequentialBackend with 1 concurrent workers.\n"
     ]
    },
    {
     "name": "stdout",
     "output_type": "stream",
     "text": [
      "[CV]  n_estimators=1000, min_samples_split=2, min_samples_leaf=2, max_features=sqrt, max_depth=10, total=  49.0s\n",
      "[CV] n_estimators=1000, min_samples_split=2, min_samples_leaf=2, max_features=sqrt, max_depth=10 \n"
     ]
    },
    {
     "name": "stderr",
     "output_type": "stream",
     "text": [
      "[Parallel(n_jobs=1)]: Done   1 out of   1 | elapsed:   48.9s remaining:    0.0s\n"
     ]
    },
    {
     "name": "stdout",
     "output_type": "stream",
     "text": [
      "[CV]  n_estimators=1000, min_samples_split=2, min_samples_leaf=2, max_features=sqrt, max_depth=10, total=  47.7s\n",
      "[CV] n_estimators=1000, min_samples_split=2, min_samples_leaf=2, max_features=sqrt, max_depth=10 \n",
      "[CV]  n_estimators=1000, min_samples_split=2, min_samples_leaf=2, max_features=sqrt, max_depth=10, total=  49.2s\n",
      "[CV] n_estimators=500, min_samples_split=2, min_samples_leaf=5, max_features=auto, max_depth=30 \n",
      "[CV]  n_estimators=500, min_samples_split=2, min_samples_leaf=5, max_features=auto, max_depth=30, total= 3.6min\n",
      "[CV] n_estimators=500, min_samples_split=2, min_samples_leaf=5, max_features=auto, max_depth=30 \n",
      "[CV]  n_estimators=500, min_samples_split=2, min_samples_leaf=5, max_features=auto, max_depth=30, total= 3.6min\n",
      "[CV] n_estimators=500, min_samples_split=2, min_samples_leaf=5, max_features=auto, max_depth=30 \n",
      "[CV]  n_estimators=500, min_samples_split=2, min_samples_leaf=5, max_features=auto, max_depth=30, total= 3.5min\n",
      "[CV] n_estimators=1000, min_samples_split=3, min_samples_leaf=5, max_features=auto, max_depth=100 \n",
      "[CV]  n_estimators=1000, min_samples_split=3, min_samples_leaf=5, max_features=auto, max_depth=100, total= 7.5min\n",
      "[CV] n_estimators=1000, min_samples_split=3, min_samples_leaf=5, max_features=auto, max_depth=100 \n",
      "[CV]  n_estimators=1000, min_samples_split=3, min_samples_leaf=5, max_features=auto, max_depth=100, total= 7.6min\n",
      "[CV] n_estimators=1000, min_samples_split=3, min_samples_leaf=5, max_features=auto, max_depth=100 \n",
      "[CV]  n_estimators=1000, min_samples_split=3, min_samples_leaf=5, max_features=auto, max_depth=100, total= 7.5min\n",
      "[CV] n_estimators=500, min_samples_split=2, min_samples_leaf=5, max_features=auto, max_depth=50 \n",
      "[CV]  n_estimators=500, min_samples_split=2, min_samples_leaf=5, max_features=auto, max_depth=50, total= 3.6min\n",
      "[CV] n_estimators=500, min_samples_split=2, min_samples_leaf=5, max_features=auto, max_depth=50 \n",
      "[CV]  n_estimators=500, min_samples_split=2, min_samples_leaf=5, max_features=auto, max_depth=50, total= 3.5min\n",
      "[CV] n_estimators=500, min_samples_split=2, min_samples_leaf=5, max_features=auto, max_depth=50 \n",
      "[CV]  n_estimators=500, min_samples_split=2, min_samples_leaf=5, max_features=auto, max_depth=50, total= 3.5min\n",
      "[CV] n_estimators=1000, min_samples_split=2, min_samples_leaf=2, max_features=auto, max_depth=100 \n",
      "[CV]  n_estimators=1000, min_samples_split=2, min_samples_leaf=2, max_features=auto, max_depth=100, total= 8.4min\n",
      "[CV] n_estimators=1000, min_samples_split=2, min_samples_leaf=2, max_features=auto, max_depth=100 \n",
      "[CV]  n_estimators=1000, min_samples_split=2, min_samples_leaf=2, max_features=auto, max_depth=100, total= 8.3min\n",
      "[CV] n_estimators=1000, min_samples_split=2, min_samples_leaf=2, max_features=auto, max_depth=100 \n",
      "[CV]  n_estimators=1000, min_samples_split=2, min_samples_leaf=2, max_features=auto, max_depth=100, total= 8.4min\n",
      "[CV] n_estimators=1000, min_samples_split=3, min_samples_leaf=10, max_features=auto, max_depth=10 \n",
      "[CV]  n_estimators=1000, min_samples_split=3, min_samples_leaf=10, max_features=auto, max_depth=10, total= 5.0min\n",
      "[CV] n_estimators=1000, min_samples_split=3, min_samples_leaf=10, max_features=auto, max_depth=10 \n",
      "[CV]  n_estimators=1000, min_samples_split=3, min_samples_leaf=10, max_features=auto, max_depth=10, total= 5.1min\n",
      "[CV] n_estimators=1000, min_samples_split=3, min_samples_leaf=10, max_features=auto, max_depth=10 \n",
      "[CV]  n_estimators=1000, min_samples_split=3, min_samples_leaf=10, max_features=auto, max_depth=10, total= 6.9min\n",
      "[CV] n_estimators=500, min_samples_split=2, min_samples_leaf=5, max_features=sqrt, max_depth=10 \n",
      "[CV]  n_estimators=500, min_samples_split=2, min_samples_leaf=5, max_features=sqrt, max_depth=10, total=  32.3s\n",
      "[CV] n_estimators=500, min_samples_split=2, min_samples_leaf=5, max_features=sqrt, max_depth=10 \n",
      "[CV]  n_estimators=500, min_samples_split=2, min_samples_leaf=5, max_features=sqrt, max_depth=10, total=  32.8s\n",
      "[CV] n_estimators=500, min_samples_split=2, min_samples_leaf=5, max_features=sqrt, max_depth=10 \n",
      "[CV]  n_estimators=500, min_samples_split=2, min_samples_leaf=5, max_features=sqrt, max_depth=10, total=  33.0s\n",
      "[CV] n_estimators=500, min_samples_split=3, min_samples_leaf=10, max_features=sqrt, max_depth=30 \n",
      "[CV]  n_estimators=500, min_samples_split=3, min_samples_leaf=10, max_features=sqrt, max_depth=30, total=  41.9s\n",
      "[CV] n_estimators=500, min_samples_split=3, min_samples_leaf=10, max_features=sqrt, max_depth=30 \n",
      "[CV]  n_estimators=500, min_samples_split=3, min_samples_leaf=10, max_features=sqrt, max_depth=30, total=  36.1s\n",
      "[CV] n_estimators=500, min_samples_split=3, min_samples_leaf=10, max_features=sqrt, max_depth=30 \n",
      "[CV]  n_estimators=500, min_samples_split=3, min_samples_leaf=10, max_features=sqrt, max_depth=30, total=  35.1s\n",
      "[CV] n_estimators=1000, min_samples_split=4, min_samples_leaf=2, max_features=auto, max_depth=70 \n",
      "[CV]  n_estimators=1000, min_samples_split=4, min_samples_leaf=2, max_features=auto, max_depth=70, total= 9.4min\n",
      "[CV] n_estimators=1000, min_samples_split=4, min_samples_leaf=2, max_features=auto, max_depth=70 \n",
      "[CV]  n_estimators=1000, min_samples_split=4, min_samples_leaf=2, max_features=auto, max_depth=70, total=10.1min\n",
      "[CV] n_estimators=1000, min_samples_split=4, min_samples_leaf=2, max_features=auto, max_depth=70 \n",
      "[CV]  n_estimators=1000, min_samples_split=4, min_samples_leaf=2, max_features=auto, max_depth=70, total= 9.5min\n",
      "[CV] n_estimators=500, min_samples_split=4, min_samples_leaf=5, max_features=auto, max_depth=70 \n",
      "[CV]  n_estimators=500, min_samples_split=4, min_samples_leaf=5, max_features=auto, max_depth=70, total= 3.7min\n",
      "[CV] n_estimators=500, min_samples_split=4, min_samples_leaf=5, max_features=auto, max_depth=70 \n",
      "[CV]  n_estimators=500, min_samples_split=4, min_samples_leaf=5, max_features=auto, max_depth=70, total= 4.1min\n",
      "[CV] n_estimators=500, min_samples_split=4, min_samples_leaf=5, max_features=auto, max_depth=70 \n",
      "[CV]  n_estimators=500, min_samples_split=4, min_samples_leaf=5, max_features=auto, max_depth=70, total= 3.9min\n",
      "[CV] n_estimators=1000, min_samples_split=3, min_samples_leaf=2, max_features=sqrt, max_depth=50 \n",
      "[CV]  n_estimators=1000, min_samples_split=3, min_samples_leaf=2, max_features=sqrt, max_depth=50, total= 1.4min\n",
      "[CV] n_estimators=1000, min_samples_split=3, min_samples_leaf=2, max_features=sqrt, max_depth=50 \n",
      "[CV]  n_estimators=1000, min_samples_split=3, min_samples_leaf=2, max_features=sqrt, max_depth=50, total= 1.4min\n",
      "[CV] n_estimators=1000, min_samples_split=3, min_samples_leaf=2, max_features=sqrt, max_depth=50 \n",
      "[CV]  n_estimators=1000, min_samples_split=3, min_samples_leaf=2, max_features=sqrt, max_depth=50, total= 1.4min\n",
      "[CV] n_estimators=1000, min_samples_split=3, min_samples_leaf=10, max_features=auto, max_depth=100 \n",
      "[CV]  n_estimators=1000, min_samples_split=3, min_samples_leaf=10, max_features=auto, max_depth=100, total= 6.5min\n",
      "[CV] n_estimators=1000, min_samples_split=3, min_samples_leaf=10, max_features=auto, max_depth=100 \n",
      "[CV]  n_estimators=1000, min_samples_split=3, min_samples_leaf=10, max_features=auto, max_depth=100, total= 6.6min\n",
      "[CV] n_estimators=1000, min_samples_split=3, min_samples_leaf=10, max_features=auto, max_depth=100 \n",
      "[CV]  n_estimators=1000, min_samples_split=3, min_samples_leaf=10, max_features=auto, max_depth=100, total= 6.2min\n",
      "[CV] n_estimators=1000, min_samples_split=3, min_samples_leaf=10, max_features=sqrt, max_depth=30 \n",
      "[CV]  n_estimators=1000, min_samples_split=3, min_samples_leaf=10, max_features=sqrt, max_depth=30, total=  56.8s\n",
      "[CV] n_estimators=1000, min_samples_split=3, min_samples_leaf=10, max_features=sqrt, max_depth=30 \n",
      "[CV]  n_estimators=1000, min_samples_split=3, min_samples_leaf=10, max_features=sqrt, max_depth=30, total=  55.8s\n",
      "[CV] n_estimators=1000, min_samples_split=3, min_samples_leaf=10, max_features=sqrt, max_depth=30 \n",
      "[CV]  n_estimators=1000, min_samples_split=3, min_samples_leaf=10, max_features=sqrt, max_depth=30, total=  55.9s\n",
      "[CV] n_estimators=500, min_samples_split=4, min_samples_leaf=10, max_features=sqrt, max_depth=70 \n",
      "[CV]  n_estimators=500, min_samples_split=4, min_samples_leaf=10, max_features=sqrt, max_depth=70, total=  28.0s\n",
      "[CV] n_estimators=500, min_samples_split=4, min_samples_leaf=10, max_features=sqrt, max_depth=70 \n"
     ]
    },
    {
     "name": "stdout",
     "output_type": "stream",
     "text": [
      "[CV]  n_estimators=500, min_samples_split=4, min_samples_leaf=10, max_features=sqrt, max_depth=70, total=  27.8s\n",
      "[CV] n_estimators=500, min_samples_split=4, min_samples_leaf=10, max_features=sqrt, max_depth=70 \n",
      "[CV]  n_estimators=500, min_samples_split=4, min_samples_leaf=10, max_features=sqrt, max_depth=70, total=  28.1s\n",
      "[CV] n_estimators=1000, min_samples_split=3, min_samples_leaf=5, max_features=auto, max_depth=30 \n",
      "[CV]  n_estimators=1000, min_samples_split=3, min_samples_leaf=5, max_features=auto, max_depth=30, total= 6.9min\n",
      "[CV] n_estimators=1000, min_samples_split=3, min_samples_leaf=5, max_features=auto, max_depth=30 \n",
      "[CV]  n_estimators=1000, min_samples_split=3, min_samples_leaf=5, max_features=auto, max_depth=30, total= 6.9min\n",
      "[CV] n_estimators=1000, min_samples_split=3, min_samples_leaf=5, max_features=auto, max_depth=30 \n",
      "[CV]  n_estimators=1000, min_samples_split=3, min_samples_leaf=5, max_features=auto, max_depth=30, total= 6.8min\n",
      "[CV] n_estimators=500, min_samples_split=4, min_samples_leaf=10, max_features=auto, max_depth=10 \n",
      "[CV]  n_estimators=500, min_samples_split=4, min_samples_leaf=10, max_features=auto, max_depth=10, total= 2.5min\n",
      "[CV] n_estimators=500, min_samples_split=4, min_samples_leaf=10, max_features=auto, max_depth=10 \n",
      "[CV]  n_estimators=500, min_samples_split=4, min_samples_leaf=10, max_features=auto, max_depth=10, total= 2.4min\n",
      "[CV] n_estimators=500, min_samples_split=4, min_samples_leaf=10, max_features=auto, max_depth=10 \n",
      "[CV]  n_estimators=500, min_samples_split=4, min_samples_leaf=10, max_features=auto, max_depth=10, total= 2.4min\n",
      "[CV] n_estimators=1000, min_samples_split=3, min_samples_leaf=10, max_features=auto, max_depth=30 \n",
      "[CV]  n_estimators=1000, min_samples_split=3, min_samples_leaf=10, max_features=auto, max_depth=30, total= 6.1min\n",
      "[CV] n_estimators=1000, min_samples_split=3, min_samples_leaf=10, max_features=auto, max_depth=30 \n",
      "[CV]  n_estimators=1000, min_samples_split=3, min_samples_leaf=10, max_features=auto, max_depth=30, total= 6.0min\n",
      "[CV] n_estimators=1000, min_samples_split=3, min_samples_leaf=10, max_features=auto, max_depth=30 \n",
      "[CV]  n_estimators=1000, min_samples_split=3, min_samples_leaf=10, max_features=auto, max_depth=30, total= 6.0min\n",
      "[CV] n_estimators=1000, min_samples_split=4, min_samples_leaf=10, max_features=auto, max_depth=70 \n",
      "[CV]  n_estimators=1000, min_samples_split=4, min_samples_leaf=10, max_features=auto, max_depth=70, total= 6.0min\n",
      "[CV] n_estimators=1000, min_samples_split=4, min_samples_leaf=10, max_features=auto, max_depth=70 \n",
      "[CV]  n_estimators=1000, min_samples_split=4, min_samples_leaf=10, max_features=auto, max_depth=70, total= 6.1min\n",
      "[CV] n_estimators=1000, min_samples_split=4, min_samples_leaf=10, max_features=auto, max_depth=70 \n",
      "[CV]  n_estimators=1000, min_samples_split=4, min_samples_leaf=10, max_features=auto, max_depth=70, total= 6.0min\n",
      "[CV] n_estimators=500, min_samples_split=2, min_samples_leaf=5, max_features=sqrt, max_depth=50 \n",
      "[CV]  n_estimators=500, min_samples_split=2, min_samples_leaf=5, max_features=sqrt, max_depth=50, total=  31.8s\n",
      "[CV] n_estimators=500, min_samples_split=2, min_samples_leaf=5, max_features=sqrt, max_depth=50 \n",
      "[CV]  n_estimators=500, min_samples_split=2, min_samples_leaf=5, max_features=sqrt, max_depth=50, total=  32.0s\n",
      "[CV] n_estimators=500, min_samples_split=2, min_samples_leaf=5, max_features=sqrt, max_depth=50 \n",
      "[CV]  n_estimators=500, min_samples_split=2, min_samples_leaf=5, max_features=sqrt, max_depth=50, total=  31.9s\n",
      "[CV] n_estimators=500, min_samples_split=3, min_samples_leaf=2, max_features=sqrt, max_depth=30 \n",
      "[CV]  n_estimators=500, min_samples_split=3, min_samples_leaf=2, max_features=sqrt, max_depth=30, total=  39.6s\n",
      "[CV] n_estimators=500, min_samples_split=3, min_samples_leaf=2, max_features=sqrt, max_depth=30 \n",
      "[CV]  n_estimators=500, min_samples_split=3, min_samples_leaf=2, max_features=sqrt, max_depth=30, total=  39.4s\n",
      "[CV] n_estimators=500, min_samples_split=3, min_samples_leaf=2, max_features=sqrt, max_depth=30 \n",
      "[CV]  n_estimators=500, min_samples_split=3, min_samples_leaf=2, max_features=sqrt, max_depth=30, total=  39.5s\n",
      "[CV] n_estimators=1000, min_samples_split=2, min_samples_leaf=5, max_features=sqrt, max_depth=50 \n",
      "[CV]  n_estimators=1000, min_samples_split=2, min_samples_leaf=5, max_features=sqrt, max_depth=50, total= 1.1min\n",
      "[CV] n_estimators=1000, min_samples_split=2, min_samples_leaf=5, max_features=sqrt, max_depth=50 \n",
      "[CV]  n_estimators=1000, min_samples_split=2, min_samples_leaf=5, max_features=sqrt, max_depth=50, total= 1.1min\n",
      "[CV] n_estimators=1000, min_samples_split=2, min_samples_leaf=5, max_features=sqrt, max_depth=50 \n",
      "[CV]  n_estimators=1000, min_samples_split=2, min_samples_leaf=5, max_features=sqrt, max_depth=50, total= 1.1min\n",
      "[CV] n_estimators=500, min_samples_split=2, min_samples_leaf=10, max_features=auto, max_depth=70 \n",
      "[CV]  n_estimators=500, min_samples_split=2, min_samples_leaf=10, max_features=auto, max_depth=70, total= 3.0min\n",
      "[CV] n_estimators=500, min_samples_split=2, min_samples_leaf=10, max_features=auto, max_depth=70 \n",
      "[CV]  n_estimators=500, min_samples_split=2, min_samples_leaf=10, max_features=auto, max_depth=70, total= 3.0min\n",
      "[CV] n_estimators=500, min_samples_split=2, min_samples_leaf=10, max_features=auto, max_depth=70 \n",
      "[CV]  n_estimators=500, min_samples_split=2, min_samples_leaf=10, max_features=auto, max_depth=70, total= 3.0min\n",
      "[CV] n_estimators=1000, min_samples_split=4, min_samples_leaf=10, max_features=sqrt, max_depth=70 \n",
      "[CV]  n_estimators=1000, min_samples_split=4, min_samples_leaf=10, max_features=sqrt, max_depth=70, total=  56.3s\n",
      "[CV] n_estimators=1000, min_samples_split=4, min_samples_leaf=10, max_features=sqrt, max_depth=70 \n",
      "[CV]  n_estimators=1000, min_samples_split=4, min_samples_leaf=10, max_features=sqrt, max_depth=70, total=  55.2s\n",
      "[CV] n_estimators=1000, min_samples_split=4, min_samples_leaf=10, max_features=sqrt, max_depth=70 \n",
      "[CV]  n_estimators=1000, min_samples_split=4, min_samples_leaf=10, max_features=sqrt, max_depth=70, total=  55.7s\n",
      "[CV] n_estimators=500, min_samples_split=2, min_samples_leaf=10, max_features=sqrt, max_depth=10 \n",
      "[CV]  n_estimators=500, min_samples_split=2, min_samples_leaf=10, max_features=sqrt, max_depth=10, total=  22.2s\n",
      "[CV] n_estimators=500, min_samples_split=2, min_samples_leaf=10, max_features=sqrt, max_depth=10 \n",
      "[CV]  n_estimators=500, min_samples_split=2, min_samples_leaf=10, max_features=sqrt, max_depth=10, total=  22.1s\n",
      "[CV] n_estimators=500, min_samples_split=2, min_samples_leaf=10, max_features=sqrt, max_depth=10 \n",
      "[CV]  n_estimators=500, min_samples_split=2, min_samples_leaf=10, max_features=sqrt, max_depth=10, total=  22.3s\n",
      "[CV] n_estimators=1000, min_samples_split=3, min_samples_leaf=5, max_features=auto, max_depth=10 \n",
      "[CV]  n_estimators=1000, min_samples_split=3, min_samples_leaf=5, max_features=auto, max_depth=10, total= 5.0min\n",
      "[CV] n_estimators=1000, min_samples_split=3, min_samples_leaf=5, max_features=auto, max_depth=10 \n",
      "[CV]  n_estimators=1000, min_samples_split=3, min_samples_leaf=5, max_features=auto, max_depth=10, total= 5.0min\n",
      "[CV] n_estimators=1000, min_samples_split=3, min_samples_leaf=5, max_features=auto, max_depth=10 \n",
      "[CV]  n_estimators=1000, min_samples_split=3, min_samples_leaf=5, max_features=auto, max_depth=10, total= 4.9min\n",
      "[CV] n_estimators=500, min_samples_split=4, min_samples_leaf=5, max_features=sqrt, max_depth=100 \n",
      "[CV]  n_estimators=500, min_samples_split=4, min_samples_leaf=5, max_features=sqrt, max_depth=100, total=  32.3s\n",
      "[CV] n_estimators=500, min_samples_split=4, min_samples_leaf=5, max_features=sqrt, max_depth=100 \n",
      "[CV]  n_estimators=500, min_samples_split=4, min_samples_leaf=5, max_features=sqrt, max_depth=100, total=  31.7s\n",
      "[CV] n_estimators=500, min_samples_split=4, min_samples_leaf=5, max_features=sqrt, max_depth=100 \n",
      "[CV]  n_estimators=500, min_samples_split=4, min_samples_leaf=5, max_features=sqrt, max_depth=100, total=  32.4s\n",
      "[CV] n_estimators=500, min_samples_split=2, min_samples_leaf=5, max_features=sqrt, max_depth=30 \n",
      "[CV]  n_estimators=500, min_samples_split=2, min_samples_leaf=5, max_features=sqrt, max_depth=30, total=  32.1s\n",
      "[CV] n_estimators=500, min_samples_split=2, min_samples_leaf=5, max_features=sqrt, max_depth=30 \n"
     ]
    },
    {
     "name": "stdout",
     "output_type": "stream",
     "text": [
      "[CV]  n_estimators=500, min_samples_split=2, min_samples_leaf=5, max_features=sqrt, max_depth=30, total=  32.0s\n",
      "[CV] n_estimators=500, min_samples_split=2, min_samples_leaf=5, max_features=sqrt, max_depth=30 \n",
      "[CV]  n_estimators=500, min_samples_split=2, min_samples_leaf=5, max_features=sqrt, max_depth=30, total=  31.9s\n",
      "[CV] n_estimators=500, min_samples_split=2, min_samples_leaf=2, max_features=sqrt, max_depth=10 \n",
      "[CV]  n_estimators=500, min_samples_split=2, min_samples_leaf=2, max_features=sqrt, max_depth=10, total=  23.3s\n",
      "[CV] n_estimators=500, min_samples_split=2, min_samples_leaf=2, max_features=sqrt, max_depth=10 \n",
      "[CV]  n_estimators=500, min_samples_split=2, min_samples_leaf=2, max_features=sqrt, max_depth=10, total=  23.2s\n",
      "[CV] n_estimators=500, min_samples_split=2, min_samples_leaf=2, max_features=sqrt, max_depth=10 \n",
      "[CV]  n_estimators=500, min_samples_split=2, min_samples_leaf=2, max_features=sqrt, max_depth=10, total=  22.8s\n",
      "[CV] n_estimators=500, min_samples_split=4, min_samples_leaf=2, max_features=auto, max_depth=100 \n",
      "[CV]  n_estimators=500, min_samples_split=4, min_samples_leaf=2, max_features=auto, max_depth=100, total= 4.0min\n",
      "[CV] n_estimators=500, min_samples_split=4, min_samples_leaf=2, max_features=auto, max_depth=100 \n",
      "[CV]  n_estimators=500, min_samples_split=4, min_samples_leaf=2, max_features=auto, max_depth=100, total= 4.0min\n",
      "[CV] n_estimators=500, min_samples_split=4, min_samples_leaf=2, max_features=auto, max_depth=100 \n",
      "[CV]  n_estimators=500, min_samples_split=4, min_samples_leaf=2, max_features=auto, max_depth=100, total= 4.0min\n",
      "[CV] n_estimators=1000, min_samples_split=4, min_samples_leaf=5, max_features=sqrt, max_depth=100 \n",
      "[CV]  n_estimators=1000, min_samples_split=4, min_samples_leaf=5, max_features=sqrt, max_depth=100, total= 1.1min\n",
      "[CV] n_estimators=1000, min_samples_split=4, min_samples_leaf=5, max_features=sqrt, max_depth=100 \n",
      "[CV]  n_estimators=1000, min_samples_split=4, min_samples_leaf=5, max_features=sqrt, max_depth=100, total= 1.1min\n",
      "[CV] n_estimators=1000, min_samples_split=4, min_samples_leaf=5, max_features=sqrt, max_depth=100 \n",
      "[CV]  n_estimators=1000, min_samples_split=4, min_samples_leaf=5, max_features=sqrt, max_depth=100, total= 1.1min\n",
      "[CV] n_estimators=1000, min_samples_split=2, min_samples_leaf=2, max_features=auto, max_depth=70 \n",
      "[CV]  n_estimators=1000, min_samples_split=2, min_samples_leaf=2, max_features=auto, max_depth=70, total= 8.0min\n",
      "[CV] n_estimators=1000, min_samples_split=2, min_samples_leaf=2, max_features=auto, max_depth=70 \n",
      "[CV]  n_estimators=1000, min_samples_split=2, min_samples_leaf=2, max_features=auto, max_depth=70, total= 8.0min\n",
      "[CV] n_estimators=1000, min_samples_split=2, min_samples_leaf=2, max_features=auto, max_depth=70 \n",
      "[CV]  n_estimators=1000, min_samples_split=2, min_samples_leaf=2, max_features=auto, max_depth=70, total= 8.0min\n",
      "[CV] n_estimators=1000, min_samples_split=2, min_samples_leaf=2, max_features=sqrt, max_depth=30 \n",
      "[CV]  n_estimators=1000, min_samples_split=2, min_samples_leaf=2, max_features=sqrt, max_depth=30, total= 1.3min\n",
      "[CV] n_estimators=1000, min_samples_split=2, min_samples_leaf=2, max_features=sqrt, max_depth=30 \n",
      "[CV]  n_estimators=1000, min_samples_split=2, min_samples_leaf=2, max_features=sqrt, max_depth=30, total= 1.3min\n",
      "[CV] n_estimators=1000, min_samples_split=2, min_samples_leaf=2, max_features=sqrt, max_depth=30 \n",
      "[CV]  n_estimators=1000, min_samples_split=2, min_samples_leaf=2, max_features=sqrt, max_depth=30, total= 1.3min\n",
      "[CV] n_estimators=500, min_samples_split=3, min_samples_leaf=10, max_features=sqrt, max_depth=70 \n",
      "[CV]  n_estimators=500, min_samples_split=3, min_samples_leaf=10, max_features=sqrt, max_depth=70, total=  28.1s\n",
      "[CV] n_estimators=500, min_samples_split=3, min_samples_leaf=10, max_features=sqrt, max_depth=70 \n",
      "[CV]  n_estimators=500, min_samples_split=3, min_samples_leaf=10, max_features=sqrt, max_depth=70, total=  27.9s\n",
      "[CV] n_estimators=500, min_samples_split=3, min_samples_leaf=10, max_features=sqrt, max_depth=70 \n",
      "[CV]  n_estimators=500, min_samples_split=3, min_samples_leaf=10, max_features=sqrt, max_depth=70, total=  27.7s\n",
      "[CV] n_estimators=500, min_samples_split=2, min_samples_leaf=2, max_features=sqrt, max_depth=70 \n",
      "[CV]  n_estimators=500, min_samples_split=2, min_samples_leaf=2, max_features=sqrt, max_depth=70, total=  39.6s\n",
      "[CV] n_estimators=500, min_samples_split=2, min_samples_leaf=2, max_features=sqrt, max_depth=70 \n",
      "[CV]  n_estimators=500, min_samples_split=2, min_samples_leaf=2, max_features=sqrt, max_depth=70, total=  39.7s\n",
      "[CV] n_estimators=500, min_samples_split=2, min_samples_leaf=2, max_features=sqrt, max_depth=70 \n",
      "[CV]  n_estimators=500, min_samples_split=2, min_samples_leaf=2, max_features=sqrt, max_depth=70, total=  39.7s\n",
      "[CV] n_estimators=500, min_samples_split=2, min_samples_leaf=10, max_features=sqrt, max_depth=30 \n",
      "[CV]  n_estimators=500, min_samples_split=2, min_samples_leaf=10, max_features=sqrt, max_depth=30, total=  28.2s\n",
      "[CV] n_estimators=500, min_samples_split=2, min_samples_leaf=10, max_features=sqrt, max_depth=30 \n",
      "[CV]  n_estimators=500, min_samples_split=2, min_samples_leaf=10, max_features=sqrt, max_depth=30, total=  28.4s\n",
      "[CV] n_estimators=500, min_samples_split=2, min_samples_leaf=10, max_features=sqrt, max_depth=30 \n",
      "[CV]  n_estimators=500, min_samples_split=2, min_samples_leaf=10, max_features=sqrt, max_depth=30, total=  27.8s\n",
      "[CV] n_estimators=1000, min_samples_split=4, min_samples_leaf=5, max_features=sqrt, max_depth=10 \n",
      "[CV]  n_estimators=1000, min_samples_split=4, min_samples_leaf=5, max_features=sqrt, max_depth=10, total=  44.9s\n",
      "[CV] n_estimators=1000, min_samples_split=4, min_samples_leaf=5, max_features=sqrt, max_depth=10 \n",
      "[CV]  n_estimators=1000, min_samples_split=4, min_samples_leaf=5, max_features=sqrt, max_depth=10, total=  44.9s\n",
      "[CV] n_estimators=1000, min_samples_split=4, min_samples_leaf=5, max_features=sqrt, max_depth=10 \n",
      "[CV]  n_estimators=1000, min_samples_split=4, min_samples_leaf=5, max_features=sqrt, max_depth=10, total=  44.6s\n",
      "[CV] n_estimators=1000, min_samples_split=3, min_samples_leaf=5, max_features=auto, max_depth=70 \n",
      "[CV]  n_estimators=1000, min_samples_split=3, min_samples_leaf=5, max_features=auto, max_depth=70, total= 6.8min\n",
      "[CV] n_estimators=1000, min_samples_split=3, min_samples_leaf=5, max_features=auto, max_depth=70 \n",
      "[CV]  n_estimators=1000, min_samples_split=3, min_samples_leaf=5, max_features=auto, max_depth=70, total= 6.8min\n",
      "[CV] n_estimators=1000, min_samples_split=3, min_samples_leaf=5, max_features=auto, max_depth=70 \n",
      "[CV]  n_estimators=1000, min_samples_split=3, min_samples_leaf=5, max_features=auto, max_depth=70, total= 6.8min\n",
      "[CV] n_estimators=1000, min_samples_split=4, min_samples_leaf=5, max_features=sqrt, max_depth=30 \n",
      "[CV]  n_estimators=1000, min_samples_split=4, min_samples_leaf=5, max_features=sqrt, max_depth=30, total= 1.1min\n",
      "[CV] n_estimators=1000, min_samples_split=4, min_samples_leaf=5, max_features=sqrt, max_depth=30 \n",
      "[CV]  n_estimators=1000, min_samples_split=4, min_samples_leaf=5, max_features=sqrt, max_depth=30, total= 1.1min\n",
      "[CV] n_estimators=1000, min_samples_split=4, min_samples_leaf=5, max_features=sqrt, max_depth=30 \n",
      "[CV]  n_estimators=1000, min_samples_split=4, min_samples_leaf=5, max_features=sqrt, max_depth=30, total= 1.1min\n",
      "[CV] n_estimators=1000, min_samples_split=2, min_samples_leaf=10, max_features=sqrt, max_depth=30 \n",
      "[CV]  n_estimators=1000, min_samples_split=2, min_samples_leaf=10, max_features=sqrt, max_depth=30, total=  55.9s\n",
      "[CV] n_estimators=1000, min_samples_split=2, min_samples_leaf=10, max_features=sqrt, max_depth=30 \n",
      "[CV]  n_estimators=1000, min_samples_split=2, min_samples_leaf=10, max_features=sqrt, max_depth=30, total=  55.5s\n",
      "[CV] n_estimators=1000, min_samples_split=2, min_samples_leaf=10, max_features=sqrt, max_depth=30 \n",
      "[CV]  n_estimators=1000, min_samples_split=2, min_samples_leaf=10, max_features=sqrt, max_depth=30, total=  55.3s\n",
      "[CV] n_estimators=1000, min_samples_split=2, min_samples_leaf=10, max_features=sqrt, max_depth=10 \n",
      "[CV]  n_estimators=1000, min_samples_split=2, min_samples_leaf=10, max_features=sqrt, max_depth=10, total=  44.3s\n",
      "[CV] n_estimators=1000, min_samples_split=2, min_samples_leaf=10, max_features=sqrt, max_depth=10 \n"
     ]
    },
    {
     "name": "stdout",
     "output_type": "stream",
     "text": [
      "[CV]  n_estimators=1000, min_samples_split=2, min_samples_leaf=10, max_features=sqrt, max_depth=10, total=  44.7s\n",
      "[CV] n_estimators=1000, min_samples_split=2, min_samples_leaf=10, max_features=sqrt, max_depth=10 \n",
      "[CV]  n_estimators=1000, min_samples_split=2, min_samples_leaf=10, max_features=sqrt, max_depth=10, total=  44.1s\n",
      "[CV] n_estimators=500, min_samples_split=2, min_samples_leaf=10, max_features=auto, max_depth=10 \n",
      "[CV]  n_estimators=500, min_samples_split=2, min_samples_leaf=10, max_features=auto, max_depth=10, total= 2.4min\n",
      "[CV] n_estimators=500, min_samples_split=2, min_samples_leaf=10, max_features=auto, max_depth=10 \n",
      "[CV]  n_estimators=500, min_samples_split=2, min_samples_leaf=10, max_features=auto, max_depth=10, total= 2.5min\n",
      "[CV] n_estimators=500, min_samples_split=2, min_samples_leaf=10, max_features=auto, max_depth=10 \n",
      "[CV]  n_estimators=500, min_samples_split=2, min_samples_leaf=10, max_features=auto, max_depth=10, total= 2.4min\n",
      "[CV] n_estimators=1000, min_samples_split=4, min_samples_leaf=2, max_features=auto, max_depth=30 \n",
      "[CV]  n_estimators=1000, min_samples_split=4, min_samples_leaf=2, max_features=auto, max_depth=30, total= 8.0min\n",
      "[CV] n_estimators=1000, min_samples_split=4, min_samples_leaf=2, max_features=auto, max_depth=30 \n",
      "[CV]  n_estimators=1000, min_samples_split=4, min_samples_leaf=2, max_features=auto, max_depth=30, total= 8.1min\n",
      "[CV] n_estimators=1000, min_samples_split=4, min_samples_leaf=2, max_features=auto, max_depth=30 \n",
      "[CV]  n_estimators=1000, min_samples_split=4, min_samples_leaf=2, max_features=auto, max_depth=30, total= 8.0min\n",
      "[CV] n_estimators=500, min_samples_split=4, min_samples_leaf=10, max_features=auto, max_depth=70 \n",
      "[CV]  n_estimators=500, min_samples_split=4, min_samples_leaf=10, max_features=auto, max_depth=70, total= 3.0min\n",
      "[CV] n_estimators=500, min_samples_split=4, min_samples_leaf=10, max_features=auto, max_depth=70 \n",
      "[CV]  n_estimators=500, min_samples_split=4, min_samples_leaf=10, max_features=auto, max_depth=70, total= 3.0min\n",
      "[CV] n_estimators=500, min_samples_split=4, min_samples_leaf=10, max_features=auto, max_depth=70 \n",
      "[CV]  n_estimators=500, min_samples_split=4, min_samples_leaf=10, max_features=auto, max_depth=70, total= 3.0min\n",
      "[CV] n_estimators=500, min_samples_split=4, min_samples_leaf=5, max_features=sqrt, max_depth=50 \n",
      "[CV]  n_estimators=500, min_samples_split=4, min_samples_leaf=5, max_features=sqrt, max_depth=50, total=  32.1s\n",
      "[CV] n_estimators=500, min_samples_split=4, min_samples_leaf=5, max_features=sqrt, max_depth=50 \n",
      "[CV]  n_estimators=500, min_samples_split=4, min_samples_leaf=5, max_features=sqrt, max_depth=50, total=  31.9s\n",
      "[CV] n_estimators=500, min_samples_split=4, min_samples_leaf=5, max_features=sqrt, max_depth=50 \n",
      "[CV]  n_estimators=500, min_samples_split=4, min_samples_leaf=5, max_features=sqrt, max_depth=50, total=  31.9s\n",
      "[CV] n_estimators=1000, min_samples_split=4, min_samples_leaf=10, max_features=auto, max_depth=100 \n",
      "[CV]  n_estimators=1000, min_samples_split=4, min_samples_leaf=10, max_features=auto, max_depth=100, total= 6.1min\n",
      "[CV] n_estimators=1000, min_samples_split=4, min_samples_leaf=10, max_features=auto, max_depth=100 \n",
      "[CV]  n_estimators=1000, min_samples_split=4, min_samples_leaf=10, max_features=auto, max_depth=100, total= 6.0min\n",
      "[CV] n_estimators=1000, min_samples_split=4, min_samples_leaf=10, max_features=auto, max_depth=100 \n",
      "[CV]  n_estimators=1000, min_samples_split=4, min_samples_leaf=10, max_features=auto, max_depth=100, total= 6.0min\n",
      "[CV] n_estimators=500, min_samples_split=2, min_samples_leaf=5, max_features=sqrt, max_depth=70 \n",
      "[CV]  n_estimators=500, min_samples_split=2, min_samples_leaf=5, max_features=sqrt, max_depth=70, total=  32.4s\n",
      "[CV] n_estimators=500, min_samples_split=2, min_samples_leaf=5, max_features=sqrt, max_depth=70 \n",
      "[CV]  n_estimators=500, min_samples_split=2, min_samples_leaf=5, max_features=sqrt, max_depth=70, total=  31.9s\n",
      "[CV] n_estimators=500, min_samples_split=2, min_samples_leaf=5, max_features=sqrt, max_depth=70 \n",
      "[CV]  n_estimators=500, min_samples_split=2, min_samples_leaf=5, max_features=sqrt, max_depth=70, total=  31.5s\n",
      "[CV] n_estimators=500, min_samples_split=2, min_samples_leaf=2, max_features=sqrt, max_depth=50 \n",
      "[CV]  n_estimators=500, min_samples_split=2, min_samples_leaf=2, max_features=sqrt, max_depth=50, total=  39.9s\n",
      "[CV] n_estimators=500, min_samples_split=2, min_samples_leaf=2, max_features=sqrt, max_depth=50 \n",
      "[CV]  n_estimators=500, min_samples_split=2, min_samples_leaf=2, max_features=sqrt, max_depth=50, total=  39.4s\n",
      "[CV] n_estimators=500, min_samples_split=2, min_samples_leaf=2, max_features=sqrt, max_depth=50 \n",
      "[CV]  n_estimators=500, min_samples_split=2, min_samples_leaf=2, max_features=sqrt, max_depth=50, total=  39.3s\n",
      "[CV] n_estimators=500, min_samples_split=3, min_samples_leaf=2, max_features=auto, max_depth=30 \n",
      "[CV]  n_estimators=500, min_samples_split=3, min_samples_leaf=2, max_features=auto, max_depth=30, total= 4.0min\n",
      "[CV] n_estimators=500, min_samples_split=3, min_samples_leaf=2, max_features=auto, max_depth=30 \n",
      "[CV]  n_estimators=500, min_samples_split=3, min_samples_leaf=2, max_features=auto, max_depth=30, total= 4.0min\n",
      "[CV] n_estimators=500, min_samples_split=3, min_samples_leaf=2, max_features=auto, max_depth=30 \n",
      "[CV]  n_estimators=500, min_samples_split=3, min_samples_leaf=2, max_features=auto, max_depth=30, total= 4.0min\n",
      "[CV] n_estimators=1000, min_samples_split=2, min_samples_leaf=5, max_features=sqrt, max_depth=100 \n",
      "[CV]  n_estimators=1000, min_samples_split=2, min_samples_leaf=5, max_features=sqrt, max_depth=100, total= 1.1min\n",
      "[CV] n_estimators=1000, min_samples_split=2, min_samples_leaf=5, max_features=sqrt, max_depth=100 \n",
      "[CV]  n_estimators=1000, min_samples_split=2, min_samples_leaf=5, max_features=sqrt, max_depth=100, total= 1.1min\n",
      "[CV] n_estimators=1000, min_samples_split=2, min_samples_leaf=5, max_features=sqrt, max_depth=100 \n",
      "[CV]  n_estimators=1000, min_samples_split=2, min_samples_leaf=5, max_features=sqrt, max_depth=100, total= 1.1min\n",
      "[CV] n_estimators=1000, min_samples_split=2, min_samples_leaf=5, max_features=auto, max_depth=70 \n",
      "[CV]  n_estimators=1000, min_samples_split=2, min_samples_leaf=5, max_features=auto, max_depth=70, total= 6.8min\n",
      "[CV] n_estimators=1000, min_samples_split=2, min_samples_leaf=5, max_features=auto, max_depth=70 \n",
      "[CV]  n_estimators=1000, min_samples_split=2, min_samples_leaf=5, max_features=auto, max_depth=70, total= 6.8min\n",
      "[CV] n_estimators=1000, min_samples_split=2, min_samples_leaf=5, max_features=auto, max_depth=70 \n",
      "[CV]  n_estimators=1000, min_samples_split=2, min_samples_leaf=5, max_features=auto, max_depth=70, total= 6.8min\n",
      "[CV] n_estimators=1000, min_samples_split=3, min_samples_leaf=5, max_features=sqrt, max_depth=100 \n",
      "[CV]  n_estimators=1000, min_samples_split=3, min_samples_leaf=5, max_features=sqrt, max_depth=100, total= 1.1min\n",
      "[CV] n_estimators=1000, min_samples_split=3, min_samples_leaf=5, max_features=sqrt, max_depth=100 \n",
      "[CV]  n_estimators=1000, min_samples_split=3, min_samples_leaf=5, max_features=sqrt, max_depth=100, total= 1.1min\n",
      "[CV] n_estimators=1000, min_samples_split=3, min_samples_leaf=5, max_features=sqrt, max_depth=100 \n",
      "[CV]  n_estimators=1000, min_samples_split=3, min_samples_leaf=5, max_features=sqrt, max_depth=100, total= 1.1min\n",
      "[CV] n_estimators=500, min_samples_split=2, min_samples_leaf=10, max_features=auto, max_depth=100 \n",
      "[CV]  n_estimators=500, min_samples_split=2, min_samples_leaf=10, max_features=auto, max_depth=100, total= 3.0min\n",
      "[CV] n_estimators=500, min_samples_split=2, min_samples_leaf=10, max_features=auto, max_depth=100 \n",
      "[CV]  n_estimators=500, min_samples_split=2, min_samples_leaf=10, max_features=auto, max_depth=100, total= 3.0min\n",
      "[CV] n_estimators=500, min_samples_split=2, min_samples_leaf=10, max_features=auto, max_depth=100 \n",
      "[CV]  n_estimators=500, min_samples_split=2, min_samples_leaf=10, max_features=auto, max_depth=100, total= 3.0min\n",
      "[CV] n_estimators=500, min_samples_split=3, min_samples_leaf=2, max_features=auto, max_depth=10 \n",
      "[CV]  n_estimators=500, min_samples_split=3, min_samples_leaf=2, max_features=auto, max_depth=10, total= 2.5min\n",
      "[CV] n_estimators=500, min_samples_split=3, min_samples_leaf=2, max_features=auto, max_depth=10 \n"
     ]
    },
    {
     "name": "stdout",
     "output_type": "stream",
     "text": [
      "[CV]  n_estimators=500, min_samples_split=3, min_samples_leaf=2, max_features=auto, max_depth=10, total= 2.5min\n",
      "[CV] n_estimators=500, min_samples_split=3, min_samples_leaf=2, max_features=auto, max_depth=10 \n",
      "[CV]  n_estimators=500, min_samples_split=3, min_samples_leaf=2, max_features=auto, max_depth=10, total= 2.5min\n",
      "[CV] n_estimators=500, min_samples_split=3, min_samples_leaf=10, max_features=sqrt, max_depth=100 \n",
      "[CV]  n_estimators=500, min_samples_split=3, min_samples_leaf=10, max_features=sqrt, max_depth=100, total=  27.7s\n",
      "[CV] n_estimators=500, min_samples_split=3, min_samples_leaf=10, max_features=sqrt, max_depth=100 \n",
      "[CV]  n_estimators=500, min_samples_split=3, min_samples_leaf=10, max_features=sqrt, max_depth=100, total=  27.8s\n",
      "[CV] n_estimators=500, min_samples_split=3, min_samples_leaf=10, max_features=sqrt, max_depth=100 \n",
      "[CV]  n_estimators=500, min_samples_split=3, min_samples_leaf=10, max_features=sqrt, max_depth=100, total=  27.9s\n",
      "[CV] n_estimators=500, min_samples_split=4, min_samples_leaf=5, max_features=auto, max_depth=30 \n",
      "[CV]  n_estimators=500, min_samples_split=4, min_samples_leaf=5, max_features=auto, max_depth=30, total= 3.4min\n",
      "[CV] n_estimators=500, min_samples_split=4, min_samples_leaf=5, max_features=auto, max_depth=30 \n",
      "[CV]  n_estimators=500, min_samples_split=4, min_samples_leaf=5, max_features=auto, max_depth=30, total= 3.4min\n",
      "[CV] n_estimators=500, min_samples_split=4, min_samples_leaf=5, max_features=auto, max_depth=30 \n",
      "[CV]  n_estimators=500, min_samples_split=4, min_samples_leaf=5, max_features=auto, max_depth=30, total= 3.4min\n",
      "[CV] n_estimators=1000, min_samples_split=2, min_samples_leaf=10, max_features=auto, max_depth=50 \n",
      "[CV]  n_estimators=1000, min_samples_split=2, min_samples_leaf=10, max_features=auto, max_depth=50, total= 6.0min\n",
      "[CV] n_estimators=1000, min_samples_split=2, min_samples_leaf=10, max_features=auto, max_depth=50 \n",
      "[CV]  n_estimators=1000, min_samples_split=2, min_samples_leaf=10, max_features=auto, max_depth=50, total= 6.0min\n",
      "[CV] n_estimators=1000, min_samples_split=2, min_samples_leaf=10, max_features=auto, max_depth=50 \n",
      "[CV]  n_estimators=1000, min_samples_split=2, min_samples_leaf=10, max_features=auto, max_depth=50, total= 6.0min\n",
      "[CV] n_estimators=500, min_samples_split=3, min_samples_leaf=5, max_features=auto, max_depth=100 \n",
      "[CV]  n_estimators=500, min_samples_split=3, min_samples_leaf=5, max_features=auto, max_depth=100, total= 3.4min\n",
      "[CV] n_estimators=500, min_samples_split=3, min_samples_leaf=5, max_features=auto, max_depth=100 \n",
      "[CV]  n_estimators=500, min_samples_split=3, min_samples_leaf=5, max_features=auto, max_depth=100, total= 3.4min\n",
      "[CV] n_estimators=500, min_samples_split=3, min_samples_leaf=5, max_features=auto, max_depth=100 \n",
      "[CV]  n_estimators=500, min_samples_split=3, min_samples_leaf=5, max_features=auto, max_depth=100, total= 3.4min\n",
      "[CV] n_estimators=500, min_samples_split=4, min_samples_leaf=5, max_features=auto, max_depth=50 \n",
      "[CV]  n_estimators=500, min_samples_split=4, min_samples_leaf=5, max_features=auto, max_depth=50, total= 3.4min\n",
      "[CV] n_estimators=500, min_samples_split=4, min_samples_leaf=5, max_features=auto, max_depth=50 \n",
      "[CV]  n_estimators=500, min_samples_split=4, min_samples_leaf=5, max_features=auto, max_depth=50, total= 3.4min\n",
      "[CV] n_estimators=500, min_samples_split=4, min_samples_leaf=5, max_features=auto, max_depth=50 \n",
      "[CV]  n_estimators=500, min_samples_split=4, min_samples_leaf=5, max_features=auto, max_depth=50, total= 3.4min\n",
      "[CV] n_estimators=1000, min_samples_split=3, min_samples_leaf=2, max_features=auto, max_depth=100 \n",
      "[CV]  n_estimators=1000, min_samples_split=3, min_samples_leaf=2, max_features=auto, max_depth=100, total= 8.0min\n",
      "[CV] n_estimators=1000, min_samples_split=3, min_samples_leaf=2, max_features=auto, max_depth=100 \n",
      "[CV]  n_estimators=1000, min_samples_split=3, min_samples_leaf=2, max_features=auto, max_depth=100, total= 8.0min\n",
      "[CV] n_estimators=1000, min_samples_split=3, min_samples_leaf=2, max_features=auto, max_depth=100 \n",
      "[CV]  n_estimators=1000, min_samples_split=3, min_samples_leaf=2, max_features=auto, max_depth=100, total= 8.0min\n",
      "[CV] n_estimators=500, min_samples_split=3, min_samples_leaf=5, max_features=sqrt, max_depth=10 \n",
      "[CV]  n_estimators=500, min_samples_split=3, min_samples_leaf=5, max_features=sqrt, max_depth=10, total=  22.5s\n",
      "[CV] n_estimators=500, min_samples_split=3, min_samples_leaf=5, max_features=sqrt, max_depth=10 \n",
      "[CV]  n_estimators=500, min_samples_split=3, min_samples_leaf=5, max_features=sqrt, max_depth=10, total=  22.3s\n",
      "[CV] n_estimators=500, min_samples_split=3, min_samples_leaf=5, max_features=sqrt, max_depth=10 \n",
      "[CV]  n_estimators=500, min_samples_split=3, min_samples_leaf=5, max_features=sqrt, max_depth=10, total=  22.8s\n",
      "[CV] n_estimators=1000, min_samples_split=4, min_samples_leaf=5, max_features=auto, max_depth=100 \n",
      "[CV]  n_estimators=1000, min_samples_split=4, min_samples_leaf=5, max_features=auto, max_depth=100, total= 6.8min\n",
      "[CV] n_estimators=1000, min_samples_split=4, min_samples_leaf=5, max_features=auto, max_depth=100 \n",
      "[CV]  n_estimators=1000, min_samples_split=4, min_samples_leaf=5, max_features=auto, max_depth=100, total= 6.8min\n",
      "[CV] n_estimators=1000, min_samples_split=4, min_samples_leaf=5, max_features=auto, max_depth=100 \n",
      "[CV]  n_estimators=1000, min_samples_split=4, min_samples_leaf=5, max_features=auto, max_depth=100, total= 6.7min\n",
      "[CV] n_estimators=500, min_samples_split=3, min_samples_leaf=5, max_features=sqrt, max_depth=50 \n",
      "[CV]  n_estimators=500, min_samples_split=3, min_samples_leaf=5, max_features=sqrt, max_depth=50, total=  32.5s\n",
      "[CV] n_estimators=500, min_samples_split=3, min_samples_leaf=5, max_features=sqrt, max_depth=50 \n",
      "[CV]  n_estimators=500, min_samples_split=3, min_samples_leaf=5, max_features=sqrt, max_depth=50, total=  31.9s\n",
      "[CV] n_estimators=500, min_samples_split=3, min_samples_leaf=5, max_features=sqrt, max_depth=50 \n",
      "[CV]  n_estimators=500, min_samples_split=3, min_samples_leaf=5, max_features=sqrt, max_depth=50, total=  31.9s\n",
      "[CV] n_estimators=1000, min_samples_split=3, min_samples_leaf=2, max_features=auto, max_depth=70 \n",
      "[CV]  n_estimators=1000, min_samples_split=3, min_samples_leaf=2, max_features=auto, max_depth=70, total= 8.0min\n",
      "[CV] n_estimators=1000, min_samples_split=3, min_samples_leaf=2, max_features=auto, max_depth=70 \n",
      "[CV]  n_estimators=1000, min_samples_split=3, min_samples_leaf=2, max_features=auto, max_depth=70, total= 8.0min\n",
      "[CV] n_estimators=1000, min_samples_split=3, min_samples_leaf=2, max_features=auto, max_depth=70 \n",
      "[CV]  n_estimators=1000, min_samples_split=3, min_samples_leaf=2, max_features=auto, max_depth=70, total= 8.0min\n",
      "[CV] n_estimators=500, min_samples_split=4, min_samples_leaf=2, max_features=auto, max_depth=50 \n",
      "[CV]  n_estimators=500, min_samples_split=4, min_samples_leaf=2, max_features=auto, max_depth=50, total= 4.0min\n",
      "[CV] n_estimators=500, min_samples_split=4, min_samples_leaf=2, max_features=auto, max_depth=50 \n",
      "[CV]  n_estimators=500, min_samples_split=4, min_samples_leaf=2, max_features=auto, max_depth=50, total= 4.0min\n",
      "[CV] n_estimators=500, min_samples_split=4, min_samples_leaf=2, max_features=auto, max_depth=50 \n",
      "[CV]  n_estimators=500, min_samples_split=4, min_samples_leaf=2, max_features=auto, max_depth=50, total= 4.0min\n",
      "[CV] n_estimators=500, min_samples_split=2, min_samples_leaf=2, max_features=auto, max_depth=30 \n",
      "[CV]  n_estimators=500, min_samples_split=2, min_samples_leaf=2, max_features=auto, max_depth=30, total= 4.0min\n",
      "[CV] n_estimators=500, min_samples_split=2, min_samples_leaf=2, max_features=auto, max_depth=30 \n",
      "[CV]  n_estimators=500, min_samples_split=2, min_samples_leaf=2, max_features=auto, max_depth=30, total= 4.0min\n",
      "[CV] n_estimators=500, min_samples_split=2, min_samples_leaf=2, max_features=auto, max_depth=30 \n",
      "[CV]  n_estimators=500, min_samples_split=2, min_samples_leaf=2, max_features=auto, max_depth=30, total= 4.0min\n",
      "[CV] n_estimators=500, min_samples_split=3, min_samples_leaf=2, max_features=sqrt, max_depth=100 \n",
      "[CV]  n_estimators=500, min_samples_split=3, min_samples_leaf=2, max_features=sqrt, max_depth=100, total=  39.4s\n",
      "[CV] n_estimators=500, min_samples_split=3, min_samples_leaf=2, max_features=sqrt, max_depth=100 \n"
     ]
    },
    {
     "name": "stdout",
     "output_type": "stream",
     "text": [
      "[CV]  n_estimators=500, min_samples_split=3, min_samples_leaf=2, max_features=sqrt, max_depth=100, total=  39.2s\n",
      "[CV] n_estimators=500, min_samples_split=3, min_samples_leaf=2, max_features=sqrt, max_depth=100 \n",
      "[CV]  n_estimators=500, min_samples_split=3, min_samples_leaf=2, max_features=sqrt, max_depth=100, total=  39.9s\n",
      "[CV] n_estimators=500, min_samples_split=4, min_samples_leaf=2, max_features=sqrt, max_depth=10 \n",
      "[CV]  n_estimators=500, min_samples_split=4, min_samples_leaf=2, max_features=sqrt, max_depth=10, total=  22.8s\n",
      "[CV] n_estimators=500, min_samples_split=4, min_samples_leaf=2, max_features=sqrt, max_depth=10 \n",
      "[CV]  n_estimators=500, min_samples_split=4, min_samples_leaf=2, max_features=sqrt, max_depth=10, total=  22.7s\n",
      "[CV] n_estimators=500, min_samples_split=4, min_samples_leaf=2, max_features=sqrt, max_depth=10 \n",
      "[CV]  n_estimators=500, min_samples_split=4, min_samples_leaf=2, max_features=sqrt, max_depth=10, total=  22.4s\n",
      "[CV] n_estimators=500, min_samples_split=3, min_samples_leaf=10, max_features=sqrt, max_depth=50 \n",
      "[CV]  n_estimators=500, min_samples_split=3, min_samples_leaf=10, max_features=sqrt, max_depth=50, total=  27.5s\n",
      "[CV] n_estimators=500, min_samples_split=3, min_samples_leaf=10, max_features=sqrt, max_depth=50 \n",
      "[CV]  n_estimators=500, min_samples_split=3, min_samples_leaf=10, max_features=sqrt, max_depth=50, total=  27.8s\n",
      "[CV] n_estimators=500, min_samples_split=3, min_samples_leaf=10, max_features=sqrt, max_depth=50 \n",
      "[CV]  n_estimators=500, min_samples_split=3, min_samples_leaf=10, max_features=sqrt, max_depth=50, total=  27.9s\n",
      "[CV] n_estimators=1000, min_samples_split=3, min_samples_leaf=2, max_features=auto, max_depth=50 \n",
      "[CV]  n_estimators=1000, min_samples_split=3, min_samples_leaf=2, max_features=auto, max_depth=50, total= 8.0min\n",
      "[CV] n_estimators=1000, min_samples_split=3, min_samples_leaf=2, max_features=auto, max_depth=50 \n",
      "[CV]  n_estimators=1000, min_samples_split=3, min_samples_leaf=2, max_features=auto, max_depth=50, total= 8.0min\n",
      "[CV] n_estimators=1000, min_samples_split=3, min_samples_leaf=2, max_features=auto, max_depth=50 \n",
      "[CV]  n_estimators=1000, min_samples_split=3, min_samples_leaf=2, max_features=auto, max_depth=50, total= 8.0min\n",
      "[CV] n_estimators=500, min_samples_split=3, min_samples_leaf=2, max_features=auto, max_depth=100 \n",
      "[CV]  n_estimators=500, min_samples_split=3, min_samples_leaf=2, max_features=auto, max_depth=100, total= 4.0min\n",
      "[CV] n_estimators=500, min_samples_split=3, min_samples_leaf=2, max_features=auto, max_depth=100 \n",
      "[CV]  n_estimators=500, min_samples_split=3, min_samples_leaf=2, max_features=auto, max_depth=100, total= 4.0min\n",
      "[CV] n_estimators=500, min_samples_split=3, min_samples_leaf=2, max_features=auto, max_depth=100 \n",
      "[CV]  n_estimators=500, min_samples_split=3, min_samples_leaf=2, max_features=auto, max_depth=100, total= 4.0min\n",
      "[CV] n_estimators=1000, min_samples_split=4, min_samples_leaf=5, max_features=auto, max_depth=10 \n",
      "[CV]  n_estimators=1000, min_samples_split=4, min_samples_leaf=5, max_features=auto, max_depth=10, total= 5.0min\n",
      "[CV] n_estimators=1000, min_samples_split=4, min_samples_leaf=5, max_features=auto, max_depth=10 \n",
      "[CV]  n_estimators=1000, min_samples_split=4, min_samples_leaf=5, max_features=auto, max_depth=10, total= 5.0min\n",
      "[CV] n_estimators=1000, min_samples_split=4, min_samples_leaf=5, max_features=auto, max_depth=10 \n",
      "[CV]  n_estimators=1000, min_samples_split=4, min_samples_leaf=5, max_features=auto, max_depth=10, total= 4.9min\n",
      "[CV] n_estimators=500, min_samples_split=2, min_samples_leaf=5, max_features=auto, max_depth=10 \n",
      "[CV]  n_estimators=500, min_samples_split=2, min_samples_leaf=5, max_features=auto, max_depth=10, total= 2.5min\n",
      "[CV] n_estimators=500, min_samples_split=2, min_samples_leaf=5, max_features=auto, max_depth=10 \n",
      "[CV]  n_estimators=500, min_samples_split=2, min_samples_leaf=5, max_features=auto, max_depth=10, total= 2.5min\n",
      "[CV] n_estimators=500, min_samples_split=2, min_samples_leaf=5, max_features=auto, max_depth=10 \n",
      "[CV]  n_estimators=500, min_samples_split=2, min_samples_leaf=5, max_features=auto, max_depth=10, total= 2.5min\n",
      "[CV] n_estimators=1000, min_samples_split=3, min_samples_leaf=5, max_features=sqrt, max_depth=10 \n",
      "[CV]  n_estimators=1000, min_samples_split=3, min_samples_leaf=5, max_features=sqrt, max_depth=10, total=  45.3s\n",
      "[CV] n_estimators=1000, min_samples_split=3, min_samples_leaf=5, max_features=sqrt, max_depth=10 \n",
      "[CV]  n_estimators=1000, min_samples_split=3, min_samples_leaf=5, max_features=sqrt, max_depth=10, total=  45.3s\n",
      "[CV] n_estimators=1000, min_samples_split=3, min_samples_leaf=5, max_features=sqrt, max_depth=10 \n",
      "[CV]  n_estimators=1000, min_samples_split=3, min_samples_leaf=5, max_features=sqrt, max_depth=10, total=  44.6s\n",
      "[CV] n_estimators=500, min_samples_split=4, min_samples_leaf=2, max_features=auto, max_depth=70 \n",
      "[CV]  n_estimators=500, min_samples_split=4, min_samples_leaf=2, max_features=auto, max_depth=70, total= 4.0min\n",
      "[CV] n_estimators=500, min_samples_split=4, min_samples_leaf=2, max_features=auto, max_depth=70 \n",
      "[CV]  n_estimators=500, min_samples_split=4, min_samples_leaf=2, max_features=auto, max_depth=70, total= 4.0min\n",
      "[CV] n_estimators=500, min_samples_split=4, min_samples_leaf=2, max_features=auto, max_depth=70 \n",
      "[CV]  n_estimators=500, min_samples_split=4, min_samples_leaf=2, max_features=auto, max_depth=70, total= 4.0min\n",
      "[CV] n_estimators=500, min_samples_split=4, min_samples_leaf=2, max_features=auto, max_depth=10 \n",
      "[CV]  n_estimators=500, min_samples_split=4, min_samples_leaf=2, max_features=auto, max_depth=10, total= 2.5min\n",
      "[CV] n_estimators=500, min_samples_split=4, min_samples_leaf=2, max_features=auto, max_depth=10 \n",
      "[CV]  n_estimators=500, min_samples_split=4, min_samples_leaf=2, max_features=auto, max_depth=10, total= 2.5min\n",
      "[CV] n_estimators=500, min_samples_split=4, min_samples_leaf=2, max_features=auto, max_depth=10 \n",
      "[CV]  n_estimators=500, min_samples_split=4, min_samples_leaf=2, max_features=auto, max_depth=10, total= 2.5min\n",
      "[CV] n_estimators=500, min_samples_split=3, min_samples_leaf=10, max_features=sqrt, max_depth=10 \n",
      "[CV]  n_estimators=500, min_samples_split=3, min_samples_leaf=10, max_features=sqrt, max_depth=10, total=  22.0s\n",
      "[CV] n_estimators=500, min_samples_split=3, min_samples_leaf=10, max_features=sqrt, max_depth=10 \n",
      "[CV]  n_estimators=500, min_samples_split=3, min_samples_leaf=10, max_features=sqrt, max_depth=10, total=  22.0s\n",
      "[CV] n_estimators=500, min_samples_split=3, min_samples_leaf=10, max_features=sqrt, max_depth=10 \n",
      "[CV]  n_estimators=500, min_samples_split=3, min_samples_leaf=10, max_features=sqrt, max_depth=10, total=  21.9s\n",
      "[CV] n_estimators=1000, min_samples_split=4, min_samples_leaf=5, max_features=sqrt, max_depth=50 \n",
      "[CV]  n_estimators=1000, min_samples_split=4, min_samples_leaf=5, max_features=sqrt, max_depth=50, total= 1.1min\n",
      "[CV] n_estimators=1000, min_samples_split=4, min_samples_leaf=5, max_features=sqrt, max_depth=50 \n",
      "[CV]  n_estimators=1000, min_samples_split=4, min_samples_leaf=5, max_features=sqrt, max_depth=50, total= 1.1min\n",
      "[CV] n_estimators=1000, min_samples_split=4, min_samples_leaf=5, max_features=sqrt, max_depth=50 \n",
      "[CV]  n_estimators=1000, min_samples_split=4, min_samples_leaf=5, max_features=sqrt, max_depth=50, total= 1.1min\n",
      "[CV] n_estimators=500, min_samples_split=3, min_samples_leaf=2, max_features=sqrt, max_depth=70 \n",
      "[CV]  n_estimators=500, min_samples_split=3, min_samples_leaf=2, max_features=sqrt, max_depth=70, total=  39.8s\n",
      "[CV] n_estimators=500, min_samples_split=3, min_samples_leaf=2, max_features=sqrt, max_depth=70 \n",
      "[CV]  n_estimators=500, min_samples_split=3, min_samples_leaf=2, max_features=sqrt, max_depth=70, total=  39.5s\n",
      "[CV] n_estimators=500, min_samples_split=3, min_samples_leaf=2, max_features=sqrt, max_depth=70 \n",
      "[CV]  n_estimators=500, min_samples_split=3, min_samples_leaf=2, max_features=sqrt, max_depth=70, total=  39.7s\n",
      "[CV] n_estimators=1000, min_samples_split=4, min_samples_leaf=2, max_features=sqrt, max_depth=50 \n",
      "[CV]  n_estimators=1000, min_samples_split=4, min_samples_leaf=2, max_features=sqrt, max_depth=50, total= 1.3min\n",
      "[CV] n_estimators=1000, min_samples_split=4, min_samples_leaf=2, max_features=sqrt, max_depth=50 \n"
     ]
    },
    {
     "name": "stdout",
     "output_type": "stream",
     "text": [
      "[CV]  n_estimators=1000, min_samples_split=4, min_samples_leaf=2, max_features=sqrt, max_depth=50, total= 1.3min\n",
      "[CV] n_estimators=1000, min_samples_split=4, min_samples_leaf=2, max_features=sqrt, max_depth=50 \n",
      "[CV]  n_estimators=1000, min_samples_split=4, min_samples_leaf=2, max_features=sqrt, max_depth=50, total= 1.3min\n",
      "[CV] n_estimators=500, min_samples_split=4, min_samples_leaf=5, max_features=auto, max_depth=10 \n",
      "[CV]  n_estimators=500, min_samples_split=4, min_samples_leaf=5, max_features=auto, max_depth=10, total= 2.5min\n",
      "[CV] n_estimators=500, min_samples_split=4, min_samples_leaf=5, max_features=auto, max_depth=10 \n",
      "[CV]  n_estimators=500, min_samples_split=4, min_samples_leaf=5, max_features=auto, max_depth=10, total= 2.5min\n",
      "[CV] n_estimators=500, min_samples_split=4, min_samples_leaf=5, max_features=auto, max_depth=10 \n",
      "[CV]  n_estimators=500, min_samples_split=4, min_samples_leaf=5, max_features=auto, max_depth=10, total= 2.5min\n",
      "[CV] n_estimators=500, min_samples_split=2, min_samples_leaf=5, max_features=auto, max_depth=70 \n",
      "[CV]  n_estimators=500, min_samples_split=2, min_samples_leaf=5, max_features=auto, max_depth=70, total= 3.4min\n",
      "[CV] n_estimators=500, min_samples_split=2, min_samples_leaf=5, max_features=auto, max_depth=70 \n",
      "[CV]  n_estimators=500, min_samples_split=2, min_samples_leaf=5, max_features=auto, max_depth=70, total= 3.4min\n",
      "[CV] n_estimators=500, min_samples_split=2, min_samples_leaf=5, max_features=auto, max_depth=70 \n",
      "[CV]  n_estimators=500, min_samples_split=2, min_samples_leaf=5, max_features=auto, max_depth=70, total= 3.4min\n",
      "[CV] n_estimators=1000, min_samples_split=2, min_samples_leaf=5, max_features=sqrt, max_depth=70 \n",
      "[CV]  n_estimators=1000, min_samples_split=2, min_samples_leaf=5, max_features=sqrt, max_depth=70, total= 1.1min\n",
      "[CV] n_estimators=1000, min_samples_split=2, min_samples_leaf=5, max_features=sqrt, max_depth=70 \n",
      "[CV]  n_estimators=1000, min_samples_split=2, min_samples_leaf=5, max_features=sqrt, max_depth=70, total= 1.1min\n",
      "[CV] n_estimators=1000, min_samples_split=2, min_samples_leaf=5, max_features=sqrt, max_depth=70 \n",
      "[CV]  n_estimators=1000, min_samples_split=2, min_samples_leaf=5, max_features=sqrt, max_depth=70, total= 1.1min\n",
      "[CV] n_estimators=500, min_samples_split=2, min_samples_leaf=2, max_features=auto, max_depth=10 \n",
      "[CV]  n_estimators=500, min_samples_split=2, min_samples_leaf=2, max_features=auto, max_depth=10, total= 2.5min\n",
      "[CV] n_estimators=500, min_samples_split=2, min_samples_leaf=2, max_features=auto, max_depth=10 \n",
      "[CV]  n_estimators=500, min_samples_split=2, min_samples_leaf=2, max_features=auto, max_depth=10, total= 2.5min\n",
      "[CV] n_estimators=500, min_samples_split=2, min_samples_leaf=2, max_features=auto, max_depth=10 \n",
      "[CV]  n_estimators=500, min_samples_split=2, min_samples_leaf=2, max_features=auto, max_depth=10, total= 2.5min\n",
      "[CV] n_estimators=500, min_samples_split=4, min_samples_leaf=5, max_features=sqrt, max_depth=70 \n",
      "[CV]  n_estimators=500, min_samples_split=4, min_samples_leaf=5, max_features=sqrt, max_depth=70, total=  31.6s\n",
      "[CV] n_estimators=500, min_samples_split=4, min_samples_leaf=5, max_features=sqrt, max_depth=70 \n",
      "[CV]  n_estimators=500, min_samples_split=4, min_samples_leaf=5, max_features=sqrt, max_depth=70, total=  31.7s\n",
      "[CV] n_estimators=500, min_samples_split=4, min_samples_leaf=5, max_features=sqrt, max_depth=70 \n",
      "[CV]  n_estimators=500, min_samples_split=4, min_samples_leaf=5, max_features=sqrt, max_depth=70, total=  31.6s\n",
      "[CV] n_estimators=500, min_samples_split=4, min_samples_leaf=10, max_features=sqrt, max_depth=30 \n",
      "[CV]  n_estimators=500, min_samples_split=4, min_samples_leaf=10, max_features=sqrt, max_depth=30, total=  27.9s\n",
      "[CV] n_estimators=500, min_samples_split=4, min_samples_leaf=10, max_features=sqrt, max_depth=30 \n",
      "[CV]  n_estimators=500, min_samples_split=4, min_samples_leaf=10, max_features=sqrt, max_depth=30, total=  28.0s\n",
      "[CV] n_estimators=500, min_samples_split=4, min_samples_leaf=10, max_features=sqrt, max_depth=30 \n",
      "[CV]  n_estimators=500, min_samples_split=4, min_samples_leaf=10, max_features=sqrt, max_depth=30, total=  27.7s\n",
      "[CV] n_estimators=500, min_samples_split=4, min_samples_leaf=5, max_features=sqrt, max_depth=30 \n",
      "[CV]  n_estimators=500, min_samples_split=4, min_samples_leaf=5, max_features=sqrt, max_depth=30, total=  31.9s\n",
      "[CV] n_estimators=500, min_samples_split=4, min_samples_leaf=5, max_features=sqrt, max_depth=30 \n",
      "[CV]  n_estimators=500, min_samples_split=4, min_samples_leaf=5, max_features=sqrt, max_depth=30, total=  31.4s\n",
      "[CV] n_estimators=500, min_samples_split=4, min_samples_leaf=5, max_features=sqrt, max_depth=30 \n",
      "[CV]  n_estimators=500, min_samples_split=4, min_samples_leaf=5, max_features=sqrt, max_depth=30, total=  31.7s\n",
      "[CV] n_estimators=500, min_samples_split=3, min_samples_leaf=5, max_features=auto, max_depth=30 \n",
      "[CV]  n_estimators=500, min_samples_split=3, min_samples_leaf=5, max_features=auto, max_depth=30, total= 3.4min\n",
      "[CV] n_estimators=500, min_samples_split=3, min_samples_leaf=5, max_features=auto, max_depth=30 \n",
      "[CV]  n_estimators=500, min_samples_split=3, min_samples_leaf=5, max_features=auto, max_depth=30, total= 3.4min\n",
      "[CV] n_estimators=500, min_samples_split=3, min_samples_leaf=5, max_features=auto, max_depth=30 \n",
      "[CV]  n_estimators=500, min_samples_split=3, min_samples_leaf=5, max_features=auto, max_depth=30, total= 3.4min\n",
      "[CV] n_estimators=1000, min_samples_split=3, min_samples_leaf=10, max_features=auto, max_depth=70 \n",
      "[CV]  n_estimators=1000, min_samples_split=3, min_samples_leaf=10, max_features=auto, max_depth=70, total= 6.0min\n",
      "[CV] n_estimators=1000, min_samples_split=3, min_samples_leaf=10, max_features=auto, max_depth=70 \n",
      "[CV]  n_estimators=1000, min_samples_split=3, min_samples_leaf=10, max_features=auto, max_depth=70, total= 6.0min\n",
      "[CV] n_estimators=1000, min_samples_split=3, min_samples_leaf=10, max_features=auto, max_depth=70 \n",
      "[CV]  n_estimators=1000, min_samples_split=3, min_samples_leaf=10, max_features=auto, max_depth=70, total= 6.0min\n",
      "[CV] n_estimators=500, min_samples_split=4, min_samples_leaf=5, max_features=sqrt, max_depth=10 \n",
      "[CV]  n_estimators=500, min_samples_split=4, min_samples_leaf=5, max_features=sqrt, max_depth=10, total=  23.1s\n",
      "[CV] n_estimators=500, min_samples_split=4, min_samples_leaf=5, max_features=sqrt, max_depth=10 \n",
      "[CV]  n_estimators=500, min_samples_split=4, min_samples_leaf=5, max_features=sqrt, max_depth=10, total=  22.3s\n",
      "[CV] n_estimators=500, min_samples_split=4, min_samples_leaf=5, max_features=sqrt, max_depth=10 \n",
      "[CV]  n_estimators=500, min_samples_split=4, min_samples_leaf=5, max_features=sqrt, max_depth=10, total=  22.3s\n",
      "[CV] n_estimators=500, min_samples_split=4, min_samples_leaf=2, max_features=auto, max_depth=30 \n",
      "[CV]  n_estimators=500, min_samples_split=4, min_samples_leaf=2, max_features=auto, max_depth=30, total= 4.0min\n",
      "[CV] n_estimators=500, min_samples_split=4, min_samples_leaf=2, max_features=auto, max_depth=30 \n",
      "[CV]  n_estimators=500, min_samples_split=4, min_samples_leaf=2, max_features=auto, max_depth=30, total= 4.0min\n",
      "[CV] n_estimators=500, min_samples_split=4, min_samples_leaf=2, max_features=auto, max_depth=30 \n",
      "[CV]  n_estimators=500, min_samples_split=4, min_samples_leaf=2, max_features=auto, max_depth=30, total= 4.0min\n",
      "[CV] n_estimators=500, min_samples_split=2, min_samples_leaf=10, max_features=sqrt, max_depth=70 \n",
      "[CV]  n_estimators=500, min_samples_split=2, min_samples_leaf=10, max_features=sqrt, max_depth=70, total=  27.6s\n",
      "[CV] n_estimators=500, min_samples_split=2, min_samples_leaf=10, max_features=sqrt, max_depth=70 \n",
      "[CV]  n_estimators=500, min_samples_split=2, min_samples_leaf=10, max_features=sqrt, max_depth=70, total=  27.7s\n",
      "[CV] n_estimators=500, min_samples_split=2, min_samples_leaf=10, max_features=sqrt, max_depth=70 \n",
      "[CV]  n_estimators=500, min_samples_split=2, min_samples_leaf=10, max_features=sqrt, max_depth=70, total=  27.5s\n",
      "[CV] n_estimators=1000, min_samples_split=2, min_samples_leaf=10, max_features=sqrt, max_depth=70 \n",
      "[CV]  n_estimators=1000, min_samples_split=2, min_samples_leaf=10, max_features=sqrt, max_depth=70, total=  55.5s\n",
      "[CV] n_estimators=1000, min_samples_split=2, min_samples_leaf=10, max_features=sqrt, max_depth=70 \n",
      "[CV]  n_estimators=1000, min_samples_split=2, min_samples_leaf=10, max_features=sqrt, max_depth=70, total=  55.6s\n",
      "[CV] n_estimators=1000, min_samples_split=2, min_samples_leaf=10, max_features=sqrt, max_depth=70 \n"
     ]
    },
    {
     "name": "stdout",
     "output_type": "stream",
     "text": [
      "[CV]  n_estimators=1000, min_samples_split=2, min_samples_leaf=10, max_features=sqrt, max_depth=70, total=  55.2s\n",
      "[CV] n_estimators=1000, min_samples_split=2, min_samples_leaf=5, max_features=sqrt, max_depth=10 \n",
      "[CV]  n_estimators=1000, min_samples_split=2, min_samples_leaf=5, max_features=sqrt, max_depth=10, total=  44.9s\n",
      "[CV] n_estimators=1000, min_samples_split=2, min_samples_leaf=5, max_features=sqrt, max_depth=10 \n",
      "[CV]  n_estimators=1000, min_samples_split=2, min_samples_leaf=5, max_features=sqrt, max_depth=10, total=  45.1s\n",
      "[CV] n_estimators=1000, min_samples_split=2, min_samples_leaf=5, max_features=sqrt, max_depth=10 \n",
      "[CV]  n_estimators=1000, min_samples_split=2, min_samples_leaf=5, max_features=sqrt, max_depth=10, total=  45.1s\n",
      "[CV] n_estimators=1000, min_samples_split=4, min_samples_leaf=2, max_features=sqrt, max_depth=10 \n",
      "[CV]  n_estimators=1000, min_samples_split=4, min_samples_leaf=2, max_features=sqrt, max_depth=10, total=  45.7s\n",
      "[CV] n_estimators=1000, min_samples_split=4, min_samples_leaf=2, max_features=sqrt, max_depth=10 \n",
      "[CV]  n_estimators=1000, min_samples_split=4, min_samples_leaf=2, max_features=sqrt, max_depth=10, total=  45.9s\n",
      "[CV] n_estimators=1000, min_samples_split=4, min_samples_leaf=2, max_features=sqrt, max_depth=10 \n",
      "[CV]  n_estimators=1000, min_samples_split=4, min_samples_leaf=2, max_features=sqrt, max_depth=10, total=  44.9s\n",
      "[CV] n_estimators=500, min_samples_split=2, min_samples_leaf=2, max_features=auto, max_depth=100 \n",
      "[CV]  n_estimators=500, min_samples_split=2, min_samples_leaf=2, max_features=auto, max_depth=100, total= 4.0min\n",
      "[CV] n_estimators=500, min_samples_split=2, min_samples_leaf=2, max_features=auto, max_depth=100 \n",
      "[CV]  n_estimators=500, min_samples_split=2, min_samples_leaf=2, max_features=auto, max_depth=100, total= 4.0min\n",
      "[CV] n_estimators=500, min_samples_split=2, min_samples_leaf=2, max_features=auto, max_depth=100 \n",
      "[CV]  n_estimators=500, min_samples_split=2, min_samples_leaf=2, max_features=auto, max_depth=100, total= 4.0min\n",
      "[CV] n_estimators=1000, min_samples_split=3, min_samples_leaf=5, max_features=auto, max_depth=50 \n",
      "[CV]  n_estimators=1000, min_samples_split=3, min_samples_leaf=5, max_features=auto, max_depth=50, total= 6.8min\n",
      "[CV] n_estimators=1000, min_samples_split=3, min_samples_leaf=5, max_features=auto, max_depth=50 \n",
      "[CV]  n_estimators=1000, min_samples_split=3, min_samples_leaf=5, max_features=auto, max_depth=50, total= 6.8min\n",
      "[CV] n_estimators=1000, min_samples_split=3, min_samples_leaf=5, max_features=auto, max_depth=50 \n",
      "[CV]  n_estimators=1000, min_samples_split=3, min_samples_leaf=5, max_features=auto, max_depth=50, total= 6.7min\n",
      "[CV] n_estimators=1000, min_samples_split=2, min_samples_leaf=5, max_features=auto, max_depth=50 \n",
      "[CV]  n_estimators=1000, min_samples_split=2, min_samples_leaf=5, max_features=auto, max_depth=50, total= 6.8min\n",
      "[CV] n_estimators=1000, min_samples_split=2, min_samples_leaf=5, max_features=auto, max_depth=50 \n",
      "[CV]  n_estimators=1000, min_samples_split=2, min_samples_leaf=5, max_features=auto, max_depth=50, total= 6.8min\n",
      "[CV] n_estimators=1000, min_samples_split=2, min_samples_leaf=5, max_features=auto, max_depth=50 \n",
      "[CV]  n_estimators=1000, min_samples_split=2, min_samples_leaf=5, max_features=auto, max_depth=50, total= 6.8min\n",
      "[CV] n_estimators=500, min_samples_split=2, min_samples_leaf=10, max_features=auto, max_depth=50 \n",
      "[CV]  n_estimators=500, min_samples_split=2, min_samples_leaf=10, max_features=auto, max_depth=50, total= 3.0min\n",
      "[CV] n_estimators=500, min_samples_split=2, min_samples_leaf=10, max_features=auto, max_depth=50 \n",
      "[CV]  n_estimators=500, min_samples_split=2, min_samples_leaf=10, max_features=auto, max_depth=50, total= 3.0min\n",
      "[CV] n_estimators=500, min_samples_split=2, min_samples_leaf=10, max_features=auto, max_depth=50 \n",
      "[CV]  n_estimators=500, min_samples_split=2, min_samples_leaf=10, max_features=auto, max_depth=50, total= 3.0min\n",
      "[CV] n_estimators=1000, min_samples_split=3, min_samples_leaf=2, max_features=auto, max_depth=30 \n",
      "[CV]  n_estimators=1000, min_samples_split=3, min_samples_leaf=2, max_features=auto, max_depth=30, total= 8.0min\n",
      "[CV] n_estimators=1000, min_samples_split=3, min_samples_leaf=2, max_features=auto, max_depth=30 \n",
      "[CV]  n_estimators=1000, min_samples_split=3, min_samples_leaf=2, max_features=auto, max_depth=30, total= 8.0min\n",
      "[CV] n_estimators=1000, min_samples_split=3, min_samples_leaf=2, max_features=auto, max_depth=30 \n",
      "[CV]  n_estimators=1000, min_samples_split=3, min_samples_leaf=2, max_features=auto, max_depth=30, total= 8.0min\n",
      "[CV] n_estimators=500, min_samples_split=2, min_samples_leaf=2, max_features=auto, max_depth=70 \n",
      "[CV]  n_estimators=500, min_samples_split=2, min_samples_leaf=2, max_features=auto, max_depth=70, total= 4.0min\n",
      "[CV] n_estimators=500, min_samples_split=2, min_samples_leaf=2, max_features=auto, max_depth=70 \n",
      "[CV]  n_estimators=500, min_samples_split=2, min_samples_leaf=2, max_features=auto, max_depth=70, total= 4.0min\n",
      "[CV] n_estimators=500, min_samples_split=2, min_samples_leaf=2, max_features=auto, max_depth=70 \n",
      "[CV]  n_estimators=500, min_samples_split=2, min_samples_leaf=2, max_features=auto, max_depth=70, total= 4.0min\n"
     ]
    },
    {
     "name": "stderr",
     "output_type": "stream",
     "text": [
      "[Parallel(n_jobs=1)]: Done 300 out of 300 | elapsed: 881.7min finished\n"
     ]
    }
   ],
   "source": [
    "#import pickle\n",
    "# Import the model we are using\n",
    "from sklearn.ensemble import RandomForestRegressor\n",
    "from sklearn.model_selection import RandomizedSearchCV\n",
    "# Instantiate model with 1000 decision trees\n",
    "rf = RandomForestRegressor()\n",
    "rf_random = RandomizedSearchCV(estimator = rf, param_distributions = random_grid,\n",
    "                               n_iter = 100, cv = 3, verbose=2, random_state=42)\n",
    "# Train the model on training data\n",
    "rf_random.fit(Train_X, Train_Y);\n",
    "# save the model to disk\n",
    "#filename = 'StoreModelUSPA_iter1.sav'\n",
    "#pickle.dump(rf, open(filename, 'wb'))"
   ]
  },
  {
   "cell_type": "code",
   "execution_count": 36,
   "metadata": {},
   "outputs": [],
   "source": [
    "Test_X.to_csv(\"D:\\\\USPA - Demand Planning v2\\\\Store v2\\\\TestData.csv\")"
   ]
  },
  {
   "cell_type": "code",
   "execution_count": 48,
   "metadata": {},
   "outputs": [],
   "source": [
    "TestX = pd.read_csv(\"D:\\\\USPA - Demand Planning v2\\\\Store v2\\\\TestData_updated.csv\")"
   ]
  },
  {
   "cell_type": "code",
   "execution_count": 53,
   "metadata": {},
   "outputs": [
    {
     "name": "stdout",
     "output_type": "stream",
     "text": [
      "['Year', 'Mon', 'Return Perc GSV', 'Return Perc volume', 'Avg_Discount percentage', 'Discounted volume', 'eoss_flag', 'eoss_days', 'isfirstmonth', 'ltl_gsv', 'LTL_netqty', 'Ugadi_Fest', 'Bihu_Fest', 'Ramzan_Fest', 'Ganesh_Chaturthi', 'Dusherra_Fest', 'Diwali_Fest', 'Christmas_Fest', 'New_Year_Fest', 'Holi', 'Labor_Day_Fest', 'Gandhi_Jayanthi_Day_Fest', 'Good_Friday_Fest', 'Raksha_Bandhan_Fest', 'Eid', 'Prev Period Growth', 'Prev Yr Growth', 'Total_fest', 'core_stock', 'current_stock', 'old_stock', 'core_stock_lm', 'current_stock_lm', 'old_stock_lm', 'AGE', 'CARPET AREA', 'Total Stock', 'NetQty_Lag1', 'NetQty_Lag2', 'NetQty_Lag3', 'NetQty_Lag4', 'NetQty_Lag5', 'NetQty_Lag6', 'NetQty_Lag7', 'NetQty_Lag8', 'NetQty_Lag9', 'NetQty_Lag10', 'NetQty_Lag11', 'TotalStock_Lag1', 'TotalStock_Lag2', 'TotalStock_Lag3', 'TotalStock_Lag4', 'TotalStock_Lag5', 'TotalStock_Lag6', 'TotalStock_Lag7', 'TotalStock_Lag8', 'TotalStock_Lag9', 'TotalStock_Lag10', 'TotalStock_Lag11', 'Discount_Lag1', 'Discount_Lag2', 'Discount_Lag3', 'Discount_Lag4', 'Discount_Lag5', 'Discount_Lag6', 'Discount_Lag7', 'Discount_Lag8', 'Discount_Lag9', 'Discount_Lag10', 'Discount_Lag11', 'gsv_Lag1', 'gsv_Lag2', 'gsv_Lag3', 'gsv_Lag4', 'gsv_Lag5', 'gsv_Lag6', 'gsv_Lag7', 'gsv_Lag8', 'gsv_Lag9', 'gsv_Lag10', 'gsv_Lag11', 'Return_Lag1', 'Return_Lag2', 'Return_Lag3', 'Return_Lag4', 'Return_Lag5', 'Return_Lag6', 'Return_Lag7', 'Return_Lag8', 'Return_Lag9', 'Return_Lag10', 'Return_Lag11', 'SUBBRAND_UD', 'SUBBRAND_US', 'MATERIALTYPE_JN', 'MATERIALTYPE_SH', 'MATERIALTYPE_TR', 'MATERIALTYPE_TS', 'TERRITORY_BIHAR-JH', 'TERRITORY_CG', 'TERRITORY_DELHINCR', 'TERRITORY_EASTUP', 'TERRITORY_GUJARAT', 'TERRITORY_HARYANA', 'TERRITORY_HYD', 'TERRITORY_KA 1', 'TERRITORY_KA 2', 'TERRITORY_KERALA', 'TERRITORY_MP', 'TERRITORY_MUMBAI CENTRAL', 'TERRITORY_MUMBAI WEST', 'TERRITORY_NORTH-EAST', 'TERRITORY_OD', 'TERRITORY_PUNJAB+', 'TERRITORY_RAJASTHAN', 'TERRITORY_ROAT', 'TERRITORY_ROM', 'TERRITORY_TN', 'TERRITORY_WB', 'TERRITORY_WUP+UKH', 'TIER_M', 'TIER_T1', 'TIER_T2', 'TIER_T3']\n"
     ]
    }
   ],
   "source": [
    "columns= Train_X.columns.tolist()\n",
    "print(columns)"
   ]
  },
  {
   "cell_type": "code",
   "execution_count": 54,
   "metadata": {},
   "outputs": [],
   "source": [
    "TestX2 = TestX[columns]"
   ]
  },
  {
   "cell_type": "code",
   "execution_count": 25,
   "metadata": {},
   "outputs": [],
   "source": [
    "predictions = best_xgb_model.predict(Test_X)"
   ]
  },
  {
   "cell_type": "code",
   "execution_count": 236,
   "metadata": {},
   "outputs": [],
   "source": [
    "pred= np.exp(predictions)\n",
    "np.savetxt(\"D:\\\\USPA - Demand Planning v2\\\\Store\\\\Regression\\\\Results\\\\Predictions_11.csv\",pred)"
   ]
  },
  {
   "cell_type": "code",
   "execution_count": 2,
   "metadata": {},
   "outputs": [
    {
     "ename": "NameError",
     "evalue": "name 'best_xgb_model' is not defined",
     "output_type": "error",
     "traceback": [
      "\u001b[1;31m---------------------------------------------------------------------------\u001b[0m",
      "\u001b[1;31mNameError\u001b[0m                                 Traceback (most recent call last)",
      "\u001b[1;32m<ipython-input-2-945966bf8c78>\u001b[0m in \u001b[0;36m<module>\u001b[1;34m\u001b[0m\n\u001b[0;32m      1\u001b[0m \u001b[1;32mimport\u001b[0m \u001b[0mpandas\u001b[0m \u001b[1;32mas\u001b[0m \u001b[0mpd\u001b[0m\u001b[1;33m\u001b[0m\u001b[1;33m\u001b[0m\u001b[0m\n\u001b[1;32m----> 2\u001b[1;33m feature_importances = pd.DataFrame(best_xgb_model.feature_importances_,\n\u001b[0m\u001b[0;32m      3\u001b[0m                                    \u001b[0mindex\u001b[0m \u001b[1;33m=\u001b[0m \u001b[0mTrain_X\u001b[0m\u001b[1;33m.\u001b[0m\u001b[0mcolumns\u001b[0m\u001b[1;33m,\u001b[0m\u001b[1;33m\u001b[0m\u001b[1;33m\u001b[0m\u001b[0m\n\u001b[0;32m      4\u001b[0m                                     columns=['importance']).sort_values('importance',ascending=False)\n\u001b[0;32m      5\u001b[0m \u001b[0mprint\u001b[0m\u001b[1;33m(\u001b[0m\u001b[0mfeature_importances\u001b[0m\u001b[1;33m)\u001b[0m\u001b[1;33m\u001b[0m\u001b[1;33m\u001b[0m\u001b[0m\n",
      "\u001b[1;31mNameError\u001b[0m: name 'best_xgb_model' is not defined"
     ]
    }
   ],
   "source": [
    "import pandas as pd\n",
    "feature_importances = pd.DataFrame(best_xgb_model.feature_importances_,\n",
    "                                   index = Train_X.columns,\n",
    "                                    columns=['importance']).sort_values('importance',ascending=False)\n",
    "print(feature_importances)\n",
    "feature_importances.to_csv(\"feature_importances.csv\")"
   ]
  },
  {
   "cell_type": "code",
   "execution_count": 26,
   "metadata": {},
   "outputs": [],
   "source": [
    "Predction = pd.DataFrame(predictions, columns = ['Prediction'])"
   ]
  },
  {
   "cell_type": "code",
   "execution_count": 27,
   "metadata": {},
   "outputs": [
    {
     "name": "stdout",
     "output_type": "stream",
     "text": [
      "(4472, 126)\n",
      "(4472, 1)\n"
     ]
    }
   ],
   "source": [
    "print(Test_X.shape)\n",
    "print(Predction.shape)"
   ]
  },
  {
   "cell_type": "code",
   "execution_count": 30,
   "metadata": {},
   "outputs": [
    {
     "name": "stdout",
     "output_type": "stream",
     "text": [
      "(46065, 101)\n",
      "(4472, 101)\n"
     ]
    }
   ],
   "source": [
    "Training = Data[(Data['month'] > 201612) & (Data['month'] < 201908)]\n",
    "Test1 = Data[(Data['month'] > 201908) & (Data['month'] <= 201912) ]\n",
    "Test = Test1\n",
    "Test.drop(['New Store code','month'],axis=1)\n",
    "print(Training.shape)\n",
    "print(Test1.shape)"
   ]
  },
  {
   "cell_type": "code",
   "execution_count": 31,
   "metadata": {},
   "outputs": [
    {
     "name": "stdout",
     "output_type": "stream",
     "text": [
      "(4472, 101)\n",
      "(4472, 1)\n"
     ]
    }
   ],
   "source": [
    "print(Test1.shape)\n",
    "print(Predction.shape)"
   ]
  },
  {
   "cell_type": "code",
   "execution_count": 34,
   "metadata": {},
   "outputs": [],
   "source": [
    "#Test['sum_gsv'] = np.log(Test1['sum_gsv'])\n",
    "Final = pd.concat([Test1.reset_index(drop=True), Predction], axis=1)"
   ]
  },
  {
   "cell_type": "code",
   "execution_count": 35,
   "metadata": {},
   "outputs": [
    {
     "data": {
      "text/plain": [
       "Index(['New Store code', 'SUBBRAND', 'MATERIALTYPE', 'month', 'Year',\n",
       "       'Discount bucket', 'Discount volume bucket', 'Mon', 'Sum_netqty',\n",
       "       'Return Perc GSV',\n",
       "       ...\n",
       "       'Return_Lag2', 'Return_Lag3', 'Return_Lag4', 'Return_Lag5',\n",
       "       'Return_Lag6', 'Return_Lag7', 'Return_Lag8', 'Return_Lag9',\n",
       "       'Return_Lag10', 'Return_Lag11'],\n",
       "      dtype='object', length=101)"
      ]
     },
     "execution_count": 35,
     "metadata": {},
     "output_type": "execute_result"
    }
   ],
   "source": [
    "Test1.columns"
   ]
  },
  {
   "cell_type": "code",
   "execution_count": 204,
   "metadata": {},
   "outputs": [],
   "source": [
    "#Test['sum_gsv'] = np.log(Test['sum_gsv'])"
   ]
  },
  {
   "cell_type": "code",
   "execution_count": 36,
   "metadata": {},
   "outputs": [
    {
     "data": {
      "text/plain": [
       "Index(['New Store code', 'SUBBRAND', 'MATERIALTYPE', 'month', 'Year',\n",
       "       'Discount bucket', 'Discount volume bucket', 'Mon', 'Sum_netqty',\n",
       "       'Return Perc GSV',\n",
       "       ...\n",
       "       'Return_Lag3', 'Return_Lag4', 'Return_Lag5', 'Return_Lag6',\n",
       "       'Return_Lag7', 'Return_Lag8', 'Return_Lag9', 'Return_Lag10',\n",
       "       'Return_Lag11', 'Prediction'],\n",
       "      dtype='object', length=102)"
      ]
     },
     "execution_count": 36,
     "metadata": {},
     "output_type": "execute_result"
    }
   ],
   "source": [
    "Final.columns"
   ]
  },
  {
   "cell_type": "code",
   "execution_count": 37,
   "metadata": {},
   "outputs": [],
   "source": [
    "#Final['Actuals'] = np.exp(Final['sum_gsv'])\n",
    "Final['Predicted'] = np.exp(Final['Prediction'])"
   ]
  },
  {
   "cell_type": "code",
   "execution_count": 39,
   "metadata": {},
   "outputs": [],
   "source": [
    "Final.to_csv(\"D:\\\\USPA - Demand Planning v2\\\\Store v2\\\\3. Results\\\\Cat class\\\\XGB_12_23_It1.csv\")"
   ]
  }
 ],
 "metadata": {
  "kernelspec": {
   "display_name": "Python 3",
   "language": "python",
   "name": "python3"
  },
  "language_info": {
   "codemirror_mode": {
    "name": "ipython",
    "version": 3
   },
   "file_extension": ".py",
   "mimetype": "text/x-python",
   "name": "python",
   "nbconvert_exporter": "python",
   "pygments_lexer": "ipython3",
   "version": "3.7.3"
  }
 },
 "nbformat": 4,
 "nbformat_minor": 2
}
